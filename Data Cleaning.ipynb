{
 "cells": [
  {
   "cell_type": "code",
   "execution_count": 31,
   "metadata": {},
   "outputs": [],
   "source": [
    "import numpy as np\n",
    "import pandas as pd\n",
    "from sklearn.neighbors import NearestNeighbors\n",
    "\n",
    "import sqlite3\n",
    "\n",
    "from IPython.display import display, HTML\n",
    "\n",
    "#REferences: https://towardsdatascience.com/data-handling-using-pandas-cleaning-and-processing-3aa657dc9418\n",
    "#Dataset: https://www.kaggle.com/hugomathien/soccer?"
   ]
  },
  {
   "cell_type": "code",
   "execution_count": 32,
   "metadata": {},
   "outputs": [],
   "source": [
    "with sqlite3.connect('datasets/fifa_database.sqlite') as con:\n",
    "    countries = pd.read_sql_query(\"SELECT * from Country\", con)\n",
    "    matches = pd.read_sql_query(\"SELECT * from Match\", con)\n",
    "    leagues = pd.read_sql_query(\"SELECT * from League\", con)\n",
    "    teams = pd.read_sql_query(\"SELECT * from Team\", con)\n",
    "    player = pd.read_sql_query(\"SELECT * from Player\",con)\n",
    "    player_attributes = pd.read_sql_query(\"SELECT * from Player_Attributes\",con)\n",
    "    sequence = pd.read_sql_query(\"SELECT * from sqlite_sequence\",con)\n",
    "    team_attributes = pd.read_sql_query(\"SELECT * from Team_Attributes\",con)"
   ]
  },
  {
   "cell_type": "code",
   "execution_count": 7,
   "metadata": {},
   "outputs": [
    {
     "name": "stdout",
     "output_type": "stream",
     "text": [
      "183978\n"
     ]
    }
   ],
   "source": [
    "df = player_attributes\n",
    "df.head(5)\n",
    "print(len(df))"
   ]
  },
  {
   "cell_type": "code",
   "execution_count": 12,
   "metadata": {},
   "outputs": [
    {
     "data": {
      "text/html": [
       "<div>\n",
       "<style scoped>\n",
       "    .dataframe tbody tr th:only-of-type {\n",
       "        vertical-align: middle;\n",
       "    }\n",
       "\n",
       "    .dataframe tbody tr th {\n",
       "        vertical-align: top;\n",
       "    }\n",
       "\n",
       "    .dataframe thead th {\n",
       "        text-align: right;\n",
       "    }\n",
       "</style>\n",
       "<table border=\"1\" class=\"dataframe\">\n",
       "  <thead>\n",
       "    <tr style=\"text-align: right;\">\n",
       "      <th></th>\n",
       "      <th>id</th>\n",
       "      <th>player_api_id</th>\n",
       "      <th>player_name</th>\n",
       "      <th>player_fifa_api_id</th>\n",
       "      <th>birthday</th>\n",
       "      <th>height</th>\n",
       "      <th>weight</th>\n",
       "    </tr>\n",
       "  </thead>\n",
       "  <tbody>\n",
       "    <tr>\n",
       "      <th>6169</th>\n",
       "      <td>6176</td>\n",
       "      <td>30981</td>\n",
       "      <td>Lionel Messi</td>\n",
       "      <td>158023</td>\n",
       "      <td>1987-06-24 00:00:00</td>\n",
       "      <td>170.18</td>\n",
       "      <td>159</td>\n",
       "    </tr>\n",
       "  </tbody>\n",
       "</table>\n",
       "</div>"
      ],
      "text/plain": [
       "        id  player_api_id   player_name  player_fifa_api_id  \\\n",
       "6169  6176          30981  Lionel Messi              158023   \n",
       "\n",
       "                 birthday  height  weight  \n",
       "6169  1987-06-24 00:00:00  170.18     159  "
      ]
     },
     "execution_count": 12,
     "metadata": {},
     "output_type": "execute_result"
    }
   ],
   "source": [
    "player[player.player_fifa_api_id==158023]"
   ]
  },
  {
   "cell_type": "code",
   "execution_count": 13,
   "metadata": {},
   "outputs": [],
   "source": [
    "player.to_csv('datasets/fifa_player_raw.csv', index=False)"
   ]
  },
  {
   "cell_type": "markdown",
   "metadata": {},
   "source": [
    "## Remove unecessary columns"
   ]
  },
  {
   "cell_type": "code",
   "execution_count": 33,
   "metadata": {},
   "outputs": [],
   "source": [
    "df = pd.read_csv('datasets/shawn_processed.csv')"
   ]
  },
  {
   "cell_type": "markdown",
   "metadata": {},
   "source": [
    "## Data overview"
   ]
  },
  {
   "cell_type": "code",
   "execution_count": 34,
   "metadata": {},
   "outputs": [
    {
     "name": "stdout",
     "output_type": "stream",
     "text": [
      "id                     0\n",
      "player_fifa_api_id     0\n",
      "player_api_id          0\n",
      "date                   0\n",
      "overall_rating         0\n",
      "potential              0\n",
      "preferred_foot         0\n",
      "attacking_work_rate    0\n",
      "defensive_work_rate    0\n",
      "crossing               0\n",
      "finishing              0\n",
      "heading_accuracy       0\n",
      "short_passing          0\n",
      "volleys                0\n",
      "dribbling              0\n",
      "curve                  0\n",
      "free_kick_accuracy     0\n",
      "long_passing           0\n",
      "ball_control           0\n",
      "acceleration           0\n",
      "sprint_speed           0\n",
      "agility                0\n",
      "reactions              0\n",
      "balance                0\n",
      "shot_power             0\n",
      "jumping                0\n",
      "stamina                0\n",
      "strength               0\n",
      "long_shots             0\n",
      "aggression             0\n",
      "interceptions          0\n",
      "positioning            0\n",
      "vision                 0\n",
      "penalties              0\n",
      "marking                0\n",
      "standing_tackle        0\n",
      "sliding_tackle         0\n",
      "gk_diving              0\n",
      "gk_handling            0\n",
      "gk_kicking             0\n",
      "gk_positioning         0\n",
      "gk_reflexes            0\n",
      "player_positions       0\n",
      "player_name            0\n",
      "height                 0\n",
      "weight                 0\n",
      "dtype: int64\n",
      "percentage of rows with missing data is  0 %\n"
     ]
    },
    {
     "data": {
      "text/html": [
       "<div>\n",
       "<style scoped>\n",
       "    .dataframe tbody tr th:only-of-type {\n",
       "        vertical-align: middle;\n",
       "    }\n",
       "\n",
       "    .dataframe tbody tr th {\n",
       "        vertical-align: top;\n",
       "    }\n",
       "\n",
       "    .dataframe thead th {\n",
       "        text-align: right;\n",
       "    }\n",
       "</style>\n",
       "<table border=\"1\" class=\"dataframe\">\n",
       "  <thead>\n",
       "    <tr style=\"text-align: right;\">\n",
       "      <th></th>\n",
       "      <th>id</th>\n",
       "      <th>player_fifa_api_id</th>\n",
       "      <th>player_api_id</th>\n",
       "      <th>date</th>\n",
       "      <th>overall_rating</th>\n",
       "      <th>potential</th>\n",
       "      <th>preferred_foot</th>\n",
       "      <th>attacking_work_rate</th>\n",
       "      <th>defensive_work_rate</th>\n",
       "      <th>crossing</th>\n",
       "      <th>...</th>\n",
       "      <th>sliding_tackle</th>\n",
       "      <th>gk_diving</th>\n",
       "      <th>gk_handling</th>\n",
       "      <th>gk_kicking</th>\n",
       "      <th>gk_positioning</th>\n",
       "      <th>gk_reflexes</th>\n",
       "      <th>player_positions</th>\n",
       "      <th>player_name</th>\n",
       "      <th>height</th>\n",
       "      <th>weight</th>\n",
       "    </tr>\n",
       "  </thead>\n",
       "  <tbody>\n",
       "  </tbody>\n",
       "</table>\n",
       "<p>0 rows × 46 columns</p>\n",
       "</div>"
      ],
      "text/plain": [
       "Empty DataFrame\n",
       "Columns: [id, player_fifa_api_id, player_api_id, date, overall_rating, potential, preferred_foot, attacking_work_rate, defensive_work_rate, crossing, finishing, heading_accuracy, short_passing, volleys, dribbling, curve, free_kick_accuracy, long_passing, ball_control, acceleration, sprint_speed, agility, reactions, balance, shot_power, jumping, stamina, strength, long_shots, aggression, interceptions, positioning, vision, penalties, marking, standing_tackle, sliding_tackle, gk_diving, gk_handling, gk_kicking, gk_positioning, gk_reflexes, player_positions, player_name, height, weight]\n",
       "Index: []\n",
       "\n",
       "[0 rows x 46 columns]"
      ]
     },
     "metadata": {},
     "output_type": "display_data"
    }
   ],
   "source": [
    "#missing Values\n",
    "print(df.isna().sum())\n",
    "\n",
    "df_rows_with_na = df[df.isna().any(axis=1)]\n",
    "print(\"percentage of rows with missing data is \", len(df_rows_with_na)*100//len(df), \"%\" )\n",
    "\n",
    "display(df[df[\"volleys\"].isna()])"
   ]
  },
  {
   "cell_type": "markdown",
   "metadata": {},
   "source": [
    "## Wrong Data Values"
   ]
  },
  {
   "cell_type": "markdown",
   "metadata": {},
   "source": [
    "### Categorial Variables "
   ]
  },
  {
   "cell_type": "code",
   "execution_count": 35,
   "metadata": {},
   "outputs": [
    {
     "name": "stdout",
     "output_type": "stream",
     "text": [
      "preferred_foot ['right' 'left']\n",
      "attacking_work_rate ['medium' 'high' 'low' 'None']\n",
      "defensive_work_rate ['medium' 'high' 'low' '1' '0' '4' '5' '6' '9' '7' '2' '3']\n"
     ]
    }
   ],
   "source": [
    "# Print all unique values\n",
    "categorial_columns = ['preferred_foot', 'attacking_work_rate', 'defensive_work_rate']\n",
    "for c in categorial_columns:\n",
    "    print(c, df[c].unique())\n",
    "    \n",
    "# Come up with a set of possible values\n",
    "pos_values_preferred_foot = ['right', 'left']\n",
    "pos_values_attacking_work =['medium', 'high', 'low']\n",
    "pos_values_defensive_work = ['medium', 'high', 'low']\n"
   ]
  },
  {
   "cell_type": "code",
   "execution_count": 36,
   "metadata": {
    "scrolled": false
   },
   "outputs": [],
   "source": [
    "# Note: there are None and \"None\" values\n",
    "def analysePossValues(df, cat_name, pos_values):\n",
    "    \n",
    "    valid_rows = df.loc[df[cat_name].isin(pos_values)]\n",
    "    invalid_rows = df.loc[df[cat_name].isin(pos_values) == False]\n",
    "    print(\"percentage of invalid rows is\", len(invalid_rows)*100//len(df), \"%\")\n",
    "    \n",
    "    #check distribution\n",
    "    valid_rows[cat_name].value_counts().plot(kind='bar')\n",
    "\n",
    "def subWithMode(df, cat_name, pos_values):\n",
    "    print('values before change\\n', df[cat_name].value_counts())\n",
    "    \n",
    "    valid_rows = df.loc[df[cat_name].isin(pos_values)]\n",
    "    value_counts = valid_rows[cat_name].value_counts()\n",
    "    mode_label = value_counts.idxmax()\n",
    "    print('mode label is', mode_label)\n",
    "    \n",
    "    df.loc[df[cat_name].isin(pos_values) == False, cat_name] = mode_label\n",
    "    print('values after change\\n', df[cat_name].value_counts())\n",
    "    return df\n",
    "    \n",
    "    \n",
    "    \n"
   ]
  },
  {
   "cell_type": "code",
   "execution_count": 37,
   "metadata": {},
   "outputs": [
    {
     "name": "stdout",
     "output_type": "stream",
     "text": [
      "values before change\n",
      " right    4805\n",
      "left     1553\n",
      "Name: preferred_foot, dtype: int64\n",
      "mode label is right\n",
      "values after change\n",
      " right    4805\n",
      "left     1553\n",
      "Name: preferred_foot, dtype: int64\n",
      "values before change\n",
      " medium    4159\n",
      "high      1797\n",
      "low        314\n",
      "None        88\n",
      "Name: attacking_work_rate, dtype: int64\n",
      "mode label is medium\n",
      "values after change\n",
      " medium    4247\n",
      "high      1797\n",
      "low        314\n",
      "Name: attacking_work_rate, dtype: int64\n",
      "values before change\n",
      " medium    4520\n",
      "high      1134\n",
      "low        616\n",
      "1           23\n",
      "2           15\n",
      "7           10\n",
      "0           10\n",
      "5            9\n",
      "6            7\n",
      "3            6\n",
      "9            5\n",
      "4            3\n",
      "Name: defensive_work_rate, dtype: int64\n",
      "mode label is medium\n",
      "values after change\n",
      " medium    4608\n",
      "high      1134\n",
      "low        616\n",
      "Name: defensive_work_rate, dtype: int64\n",
      "medium    4608\n",
      "high      1134\n",
      "low        616\n",
      "Name: defensive_work_rate, dtype: int64\n"
     ]
    }
   ],
   "source": [
    "df = subWithMode(df,'preferred_foot' , pos_values_preferred_foot)\n",
    "df = subWithMode(df,'attacking_work_rate' , pos_values_attacking_work)\n",
    "df = subWithMode(df,'defensive_work_rate' , pos_values_defensive_work)\n",
    "print(df['defensive_work_rate'].value_counts())"
   ]
  },
  {
   "cell_type": "markdown",
   "metadata": {},
   "source": [
    "### Numerical Variables"
   ]
  },
  {
   "cell_type": "code",
   "execution_count": 38,
   "metadata": {},
   "outputs": [
    {
     "name": "stdout",
     "output_type": "stream",
     "text": [
      "curve                 float64\n",
      "volleys               float64\n",
      "ball_control          float64\n",
      "interceptions         float64\n",
      "player_positions       object\n",
      "short_passing         float64\n",
      "gk_positioning        float64\n",
      "strength              float64\n",
      "gk_diving             float64\n",
      "gk_reflexes           float64\n",
      "sliding_tackle        float64\n",
      "finishing             float64\n",
      "weight                  int64\n",
      "date                   object\n",
      "long_passing          float64\n",
      "sprint_speed          float64\n",
      "aggression            float64\n",
      "gk_kicking            float64\n",
      "id                      int64\n",
      "gk_handling           float64\n",
      "overall_rating        float64\n",
      "player_api_id           int64\n",
      "reactions             float64\n",
      "stamina               float64\n",
      "potential             float64\n",
      "balance               float64\n",
      "agility               float64\n",
      "shot_power            float64\n",
      "crossing              float64\n",
      "jumping               float64\n",
      "player_name            object\n",
      "marking               float64\n",
      "long_shots            float64\n",
      "heading_accuracy      float64\n",
      "standing_tackle       float64\n",
      "height                float64\n",
      "free_kick_accuracy    float64\n",
      "positioning           float64\n",
      "dribbling             float64\n",
      "penalties             float64\n",
      "acceleration          float64\n",
      "vision                float64\n",
      "dtype: object\n"
     ]
    },
    {
     "data": {
      "text/html": [
       "<div>\n",
       "<style scoped>\n",
       "    .dataframe tbody tr th:only-of-type {\n",
       "        vertical-align: middle;\n",
       "    }\n",
       "\n",
       "    .dataframe tbody tr th {\n",
       "        vertical-align: top;\n",
       "    }\n",
       "\n",
       "    .dataframe thead th {\n",
       "        text-align: right;\n",
       "    }\n",
       "</style>\n",
       "<table border=\"1\" class=\"dataframe\">\n",
       "  <thead>\n",
       "    <tr style=\"text-align: right;\">\n",
       "      <th></th>\n",
       "      <th>curve</th>\n",
       "      <th>volleys</th>\n",
       "      <th>ball_control</th>\n",
       "      <th>interceptions</th>\n",
       "      <th>player_positions</th>\n",
       "      <th>short_passing</th>\n",
       "      <th>gk_positioning</th>\n",
       "      <th>strength</th>\n",
       "      <th>gk_diving</th>\n",
       "      <th>gk_reflexes</th>\n",
       "      <th>...</th>\n",
       "      <th>long_shots</th>\n",
       "      <th>heading_accuracy</th>\n",
       "      <th>standing_tackle</th>\n",
       "      <th>height</th>\n",
       "      <th>free_kick_accuracy</th>\n",
       "      <th>positioning</th>\n",
       "      <th>dribbling</th>\n",
       "      <th>penalties</th>\n",
       "      <th>acceleration</th>\n",
       "      <th>vision</th>\n",
       "    </tr>\n",
       "  </thead>\n",
       "  <tbody>\n",
       "    <tr>\n",
       "      <th>0</th>\n",
       "      <td>60.0</td>\n",
       "      <td>36.0</td>\n",
       "      <td>62.0</td>\n",
       "      <td>78.0</td>\n",
       "      <td>CB</td>\n",
       "      <td>71.0</td>\n",
       "      <td>14.0</td>\n",
       "      <td>85.0</td>\n",
       "      <td>7.0</td>\n",
       "      <td>15.0</td>\n",
       "      <td>...</td>\n",
       "      <td>66.0</td>\n",
       "      <td>77.0</td>\n",
       "      <td>80.0</td>\n",
       "      <td>177.80</td>\n",
       "      <td>73.0</td>\n",
       "      <td>46.0</td>\n",
       "      <td>53.0</td>\n",
       "      <td>57.0</td>\n",
       "      <td>67.0</td>\n",
       "      <td>57.0</td>\n",
       "    </tr>\n",
       "    <tr>\n",
       "      <th>1</th>\n",
       "      <td>54.0</td>\n",
       "      <td>43.0</td>\n",
       "      <td>67.0</td>\n",
       "      <td>56.0</td>\n",
       "      <td>CDM, CM, CAM</td>\n",
       "      <td>71.0</td>\n",
       "      <td>10.0</td>\n",
       "      <td>91.0</td>\n",
       "      <td>6.0</td>\n",
       "      <td>13.0</td>\n",
       "      <td>...</td>\n",
       "      <td>52.0</td>\n",
       "      <td>63.0</td>\n",
       "      <td>65.0</td>\n",
       "      <td>175.26</td>\n",
       "      <td>47.0</td>\n",
       "      <td>61.0</td>\n",
       "      <td>56.0</td>\n",
       "      <td>64.0</td>\n",
       "      <td>72.0</td>\n",
       "      <td>68.0</td>\n",
       "    </tr>\n",
       "    <tr>\n",
       "      <th>2</th>\n",
       "      <td>14.0</td>\n",
       "      <td>14.0</td>\n",
       "      <td>18.0</td>\n",
       "      <td>13.0</td>\n",
       "      <td>GK</td>\n",
       "      <td>23.0</td>\n",
       "      <td>52.0</td>\n",
       "      <td>75.0</td>\n",
       "      <td>58.0</td>\n",
       "      <td>62.0</td>\n",
       "      <td>...</td>\n",
       "      <td>12.0</td>\n",
       "      <td>14.0</td>\n",
       "      <td>15.0</td>\n",
       "      <td>190.50</td>\n",
       "      <td>14.0</td>\n",
       "      <td>15.0</td>\n",
       "      <td>15.0</td>\n",
       "      <td>23.0</td>\n",
       "      <td>39.0</td>\n",
       "      <td>18.0</td>\n",
       "    </tr>\n",
       "  </tbody>\n",
       "</table>\n",
       "<p>3 rows × 42 columns</p>\n",
       "</div>"
      ],
      "text/plain": [
       "   curve  volleys  ball_control  interceptions player_positions  \\\n",
       "0   60.0     36.0          62.0           78.0               CB   \n",
       "1   54.0     43.0          67.0           56.0     CDM, CM, CAM   \n",
       "2   14.0     14.0          18.0           13.0               GK   \n",
       "\n",
       "   short_passing  gk_positioning  strength  gk_diving  gk_reflexes  ...  \\\n",
       "0           71.0            14.0      85.0        7.0         15.0  ...   \n",
       "1           71.0            10.0      91.0        6.0         13.0  ...   \n",
       "2           23.0            52.0      75.0       58.0         62.0  ...   \n",
       "\n",
       "   long_shots  heading_accuracy  standing_tackle  height  free_kick_accuracy  \\\n",
       "0        66.0              77.0             80.0  177.80                73.0   \n",
       "1        52.0              63.0             65.0  175.26                47.0   \n",
       "2        12.0              14.0             15.0  190.50                14.0   \n",
       "\n",
       "   positioning  dribbling  penalties  acceleration  vision  \n",
       "0         46.0       53.0       57.0          67.0    57.0  \n",
       "1         61.0       56.0       64.0          72.0    68.0  \n",
       "2         15.0       15.0       23.0          39.0    18.0  \n",
       "\n",
       "[3 rows x 42 columns]"
      ]
     },
     "metadata": {},
     "output_type": "display_data"
    }
   ],
   "source": [
    "# Check if all are float\n",
    "id_column = \"player_fifa_api_id\"\n",
    "numerical_columns = list(set(df.columns) - set(categorial_columns) - set([id_column]))\n",
    "print(df[numerical_columns].dtypes)\n",
    "display(df[numerical_columns].head(3))"
   ]
  },
  {
   "cell_type": "code",
   "execution_count": 39,
   "metadata": {},
   "outputs": [
    {
     "name": "stdout",
     "output_type": "stream",
     "text": [
      "curve                 0\n",
      "volleys               0\n",
      "ball_control          0\n",
      "interceptions         0\n",
      "player_positions      0\n",
      "short_passing         0\n",
      "gk_positioning        0\n",
      "strength              0\n",
      "gk_diving             0\n",
      "gk_reflexes           0\n",
      "sliding_tackle        0\n",
      "finishing             0\n",
      "weight                0\n",
      "date                  0\n",
      "long_passing          0\n",
      "sprint_speed          0\n",
      "aggression            0\n",
      "gk_kicking            0\n",
      "id                    0\n",
      "gk_handling           0\n",
      "overall_rating        0\n",
      "player_api_id         0\n",
      "reactions             0\n",
      "stamina               0\n",
      "potential             0\n",
      "balance               0\n",
      "agility               0\n",
      "shot_power            0\n",
      "crossing              0\n",
      "jumping               0\n",
      "player_name           0\n",
      "marking               0\n",
      "long_shots            0\n",
      "heading_accuracy      0\n",
      "standing_tackle       0\n",
      "height                0\n",
      "free_kick_accuracy    0\n",
      "positioning           0\n",
      "dribbling             0\n",
      "penalties             0\n",
      "acceleration          0\n",
      "vision                0\n",
      "dtype: int64\n"
     ]
    }
   ],
   "source": [
    "column_check = df[numerical_columns].isna().sum()\n",
    "print(column_check)"
   ]
  },
  {
   "cell_type": "code",
   "execution_count": 40,
   "metadata": {},
   "outputs": [
    {
     "name": "stdout",
     "output_type": "stream",
     "text": [
      "0\n",
      "0\n"
     ]
    }
   ],
   "source": [
    "# Confirm that the 836/2713 missing values belong to the same record\n",
    "\n",
    "column_check = df[numerical_columns].isna().sum()\n",
    "missing_columns_set1 = list(column_check[column_check == 836].index)\n",
    "missing_columns_set2 = list(column_check[column_check == 2713].index)\n",
    "\n",
    "df_set1 = df[missing_columns_set1]\n",
    "df_set2 = df[missing_columns_set2]\n",
    "\n",
    "df1_rows_na = df_set1[df_set1.isna().any(axis=1)]\n",
    "df2_rows_na = df_set2[df_set2.isna().any(axis=1)]\n",
    "\n",
    "print(len(df1_rows_na))\n",
    "print(len(df2_rows_na))\n"
   ]
  },
  {
   "cell_type": "code",
   "execution_count": 41,
   "metadata": {},
   "outputs": [
    {
     "name": "stdout",
     "output_type": "stream",
     "text": [
      "number of rows to drop is 0\n"
     ]
    }
   ],
   "source": [
    "#Full outer join\n",
    "rows_to_drop = df1_rows_na.merge(df2_rows_na, left_index = True, right_index=True, how=\"outer\")\n",
    "print(\"number of rows to drop is\", len(rows_to_drop))"
   ]
  },
  {
   "cell_type": "code",
   "execution_count": 42,
   "metadata": {},
   "outputs": [
    {
     "name": "stdout",
     "output_type": "stream",
     "text": [
      "initial df length is  6358\n",
      "new df length is  6358\n",
      "curve                 0\n",
      "volleys               0\n",
      "ball_control          0\n",
      "interceptions         0\n",
      "player_positions      0\n",
      "short_passing         0\n",
      "gk_positioning        0\n",
      "strength              0\n",
      "gk_diving             0\n",
      "gk_reflexes           0\n",
      "sliding_tackle        0\n",
      "finishing             0\n",
      "weight                0\n",
      "date                  0\n",
      "long_passing          0\n",
      "sprint_speed          0\n",
      "aggression            0\n",
      "gk_kicking            0\n",
      "id                    0\n",
      "gk_handling           0\n",
      "overall_rating        0\n",
      "player_api_id         0\n",
      "reactions             0\n",
      "stamina               0\n",
      "potential             0\n",
      "balance               0\n",
      "agility               0\n",
      "shot_power            0\n",
      "crossing              0\n",
      "jumping               0\n",
      "player_name           0\n",
      "marking               0\n",
      "long_shots            0\n",
      "heading_accuracy      0\n",
      "standing_tackle       0\n",
      "height                0\n",
      "free_kick_accuracy    0\n",
      "positioning           0\n",
      "dribbling             0\n",
      "penalties             0\n",
      "acceleration          0\n",
      "vision                0\n",
      "dtype: int64\n"
     ]
    }
   ],
   "source": [
    "print(\"initial df length is \", len(df))\n",
    "# df = df.drop(df1_rows_na.index)\n",
    "# df = df.drop(df2_rows_na.index)\n",
    "df = df.drop(rows_to_drop.index)\n",
    "print(\"new df length is \", len(df))\n",
    "\n",
    "#double check\n",
    "column_check = df[numerical_columns].isna().sum()\n",
    "print(column_check)"
   ]
  },
  {
   "cell_type": "code",
   "execution_count": 43,
   "metadata": {},
   "outputs": [
    {
     "name": "stdout",
     "output_type": "stream",
     "text": [
      "right    4805\n",
      "left     1553\n",
      "Name: preferred_foot, dtype: int64\n"
     ]
    }
   ],
   "source": [
    "print(df['preferred_foot'].value_counts())"
   ]
  },
  {
   "cell_type": "markdown",
   "metadata": {},
   "source": [
    "## One-hot encode"
   ]
  },
  {
   "cell_type": "code",
   "execution_count": 44,
   "metadata": {},
   "outputs": [],
   "source": [
    "#one hot encode everything!\n",
    "def one_hot_encode(df, column_name):\n",
    "    temp = df.copy()\n",
    "    df = df.drop(column_name,axis = 1)\n",
    "    df = df.join(pd.get_dummies(temp[column_name], prefix=column_name))\n",
    "    return df\n",
    "# df = one_hot_encode(df, col_name)"
   ]
  },
  {
   "cell_type": "code",
   "execution_count": 45,
   "metadata": {},
   "outputs": [],
   "source": [
    "for col_name in categorial_columns:\n",
    "    df = one_hot_encode(df, col_name)"
   ]
  },
  {
   "cell_type": "markdown",
   "metadata": {},
   "source": [
    "## Final checks and saving"
   ]
  },
  {
   "cell_type": "code",
   "execution_count": 46,
   "metadata": {},
   "outputs": [
    {
     "data": {
      "text/plain": [
       "id                            0\n",
       "player_fifa_api_id            0\n",
       "player_api_id                 0\n",
       "date                          0\n",
       "overall_rating                0\n",
       "potential                     0\n",
       "crossing                      0\n",
       "finishing                     0\n",
       "heading_accuracy              0\n",
       "short_passing                 0\n",
       "volleys                       0\n",
       "dribbling                     0\n",
       "curve                         0\n",
       "free_kick_accuracy            0\n",
       "long_passing                  0\n",
       "ball_control                  0\n",
       "acceleration                  0\n",
       "sprint_speed                  0\n",
       "agility                       0\n",
       "reactions                     0\n",
       "balance                       0\n",
       "shot_power                    0\n",
       "jumping                       0\n",
       "stamina                       0\n",
       "strength                      0\n",
       "long_shots                    0\n",
       "aggression                    0\n",
       "interceptions                 0\n",
       "positioning                   0\n",
       "vision                        0\n",
       "penalties                     0\n",
       "marking                       0\n",
       "standing_tackle               0\n",
       "sliding_tackle                0\n",
       "gk_diving                     0\n",
       "gk_handling                   0\n",
       "gk_kicking                    0\n",
       "gk_positioning                0\n",
       "gk_reflexes                   0\n",
       "player_positions              0\n",
       "player_name                   0\n",
       "height                        0\n",
       "weight                        0\n",
       "preferred_foot_left           0\n",
       "preferred_foot_right          0\n",
       "attacking_work_rate_high      0\n",
       "attacking_work_rate_low       0\n",
       "attacking_work_rate_medium    0\n",
       "defensive_work_rate_high      0\n",
       "defensive_work_rate_low       0\n",
       "defensive_work_rate_medium    0\n",
       "dtype: int64"
      ]
     },
     "execution_count": 46,
     "metadata": {},
     "output_type": "execute_result"
    }
   ],
   "source": [
    "df.isna().sum()"
   ]
  },
  {
   "cell_type": "code",
   "execution_count": 47,
   "metadata": {},
   "outputs": [
    {
     "data": {
      "text/plain": [
       "id                              int64\n",
       "player_fifa_api_id              int64\n",
       "player_api_id                   int64\n",
       "date                           object\n",
       "overall_rating                float64\n",
       "potential                     float64\n",
       "crossing                      float64\n",
       "finishing                     float64\n",
       "heading_accuracy              float64\n",
       "short_passing                 float64\n",
       "volleys                       float64\n",
       "dribbling                     float64\n",
       "curve                         float64\n",
       "free_kick_accuracy            float64\n",
       "long_passing                  float64\n",
       "ball_control                  float64\n",
       "acceleration                  float64\n",
       "sprint_speed                  float64\n",
       "agility                       float64\n",
       "reactions                     float64\n",
       "balance                       float64\n",
       "shot_power                    float64\n",
       "jumping                       float64\n",
       "stamina                       float64\n",
       "strength                      float64\n",
       "long_shots                    float64\n",
       "aggression                    float64\n",
       "interceptions                 float64\n",
       "positioning                   float64\n",
       "vision                        float64\n",
       "penalties                     float64\n",
       "marking                       float64\n",
       "standing_tackle               float64\n",
       "sliding_tackle                float64\n",
       "gk_diving                     float64\n",
       "gk_handling                   float64\n",
       "gk_kicking                    float64\n",
       "gk_positioning                float64\n",
       "gk_reflexes                   float64\n",
       "player_positions               object\n",
       "player_name                    object\n",
       "height                        float64\n",
       "weight                          int64\n",
       "preferred_foot_left             uint8\n",
       "preferred_foot_right            uint8\n",
       "attacking_work_rate_high        uint8\n",
       "attacking_work_rate_low         uint8\n",
       "attacking_work_rate_medium      uint8\n",
       "defensive_work_rate_high        uint8\n",
       "defensive_work_rate_low         uint8\n",
       "defensive_work_rate_medium      uint8\n",
       "dtype: object"
      ]
     },
     "execution_count": 47,
     "metadata": {},
     "output_type": "execute_result"
    }
   ],
   "source": [
    "df.dtypes"
   ]
  },
  {
   "cell_type": "code",
   "execution_count": 48,
   "metadata": {},
   "outputs": [],
   "source": [
    "csv_path = \"datasets/cleaned_soccer_data_2016_v2.csv\"\n",
    "df.to_csv(csv_path, index=False)"
   ]
  },
  {
   "cell_type": "markdown",
   "metadata": {},
   "source": [
    "## Testing"
   ]
  },
  {
   "cell_type": "code",
   "execution_count": 49,
   "metadata": {},
   "outputs": [],
   "source": [
    "# #Find KNN for replacement\n",
    "# def replaceNA(df, cat_name):\n",
    "\n",
    "#     numerical_df = df.drop(columns=['player_fifa_api_id', 'preferred_foot', 'attacking_work_rate', 'defensive_work_rate'])\n",
    "#     print(numerical_df.isna().sum())\n",
    "# #         knn = NearestNeighbors(n_neighbors=5)\n",
    "# #     knn.fit(df.drop(columns=['player_fifa_api_id', 'preferred_foot', 'attacking_work_rate', 'defensive_work_rate']))\n",
    "# #     knn.kneighbors(X[0], return_distance=False)\n",
    "\n",
    "# replaceNA(df, 'attacking_work_rate')"
   ]
  },
  {
   "cell_type": "code",
   "execution_count": 50,
   "metadata": {},
   "outputs": [
    {
     "name": "stdout",
     "output_type": "stream",
     "text": [
      "col1      int64\n",
      "col2       bool\n",
      "col3     object\n",
      "col4    float64\n",
      "dtype: object\n"
     ]
    }
   ],
   "source": [
    "df_test = pd.DataFrame([[1, True, 'dsfasd', 51.314],\n",
    "                   [51, False, '56345', 56.1234]],\n",
    "                  columns=['col1', 'col2', 'col3', 'col4'])\n",
    "\n",
    "res = df_test.dtypes\n",
    "\n",
    "print(res)"
   ]
  },
  {
   "cell_type": "code",
   "execution_count": null,
   "metadata": {},
   "outputs": [],
   "source": []
  }
 ],
 "metadata": {
  "kernelspec": {
   "display_name": "Python 3",
   "language": "python",
   "name": "python3"
  },
  "language_info": {
   "codemirror_mode": {
    "name": "ipython",
    "version": 3
   },
   "file_extension": ".py",
   "mimetype": "text/x-python",
   "name": "python",
   "nbconvert_exporter": "python",
   "pygments_lexer": "ipython3",
   "version": "3.7.9"
  }
 },
 "nbformat": 4,
 "nbformat_minor": 4
}
