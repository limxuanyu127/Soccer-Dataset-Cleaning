{
 "cells": [
  {
   "cell_type": "code",
   "execution_count": 1,
   "metadata": {},
   "outputs": [],
   "source": [
    "%load_ext autoreload\n",
    "%autoreload 2"
   ]
  },
  {
   "cell_type": "code",
   "execution_count": 2,
   "metadata": {},
   "outputs": [],
   "source": [
    "from pathlib import Path\n",
    "from pprint import pprint\n",
    "\n",
    "import sys\n",
    "import os\n",
    "import pandas as pd\n",
    "import numpy as np"
   ]
  },
  {
   "cell_type": "code",
   "execution_count": 3,
   "metadata": {},
   "outputs": [],
   "source": [
    "REPO_PATH = Path('/home','shawn','Soccer-Player-Attributes-Comparison')\n",
    "sys.path.append(os.fspath(REPO_PATH))"
   ]
  },
  {
   "cell_type": "code",
   "execution_count": 4,
   "metadata": {},
   "outputs": [],
   "source": [
    "from fifa_similarity_search.service.index import ExampleIndex"
   ]
  },
  {
   "cell_type": "code",
   "execution_count": 5,
   "metadata": {},
   "outputs": [],
   "source": [
    "embeddings = pd.read_csv(Path(REPO_PATH, 'datasets','soccer_player_embeddings_v1.csv'))"
   ]
  },
  {
   "cell_type": "code",
   "execution_count": 6,
   "metadata": {},
   "outputs": [
    {
     "data": {
      "text/html": [
       "<div>\n",
       "<style scoped>\n",
       "    .dataframe tbody tr th:only-of-type {\n",
       "        vertical-align: middle;\n",
       "    }\n",
       "\n",
       "    .dataframe tbody tr th {\n",
       "        vertical-align: top;\n",
       "    }\n",
       "\n",
       "    .dataframe thead th {\n",
       "        text-align: right;\n",
       "    }\n",
       "</style>\n",
       "<table border=\"1\" class=\"dataframe\">\n",
       "  <thead>\n",
       "    <tr style=\"text-align: right;\">\n",
       "      <th></th>\n",
       "      <th>id</th>\n",
       "      <th>PC1</th>\n",
       "      <th>PC2</th>\n",
       "      <th>PC3</th>\n",
       "      <th>PC4</th>\n",
       "      <th>PC5</th>\n",
       "      <th>PC6</th>\n",
       "      <th>PC7</th>\n",
       "      <th>PC8</th>\n",
       "      <th>PC9</th>\n",
       "      <th>...</th>\n",
       "      <th>PC12</th>\n",
       "      <th>PC13</th>\n",
       "      <th>PC14</th>\n",
       "      <th>player_fifa_api_id</th>\n",
       "      <th>player_api_id</th>\n",
       "      <th>overall_rating</th>\n",
       "      <th>potential</th>\n",
       "      <th>player_name</th>\n",
       "      <th>birthday</th>\n",
       "      <th>player_positions</th>\n",
       "    </tr>\n",
       "  </thead>\n",
       "  <tbody>\n",
       "    <tr>\n",
       "      <th>0</th>\n",
       "      <td>97455</td>\n",
       "      <td>-0.020058</td>\n",
       "      <td>0.683692</td>\n",
       "      <td>-0.255270</td>\n",
       "      <td>-0.329416</td>\n",
       "      <td>-0.594869</td>\n",
       "      <td>0.124635</td>\n",
       "      <td>-0.209664</td>\n",
       "      <td>0.304167</td>\n",
       "      <td>-0.082228</td>\n",
       "      <td>...</td>\n",
       "      <td>0.047019</td>\n",
       "      <td>-0.091479</td>\n",
       "      <td>0.273118</td>\n",
       "      <td>119152</td>\n",
       "      <td>30831</td>\n",
       "      <td>78.0</td>\n",
       "      <td>78.0</td>\n",
       "      <td>Kolo Toure</td>\n",
       "      <td>1981-03-19 00:00:00</td>\n",
       "      <td>CB</td>\n",
       "    </tr>\n",
       "    <tr>\n",
       "      <th>1</th>\n",
       "      <td>42881</td>\n",
       "      <td>0.068503</td>\n",
       "      <td>0.188564</td>\n",
       "      <td>-0.228424</td>\n",
       "      <td>-0.542123</td>\n",
       "      <td>-0.304828</td>\n",
       "      <td>0.015172</td>\n",
       "      <td>0.001972</td>\n",
       "      <td>-0.151031</td>\n",
       "      <td>-0.113127</td>\n",
       "      <td>...</td>\n",
       "      <td>-0.188535</td>\n",
       "      <td>0.258280</td>\n",
       "      <td>-0.195703</td>\n",
       "      <td>199284</td>\n",
       "      <td>133126</td>\n",
       "      <td>63.0</td>\n",
       "      <td>63.0</td>\n",
       "      <td>Dennis Hediger</td>\n",
       "      <td>1986-09-22 00:00:00</td>\n",
       "      <td>CDM, CM, CAM</td>\n",
       "    </tr>\n",
       "    <tr>\n",
       "      <th>2</th>\n",
       "      <td>97483</td>\n",
       "      <td>2.236177</td>\n",
       "      <td>-0.317256</td>\n",
       "      <td>1.209209</td>\n",
       "      <td>0.559709</td>\n",
       "      <td>0.488686</td>\n",
       "      <td>0.023748</td>\n",
       "      <td>-0.034294</td>\n",
       "      <td>-0.239571</td>\n",
       "      <td>-0.111753</td>\n",
       "      <td>...</td>\n",
       "      <td>-0.245468</td>\n",
       "      <td>0.054037</td>\n",
       "      <td>0.010629</td>\n",
       "      <td>201169</td>\n",
       "      <td>206641</td>\n",
       "      <td>58.0</td>\n",
       "      <td>63.0</td>\n",
       "      <td>Konrad Forenc</td>\n",
       "      <td>1992-07-17 00:00:00</td>\n",
       "      <td>GK</td>\n",
       "    </tr>\n",
       "    <tr>\n",
       "      <th>3</th>\n",
       "      <td>97505</td>\n",
       "      <td>-0.553902</td>\n",
       "      <td>0.108279</td>\n",
       "      <td>-0.700631</td>\n",
       "      <td>1.268173</td>\n",
       "      <td>0.137731</td>\n",
       "      <td>-0.259513</td>\n",
       "      <td>0.327372</td>\n",
       "      <td>-0.145581</td>\n",
       "      <td>-0.180327</td>\n",
       "      <td>...</td>\n",
       "      <td>-0.004284</td>\n",
       "      <td>-0.028598</td>\n",
       "      <td>-0.068586</td>\n",
       "      <td>183559</td>\n",
       "      <td>11242</td>\n",
       "      <td>67.0</td>\n",
       "      <td>67.0</td>\n",
       "      <td>Konstantin Engel</td>\n",
       "      <td>1988-07-27 00:00:00</td>\n",
       "      <td>RB, LB</td>\n",
       "    </tr>\n",
       "    <tr>\n",
       "      <th>4</th>\n",
       "      <td>42402</td>\n",
       "      <td>0.235236</td>\n",
       "      <td>-0.260011</td>\n",
       "      <td>1.173912</td>\n",
       "      <td>-0.533751</td>\n",
       "      <td>0.475334</td>\n",
       "      <td>-0.042503</td>\n",
       "      <td>-0.011437</td>\n",
       "      <td>-0.537734</td>\n",
       "      <td>0.061248</td>\n",
       "      <td>...</td>\n",
       "      <td>0.065391</td>\n",
       "      <td>-0.188249</td>\n",
       "      <td>0.083385</td>\n",
       "      <td>225951</td>\n",
       "      <td>664962</td>\n",
       "      <td>64.0</td>\n",
       "      <td>75.0</td>\n",
       "      <td>Denis Bouanga</td>\n",
       "      <td>1994-11-11 00:00:00</td>\n",
       "      <td>RW, ST</td>\n",
       "    </tr>\n",
       "  </tbody>\n",
       "</table>\n",
       "<p>5 rows × 22 columns</p>\n",
       "</div>"
      ],
      "text/plain": [
       "      id       PC1       PC2       PC3       PC4       PC5       PC6  \\\n",
       "0  97455 -0.020058  0.683692 -0.255270 -0.329416 -0.594869  0.124635   \n",
       "1  42881  0.068503  0.188564 -0.228424 -0.542123 -0.304828  0.015172   \n",
       "2  97483  2.236177 -0.317256  1.209209  0.559709  0.488686  0.023748   \n",
       "3  97505 -0.553902  0.108279 -0.700631  1.268173  0.137731 -0.259513   \n",
       "4  42402  0.235236 -0.260011  1.173912 -0.533751  0.475334 -0.042503   \n",
       "\n",
       "        PC7       PC8       PC9  ...      PC12      PC13      PC14  \\\n",
       "0 -0.209664  0.304167 -0.082228  ...  0.047019 -0.091479  0.273118   \n",
       "1  0.001972 -0.151031 -0.113127  ... -0.188535  0.258280 -0.195703   \n",
       "2 -0.034294 -0.239571 -0.111753  ... -0.245468  0.054037  0.010629   \n",
       "3  0.327372 -0.145581 -0.180327  ... -0.004284 -0.028598 -0.068586   \n",
       "4 -0.011437 -0.537734  0.061248  ...  0.065391 -0.188249  0.083385   \n",
       "\n",
       "   player_fifa_api_id  player_api_id  overall_rating  potential  \\\n",
       "0              119152          30831            78.0       78.0   \n",
       "1              199284         133126            63.0       63.0   \n",
       "2              201169         206641            58.0       63.0   \n",
       "3              183559          11242            67.0       67.0   \n",
       "4              225951         664962            64.0       75.0   \n",
       "\n",
       "        player_name             birthday player_positions  \n",
       "0        Kolo Toure  1981-03-19 00:00:00               CB  \n",
       "1    Dennis Hediger  1986-09-22 00:00:00     CDM, CM, CAM  \n",
       "2     Konrad Forenc  1992-07-17 00:00:00               GK  \n",
       "3  Konstantin Engel  1988-07-27 00:00:00           RB, LB  \n",
       "4     Denis Bouanga  1994-11-11 00:00:00           RW, ST  \n",
       "\n",
       "[5 rows x 22 columns]"
      ]
     },
     "execution_count": 6,
     "metadata": {},
     "output_type": "execute_result"
    }
   ],
   "source": [
    "embeddings.head(5)"
   ]
  },
  {
   "cell_type": "code",
   "execution_count": 7,
   "metadata": {},
   "outputs": [],
   "source": [
    "embeddings_columns = []\n",
    "for i in range(1,15):\n",
    "    embeddings_columns.append(f'PC{i}')"
   ]
  },
  {
   "cell_type": "code",
   "execution_count": 8,
   "metadata": {},
   "outputs": [],
   "source": [
    "def get_dataset(df, embeddings_columns):\n",
    "    vectors = np.ascontiguousarray(df[embeddings_columns])\n",
    "    labels = np.ascontiguousarray(df['player_fifa_api_id'])\n",
    "    \n",
    "    return vectors.astype('float32'), np.expand_dims(labels, axis=1)"
   ]
  },
  {
   "cell_type": "code",
   "execution_count": 9,
   "metadata": {},
   "outputs": [],
   "source": [
    "class Service_Index():\n",
    "    def __init__(self, df, embeddings_columns):\n",
    "        vectors, labels = get_dataset(df, embeddings_columns)\n",
    "        self.df = df\n",
    "        self.vectors = vectors\n",
    "        self.labels = labels\n",
    "        \n",
    "        self.index = ExampleIndex(vectors, labels)\n",
    "        self.index.build()\n",
    "        \n",
    "        self.columns = ['player_name', 'player_positions', 'overall_rating', 'potential', 'birthday', 'player_fifa_api_id']\n",
    "        \n",
    "    def search_by_player_name(self, player_name):\n",
    "        #player_name must be exact\n",
    "        query_id = self.df[self.df.player_name == player_name].player_fifa_api_id.values[0]\n",
    "        id_ = self.df[self.df.player_fifa_api_id == query_id].index.values[0]\n",
    "        results = self.index.query(np.expand_dims(self.vectors[id_], axis=0), k=10)\n",
    "        response = []\n",
    "        for result_id in results:\n",
    "            response.append(self.df[self.df.player_fifa_api_id == result_id[0]][self.columns].iloc[0].to_dict())\n",
    "        return response\n",
    "    \n",
    "    def search_by_vector(self, vector):\n",
    "        results = self.index.query(np.expand_dims(vector, axis=0), k=10)\n",
    "        response = []\n",
    "        for result_id in results:\n",
    "            response.append(self.df[self.df.player_fifa_api_id == result_id[0]][self.columns].iloc[0].to_dict())\n",
    "        return response"
   ]
  },
  {
   "cell_type": "markdown",
   "metadata": {},
   "source": [
    "## Use Case 1: Search all in database"
   ]
  },
  {
   "cell_type": "code",
   "execution_count": 10,
   "metadata": {},
   "outputs": [],
   "source": [
    "all_index = Service_Index(embeddings, embeddings_columns)"
   ]
  },
  {
   "cell_type": "code",
   "execution_count": 11,
   "metadata": {},
   "outputs": [
    {
     "name": "stdout",
     "output_type": "stream",
     "text": [
      "[{'birthday': '1985-02-05 00:00:00',\n",
      "  'overall_rating': 93.0,\n",
      "  'player_fifa_api_id': 20801,\n",
      "  'player_name': 'Cristiano Ronaldo',\n",
      "  'player_positions': 'LW, LM',\n",
      "  'potential': 93.0},\n",
      " {'birthday': '1989-06-18 00:00:00',\n",
      "  'overall_rating': 84.0,\n",
      "  'player_fifa_api_id': 188567,\n",
      "  'player_name': 'Pierre-Emerick Aubameyang',\n",
      "  'player_positions': 'ST, RM, RW',\n",
      "  'potential': 85.0},\n",
      " {'birthday': '1994-02-13 00:00:00',\n",
      "  'overall_rating': 79.0,\n",
      "  'player_fifa_api_id': 202556,\n",
      "  'player_name': 'Memphis Depay',\n",
      "  'player_positions': 'LW, CAM',\n",
      "  'potential': 86.0},\n",
      " {'birthday': '1992-01-04 00:00:00',\n",
      "  'overall_rating': 80.0,\n",
      "  'player_fifa_api_id': 208808,\n",
      "  'player_name': 'Quincy Promes',\n",
      "  'player_positions': 'RW, RM, LW',\n",
      "  'potential': 86.0},\n",
      " {'birthday': '1981-12-03 00:00:00',\n",
      "  'overall_rating': 81.0,\n",
      "  'player_fifa_api_id': 113422,\n",
      "  'player_name': 'David Villa',\n",
      "  'player_positions': 'ST',\n",
      "  'potential': 81.0},\n",
      " {'birthday': '1980-07-08 00:00:00',\n",
      "  'overall_rating': 80.0,\n",
      "  'player_fifa_api_id': 330,\n",
      "  'player_name': 'Robbie Keane',\n",
      "  'player_positions': 'ST',\n",
      "  'potential': 80.0},\n",
      " {'birthday': '1993-12-05 00:00:00',\n",
      "  'overall_rating': 78.0,\n",
      "  'player_fifa_api_id': 207441,\n",
      "  'player_name': 'Luciano Dario Vietto',\n",
      "  'player_positions': 'ST',\n",
      "  'potential': 85.0},\n",
      " {'birthday': '1988-11-12 00:00:00',\n",
      "  'overall_rating': 77.0,\n",
      "  'player_fifa_api_id': 185090,\n",
      "  'player_name': 'Benjamin Moukandjo',\n",
      "  'player_positions': 'RM, LM, ST',\n",
      "  'potential': 78.0},\n",
      " {'birthday': '1985-07-25 00:00:00',\n",
      "  'overall_rating': 76.0,\n",
      "  'player_fifa_api_id': 168565,\n",
      "  'player_name': 'Hugo Rodallega',\n",
      "  'player_positions': 'ST',\n",
      "  'potential': 76.0},\n",
      " {'birthday': '1989-07-29 00:00:00',\n",
      "  'overall_rating': 76.0,\n",
      "  'player_fifa_api_id': 169792,\n",
      "  'player_name': 'Jay Rodriguez',\n",
      "  'player_positions': 'LM, ST',\n",
      "  'potential': 78.0}]\n"
     ]
    }
   ],
   "source": [
    "pprint(all_index.search_by_player_name('Cristiano Ronaldo'))"
   ]
  },
  {
   "cell_type": "code",
   "execution_count": 12,
   "metadata": {},
   "outputs": [],
   "source": [
    "#First Name is search query\n",
    "#The rest are search results"
   ]
  },
  {
   "cell_type": "markdown",
   "metadata": {},
   "source": [
    "## Use Case 2: Filter-Search: only look at all the under-21s (youths)"
   ]
  },
  {
   "cell_type": "markdown",
   "metadata": {},
   "source": [
    "Database is 2016. Those under 21 y-o would be born after 1995. Purpose of this is to get the potential next generation Cristiano Ronaldo"
   ]
  },
  {
   "cell_type": "code",
   "execution_count": 13,
   "metadata": {},
   "outputs": [],
   "source": [
    "embeddings.birthday = pd.to_datetime(embeddings.birthday)\n",
    "new_df = embeddings.query('birthday > 19950101')"
   ]
  },
  {
   "cell_type": "code",
   "execution_count": 14,
   "metadata": {},
   "outputs": [],
   "source": [
    "player_name = 'Cristiano Ronaldo'\n",
    "query_id = embeddings[embeddings.player_name == player_name].player_fifa_api_id.values[0]\n",
    "query_vector = np.array(embeddings[embeddings.player_fifa_api_id == query_id][embeddings_columns])\n",
    "query_vector = query_vector.reshape((14)).astype('float32')"
   ]
  },
  {
   "cell_type": "code",
   "execution_count": 21,
   "metadata": {},
   "outputs": [
    {
     "name": "stdout",
     "output_type": "stream",
     "text": [
      "[{'birthday': Timestamp('1995-03-08 00:00:00'),\n",
      "  'overall_rating': 77.0,\n",
      "  'player_fifa_api_id': 215785,\n",
      "  'player_name': 'Balde Diao Keita',\n",
      "  'player_positions': 'LW, RW, ST',\n",
      "  'potential': 85.0},\n",
      " {'birthday': Timestamp('1996-12-01 00:00:00'),\n",
      "  'overall_rating': 74.0,\n",
      "  'player_fifa_api_id': 224458,\n",
      "  'player_name': 'Diogo Jota',\n",
      "  'player_positions': 'ST',\n",
      "  'potential': 87.0},\n",
      " {'birthday': Timestamp('1995-02-13 00:00:00'),\n",
      "  'overall_rating': 75.0,\n",
      "  'player_fifa_api_id': 219732,\n",
      "  'player_name': \"Georges N'Koudou\",\n",
      "  'player_positions': 'LM, RM',\n",
      "  'potential': 82.0},\n",
      " {'birthday': Timestamp('1995-02-07 00:00:00'),\n",
      "  'overall_rating': 68.0,\n",
      "  'player_fifa_api_id': 215598,\n",
      "  'player_name': 'Shani Tarashaj',\n",
      "  'player_positions': 'CAM, ST',\n",
      "  'potential': 80.0},\n",
      " {'birthday': Timestamp('1995-07-15 00:00:00'),\n",
      "  'overall_rating': 70.0,\n",
      "  'player_fifa_api_id': 211239,\n",
      "  'player_name': 'Corentin Jean',\n",
      "  'player_positions': 'ST, LM, RM',\n",
      "  'potential': 82.0},\n",
      " {'birthday': Timestamp('1995-12-05 00:00:00'),\n",
      "  'overall_rating': 78.0,\n",
      "  'player_fifa_api_id': 211300,\n",
      "  'player_name': 'Anthony Martial',\n",
      "  'player_positions': 'ST',\n",
      "  'potential': 86.0},\n",
      " {'birthday': Timestamp('1996-04-15 00:00:00'),\n",
      "  'overall_rating': 67.0,\n",
      "  'player_fifa_api_id': 215556,\n",
      "  'player_name': 'Edmilson Fernandes',\n",
      "  'player_positions': 'CAM, CF',\n",
      "  'potential': 80.0},\n",
      " {'birthday': Timestamp('1996-01-21 00:00:00'),\n",
      "  'overall_rating': 66.0,\n",
      "  'player_fifa_api_id': 230079,\n",
      "  'player_name': 'Aldo Kalulu',\n",
      "  'player_positions': 'ST, CAM',\n",
      "  'potential': 80.0},\n",
      " {'birthday': Timestamp('1997-02-14 00:00:00'),\n",
      "  'overall_rating': 76.0,\n",
      "  'player_fifa_api_id': 222357,\n",
      "  'player_name': 'Breel Embolo',\n",
      "  'player_positions': 'ST, RM',\n",
      "  'potential': 88.0},\n",
      " {'birthday': Timestamp('1995-05-03 00:00:00'),\n",
      "  'overall_rating': 76.0,\n",
      "  'player_fifa_api_id': 216433,\n",
      "  'player_name': 'Anwar El-Ghazi',\n",
      "  'player_positions': 'RW',\n",
      "  'potential': 84.0}]\n"
     ]
    }
   ],
   "source": [
    "index = Service_Index(new_df, embeddings_columns)\n",
    "response = index.search_by_vector(query_vector)\n",
    "pprint(response)"
   ]
  },
  {
   "cell_type": "markdown",
   "metadata": {},
   "source": [
    "Antony Martial is the 6th nearest player. Back in 2016, he was touted as the next CR7:\n",
    "\n",
    "https://www.express.co.uk/sport/football/650539/Anthony-Martial-Manchester-United-Next-Cristiano-Ronaldo-Louis-Saha\n",
    "\"Louis Saha: Why Anthony Martial can be Manchester United's new Cristiano Ronaldo\""
   ]
  },
  {
   "cell_type": "markdown",
   "metadata": {},
   "source": [
    "## Use Case 3: Best-Search: Get the best player of all similar players"
   ]
  },
  {
   "cell_type": "markdown",
   "metadata": {},
   "source": [
    "After getting the top K most similar players, which players are the best players out of them?"
   ]
  },
  {
   "cell_type": "markdown",
   "metadata": {},
   "source": [
    "Using the earlier example (use case 2), we notice that each player has a \"potential\" field. Let's sort them by their potential"
   ]
  },
  {
   "cell_type": "code",
   "execution_count": 22,
   "metadata": {},
   "outputs": [
    {
     "data": {
      "text/plain": [
       "[{'player_name': 'Breel Embolo',\n",
       "  'player_positions': 'ST, RM',\n",
       "  'overall_rating': 76.0,\n",
       "  'potential': 88.0,\n",
       "  'birthday': Timestamp('1997-02-14 00:00:00'),\n",
       "  'player_fifa_api_id': 222357},\n",
       " {'player_name': 'Diogo Jota',\n",
       "  'player_positions': 'ST',\n",
       "  'overall_rating': 74.0,\n",
       "  'potential': 87.0,\n",
       "  'birthday': Timestamp('1996-12-01 00:00:00'),\n",
       "  'player_fifa_api_id': 224458},\n",
       " {'player_name': 'Anthony Martial',\n",
       "  'player_positions': 'ST',\n",
       "  'overall_rating': 78.0,\n",
       "  'potential': 86.0,\n",
       "  'birthday': Timestamp('1995-12-05 00:00:00'),\n",
       "  'player_fifa_api_id': 211300},\n",
       " {'player_name': 'Balde Diao Keita',\n",
       "  'player_positions': 'LW, RW, ST',\n",
       "  'overall_rating': 77.0,\n",
       "  'potential': 85.0,\n",
       "  'birthday': Timestamp('1995-03-08 00:00:00'),\n",
       "  'player_fifa_api_id': 215785},\n",
       " {'player_name': 'Anwar El-Ghazi',\n",
       "  'player_positions': 'RW',\n",
       "  'overall_rating': 76.0,\n",
       "  'potential': 84.0,\n",
       "  'birthday': Timestamp('1995-05-03 00:00:00'),\n",
       "  'player_fifa_api_id': 216433},\n",
       " {'player_name': \"Georges N'Koudou\",\n",
       "  'player_positions': 'LM, RM',\n",
       "  'overall_rating': 75.0,\n",
       "  'potential': 82.0,\n",
       "  'birthday': Timestamp('1995-02-13 00:00:00'),\n",
       "  'player_fifa_api_id': 219732},\n",
       " {'player_name': 'Corentin Jean',\n",
       "  'player_positions': 'ST, LM, RM',\n",
       "  'overall_rating': 70.0,\n",
       "  'potential': 82.0,\n",
       "  'birthday': Timestamp('1995-07-15 00:00:00'),\n",
       "  'player_fifa_api_id': 211239},\n",
       " {'player_name': 'Shani Tarashaj',\n",
       "  'player_positions': 'CAM, ST',\n",
       "  'overall_rating': 68.0,\n",
       "  'potential': 80.0,\n",
       "  'birthday': Timestamp('1995-02-07 00:00:00'),\n",
       "  'player_fifa_api_id': 215598},\n",
       " {'player_name': 'Edmilson Fernandes',\n",
       "  'player_positions': 'CAM, CF',\n",
       "  'overall_rating': 67.0,\n",
       "  'potential': 80.0,\n",
       "  'birthday': Timestamp('1996-04-15 00:00:00'),\n",
       "  'player_fifa_api_id': 215556},\n",
       " {'player_name': 'Aldo Kalulu',\n",
       "  'player_positions': 'ST, CAM',\n",
       "  'overall_rating': 66.0,\n",
       "  'potential': 80.0,\n",
       "  'birthday': Timestamp('1996-01-21 00:00:00'),\n",
       "  'player_fifa_api_id': 230079}]"
      ]
     },
     "execution_count": 22,
     "metadata": {},
     "output_type": "execute_result"
    }
   ],
   "source": [
    "sorted(response, key=lambda response: response['potential'], reverse=True) "
   ]
  },
  {
   "cell_type": "markdown",
   "metadata": {},
   "source": [
    "Anthony Martial now ranked 3rd."
   ]
  },
  {
   "cell_type": "markdown",
   "metadata": {},
   "source": [
    "We can do the same for Use Case 1, but lets sort by ability instead. We are finding the best player most similar to Ronaldo."
   ]
  },
  {
   "cell_type": "code",
   "execution_count": 23,
   "metadata": {},
   "outputs": [],
   "source": [
    "all_index = Service_Index(embeddings, embeddings_columns)\n",
    "response = all_index.search_by_player_name('Cristiano Ronaldo')"
   ]
  },
  {
   "cell_type": "code",
   "execution_count": 25,
   "metadata": {},
   "outputs": [
    {
     "data": {
      "text/plain": [
       "[{'player_name': 'Cristiano Ronaldo',\n",
       "  'player_positions': 'LW, LM',\n",
       "  'overall_rating': 93.0,\n",
       "  'potential': 93.0,\n",
       "  'birthday': Timestamp('1985-02-05 00:00:00'),\n",
       "  'player_fifa_api_id': 20801},\n",
       " {'player_name': 'Pierre-Emerick Aubameyang',\n",
       "  'player_positions': 'ST, RM, RW',\n",
       "  'overall_rating': 84.0,\n",
       "  'potential': 85.0,\n",
       "  'birthday': Timestamp('1989-06-18 00:00:00'),\n",
       "  'player_fifa_api_id': 188567},\n",
       " {'player_name': 'David Villa',\n",
       "  'player_positions': 'ST',\n",
       "  'overall_rating': 81.0,\n",
       "  'potential': 81.0,\n",
       "  'birthday': Timestamp('1981-12-03 00:00:00'),\n",
       "  'player_fifa_api_id': 113422},\n",
       " {'player_name': 'Quincy Promes',\n",
       "  'player_positions': 'RW, RM, LW',\n",
       "  'overall_rating': 80.0,\n",
       "  'potential': 86.0,\n",
       "  'birthday': Timestamp('1992-01-04 00:00:00'),\n",
       "  'player_fifa_api_id': 208808},\n",
       " {'player_name': 'Robbie Keane',\n",
       "  'player_positions': 'ST',\n",
       "  'overall_rating': 80.0,\n",
       "  'potential': 80.0,\n",
       "  'birthday': Timestamp('1980-07-08 00:00:00'),\n",
       "  'player_fifa_api_id': 330},\n",
       " {'player_name': 'Memphis Depay',\n",
       "  'player_positions': 'LW, CAM',\n",
       "  'overall_rating': 79.0,\n",
       "  'potential': 86.0,\n",
       "  'birthday': Timestamp('1994-02-13 00:00:00'),\n",
       "  'player_fifa_api_id': 202556},\n",
       " {'player_name': 'Luciano Dario Vietto',\n",
       "  'player_positions': 'ST',\n",
       "  'overall_rating': 78.0,\n",
       "  'potential': 85.0,\n",
       "  'birthday': Timestamp('1993-12-05 00:00:00'),\n",
       "  'player_fifa_api_id': 207441},\n",
       " {'player_name': 'Benjamin Moukandjo',\n",
       "  'player_positions': 'RM, LM, ST',\n",
       "  'overall_rating': 77.0,\n",
       "  'potential': 78.0,\n",
       "  'birthday': Timestamp('1988-11-12 00:00:00'),\n",
       "  'player_fifa_api_id': 185090},\n",
       " {'player_name': 'Hugo Rodallega',\n",
       "  'player_positions': 'ST',\n",
       "  'overall_rating': 76.0,\n",
       "  'potential': 76.0,\n",
       "  'birthday': Timestamp('1985-07-25 00:00:00'),\n",
       "  'player_fifa_api_id': 168565},\n",
       " {'player_name': 'Jay Rodriguez',\n",
       "  'player_positions': 'LM, ST',\n",
       "  'overall_rating': 76.0,\n",
       "  'potential': 78.0,\n",
       "  'birthday': Timestamp('1989-07-29 00:00:00'),\n",
       "  'player_fifa_api_id': 169792}]"
      ]
     },
     "execution_count": 25,
     "metadata": {},
     "output_type": "execute_result"
    }
   ],
   "source": [
    "sorted(response, key=lambda response: response['overall_rating'], reverse=True) "
   ]
  },
  {
   "cell_type": "code",
   "execution_count": null,
   "metadata": {},
   "outputs": [],
   "source": []
  }
 ],
 "metadata": {
  "kernelspec": {
   "display_name": "Python 3",
   "language": "python",
   "name": "python3"
  },
  "language_info": {
   "codemirror_mode": {
    "name": "ipython",
    "version": 3
   },
   "file_extension": ".py",
   "mimetype": "text/x-python",
   "name": "python",
   "nbconvert_exporter": "python",
   "pygments_lexer": "ipython3",
   "version": "3.7.9"
  }
 },
 "nbformat": 4,
 "nbformat_minor": 4
}
