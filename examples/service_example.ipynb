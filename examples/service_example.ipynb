{
 "cells": [
  {
   "cell_type": "code",
   "execution_count": 1,
   "metadata": {},
   "outputs": [],
   "source": [
    "%load_ext autoreload\n",
    "%autoreload 2"
   ]
  },
  {
   "cell_type": "code",
   "execution_count": 2,
   "metadata": {},
   "outputs": [],
   "source": [
    "from pathlib import Path\n",
    "from pprint import pprint\n",
    "\n",
    "import sys\n",
    "import os\n",
    "import pandas as pd\n",
    "import numpy as np"
   ]
  },
  {
   "cell_type": "code",
   "execution_count": 3,
   "metadata": {},
   "outputs": [],
   "source": [
    "REPO_PATH = Path('/home','shawn','Soccer-Player-Attributes-Comparison')\n",
    "sys.path.append(os.fspath(REPO_PATH))"
   ]
  },
  {
   "cell_type": "code",
   "execution_count": 4,
   "metadata": {},
   "outputs": [],
   "source": [
    "from fifa_similarity_search.service.index import ExampleIndex"
   ]
  },
  {
   "cell_type": "code",
   "execution_count": 5,
   "metadata": {},
   "outputs": [],
   "source": [
    "embeddings = pd.read_csv(Path(REPO_PATH, 'datasets','final_embeddings','dnn_embeddings_sh.csv'))"
   ]
  },
  {
   "cell_type": "code",
   "execution_count": 6,
   "metadata": {},
   "outputs": [],
   "source": [
    "df = pd.read_csv(Path(REPO_PATH, 'datasets','cleaned_soccer_data_120K.csv'))"
   ]
  },
  {
   "cell_type": "code",
   "execution_count": 7,
   "metadata": {},
   "outputs": [],
   "source": [
    "df = df.query('fifa==16')"
   ]
  },
  {
   "cell_type": "code",
   "execution_count": 8,
   "metadata": {},
   "outputs": [],
   "source": [
    "embeddings = embeddings.merge(df[['sofifa_id','overall','potential']], how='left', on=['sofifa_id'])"
   ]
  },
  {
   "cell_type": "code",
   "execution_count": 9,
   "metadata": {},
   "outputs": [],
   "source": [
    "embeddings = embeddings.rename(columns={\"dob\": \"birthday\", \"short_name\": \"player_name\",\"overall\":\"overall_rating\",\"sofifa_id\":\"player_fifa_api_id\"})"
   ]
  },
  {
   "cell_type": "code",
   "execution_count": 10,
   "metadata": {},
   "outputs": [],
   "source": [
    "embeddings.to_csv(Path(REPO_PATH, 'datasets','final_embeddings','dnn_embeddings_sh_v2.csv'), index=False)"
   ]
  },
  {
   "cell_type": "code",
   "execution_count": 11,
   "metadata": {},
   "outputs": [],
   "source": [
    "embeddings_columns = []\n",
    "for i in range(1,15):\n",
    "    embeddings_columns.append(f'PC_{i}')"
   ]
  },
  {
   "cell_type": "code",
   "execution_count": 12,
   "metadata": {},
   "outputs": [],
   "source": [
    "def get_dataset(df, embeddings_columns):\n",
    "    vectors = np.ascontiguousarray(df[embeddings_columns])\n",
    "    labels = np.ascontiguousarray(df['player_fifa_api_id'])\n",
    "    \n",
    "    return vectors.astype('float32'), np.expand_dims(labels, axis=1)"
   ]
  },
  {
   "cell_type": "code",
   "execution_count": 13,
   "metadata": {},
   "outputs": [],
   "source": [
    "class Service_Index():\n",
    "    def __init__(self, df, embeddings_columns):\n",
    "        vectors, labels = get_dataset(df, embeddings_columns)\n",
    "        self.df = df\n",
    "        self.vectors = vectors\n",
    "        self.labels = labels\n",
    "\n",
    "        self.index = ExampleIndex(vectors, labels)\n",
    "        self.index.build()\n",
    "\n",
    "        self.columns = ['player_name', 'player_positions', 'overall_rating', 'potential', 'birthday',\n",
    "                        'player_fifa_api_id']\n",
    "\n",
    "    def search_by_player_name(self, player_name):\n",
    "        # player_name must be exact\n",
    "        query_id = self.df[self.df.player_name == player_name].player_fifa_api_id.values[0]\n",
    "        id_ = self.df[self.df.player_fifa_api_id == query_id].index.values[0]\n",
    "        results, distances = self.index.query(np.expand_dims(self.vectors[id_], axis=0), k=11)\n",
    "        response = []\n",
    "        for ind, result_id in enumerate(results):\n",
    "            if query_id != result_id:\n",
    "                result_dict = self.df[self.df.player_fifa_api_id == result_id[0]][self.columns].iloc[0].to_dict()\n",
    "                result_dict[\"similarity_score\"] = 1/(1+distances[ind])\n",
    "                response.append(result_dict)\n",
    "        return response\n",
    "\n",
    "    def search_by_vector(self, vector, query_id):\n",
    "        results, distances = self.index.query(np.expand_dims(vector, axis=0), k=11)\n",
    "        response = []\n",
    "        for ind, result_id in enumerate(results):\n",
    "            if query_id != result_id:\n",
    "                result_dict = self.df[self.df.player_fifa_api_id == result_id[0]][self.columns].iloc[0].to_dict()\n",
    "                result_dict[\"similarity_score\"] = 1/(1+distances[ind])\n",
    "                response.append(result_dict)\n",
    "        return response"
   ]
  },
  {
   "cell_type": "markdown",
   "metadata": {},
   "source": [
    "## Use Case 1: Search all in database"
   ]
  },
  {
   "cell_type": "code",
   "execution_count": 14,
   "metadata": {},
   "outputs": [],
   "source": [
    "all_index = Service_Index(embeddings, embeddings_columns)"
   ]
  },
  {
   "cell_type": "code",
   "execution_count": 15,
   "metadata": {},
   "outputs": [
    {
     "name": "stdout",
     "output_type": "stream",
     "text": [
      "[{'birthday': '1987-02-01',\n",
      "  'overall_rating': 80,\n",
      "  'player_fifa_api_id': 162409,\n",
      "  'player_name': 'G. Rossi',\n",
      "  'player_positions': 'ST',\n",
      "  'potential': 80,\n",
      "  'similarity_score': 0.5864794747935401},\n",
      " {'birthday': '1993-11-15',\n",
      "  'overall_rating': 78,\n",
      "  'player_fifa_api_id': 211110,\n",
      "  'player_name': 'P. Dybala',\n",
      "  'player_positions': 'ST',\n",
      "  'potential': 88,\n",
      "  'similarity_score': 0.576062518992101},\n",
      " {'birthday': '1988-10-15',\n",
      "  'overall_rating': 87,\n",
      "  'player_fifa_api_id': 176635,\n",
      "  'player_name': 'M. Özil',\n",
      "  'player_positions': 'CAM, LW',\n",
      "  'potential': 88,\n",
      "  'similarity_score': 0.3395830491197915},\n",
      " {'birthday': '1984-01-23',\n",
      "  'overall_rating': 90,\n",
      "  'player_fifa_api_id': 9014,\n",
      "  'player_name': 'A. Robben',\n",
      "  'player_positions': 'RM, LM, RW',\n",
      "  'potential': 90,\n",
      "  'similarity_score': 0.3158182371135131},\n",
      " {'birthday': '1986-01-16',\n",
      "  'overall_rating': 69,\n",
      "  'player_fifa_api_id': 196871,\n",
      "  'player_name': 'M. Fernández',\n",
      "  'player_positions': 'RM, ST',\n",
      "  'potential': 69,\n",
      "  'similarity_score': 0.28410515057362185},\n",
      " {'birthday': '1993-07-18',\n",
      "  'overall_rating': 79,\n",
      "  'player_fifa_api_id': 216594,\n",
      "  'player_name': 'N. Fékir',\n",
      "  'player_positions': 'ST, CAM, RW, LW',\n",
      "  'potential': 85,\n",
      "  'similarity_score': 0.2593831580882039},\n",
      " {'birthday': '1989-05-11',\n",
      "  'overall_rating': 79,\n",
      "  'player_fifa_api_id': 170369,\n",
      "  'player_name': 'G. dos Santos',\n",
      "  'player_positions': 'ST, CF, LW, RW',\n",
      "  'potential': 82,\n",
      "  'similarity_score': 0.2579137946576974},\n",
      " {'birthday': '1987-04-28',\n",
      "  'overall_rating': 80,\n",
      "  'player_fifa_api_id': 105454,\n",
      "  'player_name': 'Z. Tošić',\n",
      "  'player_positions': 'RM',\n",
      "  'potential': 80,\n",
      "  'similarity_score': 0.257114345247907},\n",
      " {'birthday': '1994-02-26',\n",
      "  'overall_rating': 70,\n",
      "  'player_fifa_api_id': 213007,\n",
      "  'player_name': 'A. Assiri',\n",
      "  'player_positions': 'RM, LM, LW, RW',\n",
      "  'potential': 80,\n",
      "  'similarity_score': 0.255058382487601},\n",
      " {'birthday': '1995-09-01',\n",
      "  'overall_rating': 73,\n",
      "  'player_fifa_api_id': 220253,\n",
      "  'player_name': 'Munir',\n",
      "  'player_positions': 'RW, LW, ST',\n",
      "  'potential': 85,\n",
      "  'similarity_score': 0.24818256723712764}]\n"
     ]
    }
   ],
   "source": [
    "pprint(all_index.search_by_player_name('L. Messi'))"
   ]
  },
  {
   "cell_type": "code",
   "execution_count": 16,
   "metadata": {},
   "outputs": [],
   "source": [
    "#First Name is search query\n",
    "#The rest are search results"
   ]
  },
  {
   "cell_type": "markdown",
   "metadata": {},
   "source": [
    "## Use Case 2: Filter-Search: only look at all the under-21s (youths)"
   ]
  },
  {
   "cell_type": "markdown",
   "metadata": {},
   "source": [
    "Database is 2016. Those under 21 y-o would be born after 1995. Purpose of this is to get the potential next generation Cristiano Ronaldo"
   ]
  },
  {
   "cell_type": "code",
   "execution_count": 17,
   "metadata": {},
   "outputs": [],
   "source": [
    "embeddings.birthday = pd.to_datetime(embeddings.birthday)\n",
    "new_df = embeddings.query('birthday > 19950101')"
   ]
  },
  {
   "cell_type": "code",
   "execution_count": 18,
   "metadata": {},
   "outputs": [],
   "source": [
    "player_name = 'L. Messi'\n",
    "query_id = embeddings[embeddings.player_name == player_name].player_fifa_api_id.values[0]\n",
    "query_vector = np.array(embeddings[embeddings.player_fifa_api_id == query_id][embeddings_columns])\n",
    "query_vector = query_vector.reshape((14)).astype('float32')"
   ]
  },
  {
   "cell_type": "code",
   "execution_count": 19,
   "metadata": {
    "scrolled": true
   },
   "outputs": [
    {
     "name": "stdout",
     "output_type": "stream",
     "text": [
      "[{'birthday': Timestamp('1995-09-01 00:00:00'),\n",
      "  'overall_rating': 73,\n",
      "  'player_fifa_api_id': 220253,\n",
      "  'player_name': 'Munir',\n",
      "  'player_positions': 'RW, LW, ST',\n",
      "  'potential': 85,\n",
      "  'similarity_score': 0.24818256723712764},\n",
      " {'birthday': Timestamp('1996-06-13 00:00:00'),\n",
      "  'overall_rating': 69,\n",
      "  'player_fifa_api_id': 213345,\n",
      "  'player_name': 'K. Coman',\n",
      "  'player_positions': 'ST, LW',\n",
      "  'potential': 79,\n",
      "  'similarity_score': 0.17972101983643746},\n",
      " {'birthday': Timestamp('1995-11-20 00:00:00'),\n",
      "  'overall_rating': 69,\n",
      "  'player_fifa_api_id': 229147,\n",
      "  'player_name': 'João Vigário',\n",
      "  'player_positions': 'RW',\n",
      "  'potential': 77,\n",
      "  'similarity_score': 0.16666375271275863},\n",
      " {'birthday': Timestamp('1995-05-09 00:00:00'),\n",
      "  'overall_rating': 68,\n",
      "  'player_fifa_api_id': 216295,\n",
      "  'player_name': 'T. Dierckx',\n",
      "  'player_positions': 'RW',\n",
      "  'potential': 78,\n",
      "  'similarity_score': 0.1583054079533606},\n",
      " {'birthday': Timestamp('1995-02-13 00:00:00'),\n",
      "  'overall_rating': 67,\n",
      "  'player_fifa_api_id': 209264,\n",
      "  'player_name': 'B. Finne',\n",
      "  'player_positions': 'ST, LM, RM',\n",
      "  'potential': 78,\n",
      "  'similarity_score': 0.15493891660110376},\n",
      " {'birthday': Timestamp('1996-03-06 00:00:00'),\n",
      "  'overall_rating': 72,\n",
      "  'player_fifa_api_id': 212188,\n",
      "  'player_name': 'T. Werner',\n",
      "  'player_positions': 'LM, ST',\n",
      "  'potential': 84,\n",
      "  'similarity_score': 0.1495583463483166},\n",
      " {'birthday': Timestamp('1995-07-12 00:00:00'),\n",
      "  'overall_rating': 70,\n",
      "  'player_fifa_api_id': 216820,\n",
      "  'player_name': 'M. Simon',\n",
      "  'player_positions': 'ST',\n",
      "  'potential': 80,\n",
      "  'similarity_score': 0.14247333998658931},\n",
      " {'birthday': Timestamp('1995-09-06 00:00:00'),\n",
      "  'overall_rating': 74,\n",
      "  'player_fifa_api_id': 207948,\n",
      "  'player_name': 'B. Traoré',\n",
      "  'player_positions': 'ST, RW',\n",
      "  'potential': 85,\n",
      "  'similarity_score': 0.14100624228455244},\n",
      " {'birthday': Timestamp('1997-06-16 00:00:00'),\n",
      "  'overall_rating': 69,\n",
      "  'player_fifa_api_id': 225713,\n",
      "  'player_name': 'J. Augustin',\n",
      "  'player_positions': 'RW',\n",
      "  'potential': 78,\n",
      "  'similarity_score': 0.1382665258388682},\n",
      " {'birthday': Timestamp('1997-02-05 00:00:00'),\n",
      "  'overall_rating': 65,\n",
      "  'player_fifa_api_id': 221982,\n",
      "  'player_name': 'P. Roberts',\n",
      "  'player_positions': 'RM',\n",
      "  'potential': 81,\n",
      "  'similarity_score': 0.13519795426862563},\n",
      " {'birthday': Timestamp('1995-11-21 00:00:00'),\n",
      "  'overall_rating': 67,\n",
      "  'player_fifa_api_id': 228738,\n",
      "  'player_name': 'J. Murillo',\n",
      "  'player_positions': 'LW, RW',\n",
      "  'potential': 80,\n",
      "  'similarity_score': 0.13427267452677916}]\n"
     ]
    }
   ],
   "source": [
    "index = Service_Index(new_df, embeddings_columns)\n",
    "response = index.search_by_vector(query_vector, query_id)\n",
    "pprint(response)"
   ]
  },
  {
   "cell_type": "markdown",
   "metadata": {},
   "source": [
    "## Use Case 3: Best-Search: Get the best player of all similar players"
   ]
  },
  {
   "cell_type": "markdown",
   "metadata": {},
   "source": [
    "After getting the top K most similar players, which players are the best players out of them?"
   ]
  },
  {
   "cell_type": "markdown",
   "metadata": {},
   "source": [
    "Using the earlier example (use case 2), we notice that each player has a \"potential\" field. Let's sort them by their potential"
   ]
  },
  {
   "cell_type": "code",
   "execution_count": 20,
   "metadata": {},
   "outputs": [
    {
     "data": {
      "text/plain": [
       "[{'player_name': 'Munir',\n",
       "  'player_positions': 'RW, LW, ST',\n",
       "  'overall_rating': 73,\n",
       "  'potential': 85,\n",
       "  'birthday': Timestamp('1995-09-01 00:00:00'),\n",
       "  'player_fifa_api_id': 220253,\n",
       "  'similarity_score': 0.24818256723712764},\n",
       " {'player_name': 'B. Traoré',\n",
       "  'player_positions': 'ST, RW',\n",
       "  'overall_rating': 74,\n",
       "  'potential': 85,\n",
       "  'birthday': Timestamp('1995-09-06 00:00:00'),\n",
       "  'player_fifa_api_id': 207948,\n",
       "  'similarity_score': 0.14100624228455244},\n",
       " {'player_name': 'T. Werner',\n",
       "  'player_positions': 'LM, ST',\n",
       "  'overall_rating': 72,\n",
       "  'potential': 84,\n",
       "  'birthday': Timestamp('1996-03-06 00:00:00'),\n",
       "  'player_fifa_api_id': 212188,\n",
       "  'similarity_score': 0.1495583463483166},\n",
       " {'player_name': 'P. Roberts',\n",
       "  'player_positions': 'RM',\n",
       "  'overall_rating': 65,\n",
       "  'potential': 81,\n",
       "  'birthday': Timestamp('1997-02-05 00:00:00'),\n",
       "  'player_fifa_api_id': 221982,\n",
       "  'similarity_score': 0.13519795426862563},\n",
       " {'player_name': 'M. Simon',\n",
       "  'player_positions': 'ST',\n",
       "  'overall_rating': 70,\n",
       "  'potential': 80,\n",
       "  'birthday': Timestamp('1995-07-12 00:00:00'),\n",
       "  'player_fifa_api_id': 216820,\n",
       "  'similarity_score': 0.14247333998658931},\n",
       " {'player_name': 'J. Murillo',\n",
       "  'player_positions': 'LW, RW',\n",
       "  'overall_rating': 67,\n",
       "  'potential': 80,\n",
       "  'birthday': Timestamp('1995-11-21 00:00:00'),\n",
       "  'player_fifa_api_id': 228738,\n",
       "  'similarity_score': 0.13427267452677916},\n",
       " {'player_name': 'K. Coman',\n",
       "  'player_positions': 'ST, LW',\n",
       "  'overall_rating': 69,\n",
       "  'potential': 79,\n",
       "  'birthday': Timestamp('1996-06-13 00:00:00'),\n",
       "  'player_fifa_api_id': 213345,\n",
       "  'similarity_score': 0.17972101983643746},\n",
       " {'player_name': 'T. Dierckx',\n",
       "  'player_positions': 'RW',\n",
       "  'overall_rating': 68,\n",
       "  'potential': 78,\n",
       "  'birthday': Timestamp('1995-05-09 00:00:00'),\n",
       "  'player_fifa_api_id': 216295,\n",
       "  'similarity_score': 0.1583054079533606},\n",
       " {'player_name': 'B. Finne',\n",
       "  'player_positions': 'ST, LM, RM',\n",
       "  'overall_rating': 67,\n",
       "  'potential': 78,\n",
       "  'birthday': Timestamp('1995-02-13 00:00:00'),\n",
       "  'player_fifa_api_id': 209264,\n",
       "  'similarity_score': 0.15493891660110376},\n",
       " {'player_name': 'J. Augustin',\n",
       "  'player_positions': 'RW',\n",
       "  'overall_rating': 69,\n",
       "  'potential': 78,\n",
       "  'birthday': Timestamp('1997-06-16 00:00:00'),\n",
       "  'player_fifa_api_id': 225713,\n",
       "  'similarity_score': 0.1382665258388682},\n",
       " {'player_name': 'João Vigário',\n",
       "  'player_positions': 'RW',\n",
       "  'overall_rating': 69,\n",
       "  'potential': 77,\n",
       "  'birthday': Timestamp('1995-11-20 00:00:00'),\n",
       "  'player_fifa_api_id': 229147,\n",
       "  'similarity_score': 0.16666375271275863}]"
      ]
     },
     "execution_count": 20,
     "metadata": {},
     "output_type": "execute_result"
    }
   ],
   "source": [
    "sorted(response, key=lambda response: response['potential'], reverse=True) "
   ]
  },
  {
   "cell_type": "markdown",
   "metadata": {},
   "source": [
    "We can do the same for Use Case 1, but lets sort by ability instead. We are finding the best player most similar to Messi."
   ]
  },
  {
   "cell_type": "code",
   "execution_count": 21,
   "metadata": {},
   "outputs": [],
   "source": [
    "all_index = Service_Index(embeddings, embeddings_columns)\n",
    "response = all_index.search_by_player_name('L. Messi')"
   ]
  },
  {
   "cell_type": "code",
   "execution_count": 22,
   "metadata": {},
   "outputs": [
    {
     "data": {
      "text/plain": [
       "[{'player_name': 'A. Robben',\n",
       "  'player_positions': 'RM, LM, RW',\n",
       "  'overall_rating': 90,\n",
       "  'potential': 90,\n",
       "  'birthday': Timestamp('1984-01-23 00:00:00'),\n",
       "  'player_fifa_api_id': 9014,\n",
       "  'similarity_score': 0.3158182371135131},\n",
       " {'player_name': 'P. Dybala',\n",
       "  'player_positions': 'ST',\n",
       "  'overall_rating': 78,\n",
       "  'potential': 88,\n",
       "  'birthday': Timestamp('1993-11-15 00:00:00'),\n",
       "  'player_fifa_api_id': 211110,\n",
       "  'similarity_score': 0.576062518992101},\n",
       " {'player_name': 'M. Özil',\n",
       "  'player_positions': 'CAM, LW',\n",
       "  'overall_rating': 87,\n",
       "  'potential': 88,\n",
       "  'birthday': Timestamp('1988-10-15 00:00:00'),\n",
       "  'player_fifa_api_id': 176635,\n",
       "  'similarity_score': 0.3395830491197915},\n",
       " {'player_name': 'N. Fékir',\n",
       "  'player_positions': 'ST, CAM, RW, LW',\n",
       "  'overall_rating': 79,\n",
       "  'potential': 85,\n",
       "  'birthday': Timestamp('1993-07-18 00:00:00'),\n",
       "  'player_fifa_api_id': 216594,\n",
       "  'similarity_score': 0.2593831580882039},\n",
       " {'player_name': 'Munir',\n",
       "  'player_positions': 'RW, LW, ST',\n",
       "  'overall_rating': 73,\n",
       "  'potential': 85,\n",
       "  'birthday': Timestamp('1995-09-01 00:00:00'),\n",
       "  'player_fifa_api_id': 220253,\n",
       "  'similarity_score': 0.24818256723712764},\n",
       " {'player_name': 'G. dos Santos',\n",
       "  'player_positions': 'ST, CF, LW, RW',\n",
       "  'overall_rating': 79,\n",
       "  'potential': 82,\n",
       "  'birthday': Timestamp('1989-05-11 00:00:00'),\n",
       "  'player_fifa_api_id': 170369,\n",
       "  'similarity_score': 0.2579137946576974},\n",
       " {'player_name': 'G. Rossi',\n",
       "  'player_positions': 'ST',\n",
       "  'overall_rating': 80,\n",
       "  'potential': 80,\n",
       "  'birthday': Timestamp('1987-02-01 00:00:00'),\n",
       "  'player_fifa_api_id': 162409,\n",
       "  'similarity_score': 0.5864794747935401},\n",
       " {'player_name': 'Z. Tošić',\n",
       "  'player_positions': 'RM',\n",
       "  'overall_rating': 80,\n",
       "  'potential': 80,\n",
       "  'birthday': Timestamp('1987-04-28 00:00:00'),\n",
       "  'player_fifa_api_id': 105454,\n",
       "  'similarity_score': 0.257114345247907},\n",
       " {'player_name': 'A. Assiri',\n",
       "  'player_positions': 'RM, LM, LW, RW',\n",
       "  'overall_rating': 70,\n",
       "  'potential': 80,\n",
       "  'birthday': Timestamp('1994-02-26 00:00:00'),\n",
       "  'player_fifa_api_id': 213007,\n",
       "  'similarity_score': 0.255058382487601},\n",
       " {'player_name': 'M. Fernández',\n",
       "  'player_positions': 'RM, ST',\n",
       "  'overall_rating': 69,\n",
       "  'potential': 69,\n",
       "  'birthday': Timestamp('1986-01-16 00:00:00'),\n",
       "  'player_fifa_api_id': 196871,\n",
       "  'similarity_score': 0.28410515057362185}]"
      ]
     },
     "execution_count": 22,
     "metadata": {},
     "output_type": "execute_result"
    }
   ],
   "source": [
    "sorted(response, key=lambda response: response['potential'], reverse=True) "
   ]
  },
  {
   "cell_type": "code",
   "execution_count": null,
   "metadata": {},
   "outputs": [],
   "source": []
  }
 ],
 "metadata": {
  "kernelspec": {
   "display_name": "Python 3",
   "language": "python",
   "name": "python3"
  },
  "language_info": {
   "codemirror_mode": {
    "name": "ipython",
    "version": 3
   },
   "file_extension": ".py",
   "mimetype": "text/x-python",
   "name": "python",
   "nbconvert_exporter": "python",
   "pygments_lexer": "ipython3",
   "version": "3.7.9"
  }
 },
 "nbformat": 4,
 "nbformat_minor": 4
}
