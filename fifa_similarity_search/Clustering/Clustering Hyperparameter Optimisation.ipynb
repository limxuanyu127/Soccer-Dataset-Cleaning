{
 "cells": [
  {
   "cell_type": "code",
   "execution_count": null,
   "metadata": {},
   "outputs": [],
   "source": [
    "import pandas as pd\n",
    "import numpy as np\n",
    "import random\n",
    "import pathlib\n",
    "import matplotlib.pyplot as plt\n",
    "import seaborn as sns\n",
    "\n",
    "from sklearn.cluster import KMeans\n",
    "from sklearn.cluster import AgglomerativeClustering\n",
    "from sklearn.cluster import DBSCAN\n",
    "from pyclustering.cluster.cure import cure\n",
    "from pyclustering.utils import read_sample\n",
    "from sklearn.neighbors import NearestNeighbors\n",
    "\n",
    "from sklearn.metrics import silhouette_score\n",
    "from sklearn.model_selection import train_test_split\n",
    "from sklearn.preprocessing import MinMaxScaler"
   ]
  },
  {
   "cell_type": "code",
   "execution_count": null,
   "metadata": {},
   "outputs": [],
   "source": [
    "import sys\n",
    "sys.path.append(\"clustering_eval.py\")\n",
    "\n",
    "from clustering_eval import *"
   ]
  },
  {
   "cell_type": "code",
   "execution_count": null,
   "metadata": {},
   "outputs": [],
   "source": [
    "def remove_GK(samples):\n",
    "    kmeans = KMeans(n_clusters=2, random_state=42).fit(samples)\n",
    "    labels, cnts = np.unique(kmeans.labels_, return_counts=True)\n",
    "    majLabel = labels[np.argmax(cnts)]\n",
    "    return np.where(kmeans.labels_ == majLabel)[0]\n",
    "\n",
    "def group_samples(total_samples, nonGK_ind, nonGK_labels):\n",
    "    maxLabel = np.amax(nonGK_labels)\n",
    "    allLabels = np.full((total_samples), maxLabel+1)\n",
    "    allLabels[nonGK_ind] = nonGK_labels\n",
    "    return allLabels"
   ]
  },
  {
   "cell_type": "code",
   "execution_count": null,
   "metadata": {},
   "outputs": [],
   "source": [
    "class ScoreGenerator():\n",
    "    def __init__(self, samples, embedding_name):\n",
    "        self.embedding = embedding_name\n",
    "        \n",
    "        if pathlib.Path('{}/DBSCAN_results.csv'.format(embedding_name)).exists():\n",
    "            print(\"Using preexisting DBSCAN results\")\n",
    "            self.dbscan = pd.read_csv('{}/DBSCAN_results.csv'.format(embedding_name))\n",
    "        else:\n",
    "            self.dbscan = self.try_DBSCAN(samples)\n",
    "            \n",
    "        if pathlib.Path('{}/KMeans_results.csv'.format(embedding_name)).exists():\n",
    "            print(\"Using preexisting KMeans results\")\n",
    "            self.kmeans = pd.read_csv('{}/Kmeans_results.csv'.format(embedding_name))\n",
    "        else:\n",
    "            self.kmeans = self.try_KMeans(samples)\n",
    "            \n",
    "        if pathlib.Path('{}/CURE_results.csv'.format(embedding_name)).exists():\n",
    "            print(\"Using preexisting CURE results\")\n",
    "            self.cure = pd.read_csv('{}/CURE_results.csv'.format(embedding_name))        \n",
    "        else:\n",
    "            self.cure = self.try_CURE(samples)\n",
    "        \n",
    "        if pathlib.Path('{}/AggClustering_results.csv'.format(embedding_name)).exists():\n",
    "            print(\"Using preexisting AggClustering results\")\n",
    "            self.aggClustering = pd.read_csv('{}/AggClustering_results.csv'.format(embedding_name))\n",
    "        else:\n",
    "            self.aggClustering = self.try_AggClustering(samples)\n",
    "\n",
    "        if pathlib.Path('{}/Overall_results.csv'.format(embedding_name)).exists():\n",
    "            print(\"Using preexisting Overall results\")\n",
    "            self.overall = pd.read_csv('{}/Overall_results.csv'.format(embedding_name))\n",
    "        else:\n",
    "            self.overall = self.combine_results(samples.shape[0])\n",
    "        \n",
    "    def try_KMeans(self, samples):\n",
    "        KMeans_df = pd.DataFrame(columns=['Title', 'Embeddings', 'Algorithm', 'Num Clusters', 'Silhouette Score'])\n",
    "\n",
    "        for nc in range(6,21,2):\n",
    "            kmeans = KMeans(n_clusters=nc, random_state=42).fit(samples)\n",
    "            score = silhouette_score(samples, kmeans.labels_)\n",
    "\n",
    "            title = \"{}_KMeans_nc:{}\".format(self.embedding, nc)\n",
    "            KMeans_df = KMeans_df.append({\n",
    "                'Title': title,\n",
    "                'Embeddings' : self.embedding,\n",
    "                'Algorithm' : 'KMeans',  \n",
    "                'Num Clusters' : nc, \n",
    "                'Silhouette Score' : score\n",
    "                }, ignore_index = True)\n",
    "\n",
    "        KMeans_df.sort_values('Silhouette Score', ascending=False, inplace=True)\n",
    "        KMeans_df.to_csv('{}/KMeans_results.csv'.format(self.embedding), index=False)\n",
    "        KMeans_df = KMeans_df.reset_index(drop=True)\n",
    "        \n",
    "        return KMeans_df\n",
    "    \n",
    "    def try_AggClustering(self, samples):\n",
    "        AFFINITIES = [\"l1\", \"l2\", \"cosine\"]\n",
    "        LINKAGE = [\"ward\", \"complete\", \"average\", \"single\"]\n",
    "        AggClustering_df = pd.DataFrame(columns=['Title', 'Embeddings', 'Algorithm', 'Num Clusters', 'Linkage', 'Affinity', 'Silhouette Score'])\n",
    "\n",
    "        for link in LINKAGE:\n",
    "            for aff in AFFINITIES:\n",
    "                for nc in range(6,21,2):\n",
    "                    if link == \"ward\" and aff != \"euclidean\":\n",
    "                        continue\n",
    "\n",
    "                    title = \"{}_AggClustering_nc:{}_link:{}_aff:{}\".format(self.embedding, nc, link, aff)\n",
    "                    hc = AgglomerativeClustering(n_clusters=nc, affinity=aff, linkage=link)\n",
    "                    hc.fit(samples)\n",
    "                    score = silhouette_score(samples, hc.labels_)\n",
    "\n",
    "                    AggClustering_df = AggClustering_df.append({\n",
    "                        'Title': title,\n",
    "                        'Embeddings' : self.embedding,\n",
    "                        'Algorithm' : 'Agg_Clustering', \n",
    "                        'Num Clusters' : nc, \n",
    "                        'Linkage': link,\n",
    "                        'Affinity': aff,\n",
    "                        'Silhouette Score' : score\n",
    "                    }, ignore_index = True)\n",
    "\n",
    "        AggClustering_df.sort_values('Silhouette Score', ascending=False, inplace=True)\n",
    "        AggClustering_df.to_csv('{}/AggClustering_results.csv'.format(self.embedding), index=False)\n",
    "        AggClustering_df = AggClustering_df.reset_index(drop=True)\n",
    "        \n",
    "        return AggClustering_df\n",
    "    \n",
    "    def try_CURE(self, samples):\n",
    "        CURE_df = pd.DataFrame(columns=['Title', 'Embeddings', 'Algorithm', 'Num Clusters', 'Silhouette Score'])\n",
    "\n",
    "        for nc in range(6,21,2):\n",
    "            cure_instance = cure(samples, nc);\n",
    "            cure_instance.process();\n",
    "            clusters = cure_instance.get_clusters();\n",
    "            labels_ = np.zeros(shape=(samples.shape[0],))\n",
    "            for i, pts in enumerate(clusters):\n",
    "                labels_[pts] = i\n",
    "            score = silhouette_score(samples, labels_)\n",
    "\n",
    "            title = \"{}_CURE_nc:{}\".format(self.embedding, nc)\n",
    "            CURE_df = CURE_df.append({\n",
    "                'Title': title,\n",
    "                'Embeddings' : self.embedding,\n",
    "                'Algorithm' : 'CURE',  \n",
    "                'Num Clusters' : nc, \n",
    "                'Silhouette Score' : score\n",
    "                }, ignore_index = True)\n",
    "\n",
    "        CURE_df.sort_values('Silhouette Score', ascending=False, inplace=True)\n",
    "        CURE_df.to_csv('{}/CURE_results.csv'.format(self.embedding), index=False)\n",
    "        CURE_df = CURE_df.reset_index(drop=True)\n",
    "        \n",
    "        return CURE_df\n",
    "    \n",
    "    def find_optimal_eps(self, k, X, metric):\n",
    "        neigh = NearestNeighbors(n_neighbors=k, metric=metric)\n",
    "        neigh.fit(X)\n",
    "        dist, ind = neigh.kneighbors(X)\n",
    "        distances = sorted([dist[i][k - 1] for i in range(len(dist))])\n",
    "\n",
    "        # Find optimal eps from k-distance graph\n",
    "        sec_drv = np.diff(distances, 2)\n",
    "        start, end = int(X.shape[0]*0.01), int(-X.shape[0]*0.05)\n",
    "        idx = np.argmax(sec_drv[start:end]) + start\n",
    "        eps = distances[idx]\n",
    "\n",
    "        return idx, eps\n",
    "\n",
    "    def try_DBSCAN(self, X):\n",
    "        METRICS = ['l1', 'l2', 'cosine', 'correlation']\n",
    "        Dbscan_df = pd.DataFrame(columns=['Title', 'Embeddings', 'Algorithm', 'Num Clusters', \n",
    "                                          'Metric', 'MinPts', 'NumNoise', 'Silhouette Score'])\n",
    "\n",
    "        n_features = X.shape[1]\n",
    "        num_noise = 0\n",
    "        MIN_PTS = random.sample(range(int(n_features/2), n_features*2), 10)\n",
    "\n",
    "        for metric in METRICS:\n",
    "            for mp in MIN_PTS:\n",
    "                samples = np.copy(X)\n",
    "                title = \"{}_DBSCAN_metric:{}_minPts:{}\".format(self.embedding, metric, mp)\n",
    "                k = mp\n",
    "                idx, eps = self.find_optimal_eps(k, samples, metric)\n",
    "\n",
    "                # Do DBScan\n",
    "                db = DBSCAN(eps=eps, min_samples=mp, metric=metric).fit(samples)\n",
    "                nc = len(set(db.labels_)) - (1 if -1 in db.labels_ else 0)\n",
    "                labels = db.labels_\n",
    "\n",
    "                if -1 in labels:\n",
    "                    notNoiseInd = np.where(labels!=-1)[0]\n",
    "                    num_noise = samples.shape[0] - len(notNoiseInd)\n",
    "                    samples = samples[notNoiseInd]\n",
    "                    labels = labels[notNoiseInd]\n",
    "                else:\n",
    "                    num_noise = 0\n",
    "                \n",
    "                if nc == 1:\n",
    "                    print(\"Bad Clustering\")\n",
    "                    score = -1\n",
    "                else:\n",
    "                    score = silhouette_score(samples, labels)\n",
    "\n",
    "\n",
    "                Dbscan_df = Dbscan_df.append({\n",
    "                    'Title': title,\n",
    "                    'Embeddings' : self.embedding,\n",
    "                    'Algorithm' : 'DBScan',  \n",
    "                    'Num Clusters' : nc,\n",
    "                    'Metric': metric,\n",
    "                    'MinPts': mp,\n",
    "                    'NumNoise': num_noise,\n",
    "                    'Silhouette Score' : score\n",
    "                    }, ignore_index = True)\n",
    "\n",
    "        Dbscan_df.sort_values('Silhouette Score', ascending=False, inplace=True)\n",
    "        Dbscan_df.to_csv('{}/DBSCAN_results.csv'.format(self.embedding), index=False)\n",
    "        Dbscan_df = Dbscan_df.reset_index(drop=True)\n",
    "        \n",
    "        return Dbscan_df\n",
    "    \n",
    "    def combine_results(self, num_samples):\n",
    "        Overall_df = pd.DataFrame(columns=['Title', 'Embeddings', 'Algorithm', 'Num Clusters', 'Silhouette Score'])\n",
    "        \n",
    "        km_df = self.kmeans[Overall_df.columns]\n",
    "        agg_df = self.aggClustering[Overall_df.columns]\n",
    "        cure_df = self.cure[Overall_df.columns]\n",
    "        dbscan_df = self.dbscan.loc[self.dbscan['NumNoise'] < num_samples*0.2] \n",
    "        dbscan_df = dbscan_df[Overall_df.columns]\n",
    "        \n",
    "        Overall_df = pd.concat([Overall_df, km_df, agg_df, cure_df, dbscan_df])\n",
    "        Overall_df = Overall_df.loc[Overall_df['Num Clusters'] >= 6] \n",
    "        \n",
    "        Overall_df.sort_values('Silhouette Score', ascending=False, inplace=True)\n",
    "        Overall_df = Overall_df.reset_index(drop=True)\n",
    "        Overall_df = Overall_df.head(20)\n",
    "        \n",
    "        Overall_df.to_csv('{}/Overall_results.csv'.format(self.embedding), index=False)\n",
    "        return Overall_df\n",
    "    \n",
    "    def plot_best(self, samples, positions, algDict, gk_present=True):\n",
    "        if gk_present:\n",
    "            nonGK_ind = remove_GK(samples)\n",
    "            subset_samples = samples[nonGK_ind]\n",
    "        else:\n",
    "            subset_samples = samples\n",
    "        \n",
    "        for algorithm, best_n in algDict.items():\n",
    "            for i in range(best_n):\n",
    "                if algorithm == \"KMeans\":\n",
    "                    kmeans = KMeans(n_clusters=self.kmeans.at[i, \"Num Clusters\"], random_state=42).fit(subset_samples)\n",
    "                    subset_labels = kmeans.labels_\n",
    "                    title = self.kmeans.at[i, \"Title\"]\n",
    "\n",
    "                elif algorithm == \"AggClustering\":\n",
    "                    hc = AgglomerativeClustering(n_clusters=self.aggClustering.at[i, \"Num Clusters\"], \n",
    "                                                 affinity=self.aggClustering.at[i, \"Affinity\"], \n",
    "                                                 linkage=self.aggClustering.at[i, \"Linkage\"])\n",
    "                    hc.fit(subset_samples)\n",
    "                    subset_labels = hc.labels_\n",
    "                    title = self.aggClustering.at[i, \"Title\"]\n",
    "\n",
    "                elif algorithm == \"CURE\":\n",
    "                    cure_instance = cure(subset_samples, self.cure.at[i, \"Num Clusters\"]);\n",
    "                    cure_instance.process();\n",
    "                    clusters = cure_instance.get_clusters();\n",
    "                    subset_labels = np.zeros(shape=(subset_samples.shape[0],))\n",
    "                    for c, pts in enumerate(clusters):\n",
    "                        subset_labels[pts] = c\n",
    "                    title = self.cure.at[i, \"Title\"]\n",
    "\n",
    "                elif algorithm == \"DBSCAN\":\n",
    "                    idx, eps = self.find_optimal_eps(self.dbscan.at[i,\"MinPts\"], subset_samples, self.dbscan.at[i, \"Metric\"])\n",
    "\n",
    "                    # Do DBScan\n",
    "                    db = DBSCAN(eps=eps, \n",
    "                                min_samples=self.dbscan.at[i,\"MinPts\"], \n",
    "                                metric=self.dbscan.at[i, \"Metric\"]).fit(subset_samples)\n",
    "                    subset_labels = db.labels_\n",
    "                    title = self.dbscan.at[i,\"Title\"]\n",
    "\n",
    "                if gk_present:\n",
    "                    labels = group_samples(len(samples), nonGK_ind, subset_labels)\n",
    "                else:\n",
    "                    labels = subset_labels\n",
    "                labels_in_cluster(labels, positions, do_mining=False, title=title, save_link=self.embedding+\"/img\")\n",
    "                labels_in_cluster(labels, positions, title=title, save_link=self.embedding+\"/img\")\n",
    "                if len(samples) > 8000:\n",
    "                    _, subset_sampl, _, subset_lab = train_test_split(samples, labels, \n",
    "                                                                        test_size=8000, random_state=42,\n",
    "                                                                        stratify=labels)\n",
    "                    cosine_matrix(subset_sampl, subset_lab, title=title, save_link=self.embedding+\"/img\")\n",
    "                else:\n",
    "                    cosine_matrix(samples, labels, title=title, save_link=self.embedding+\"/img\")\n",
    "                silhouette_blob(samples, labels, title=title, save_link=self.embedding+\"/img\")"
   ]
  },
  {
   "cell_type": "markdown",
   "metadata": {},
   "source": [
    "# Datasets"
   ]
  },
  {
   "cell_type": "markdown",
   "metadata": {},
   "source": [
    "## 0 OG Dataset"
   ]
  },
  {
   "cell_type": "code",
   "execution_count": null,
   "metadata": {},
   "outputs": [],
   "source": [
    "df = pd.read_csv('../../datasets/cleaned_soccer_data_2016_v2.csv', index_col=0)\n",
    "df = df.drop([\"id\", \"player_fifa_api_id\", \"player_api_id\", \"date\", \"player_name\", 'player_positions'], axis=1)\n",
    "df"
   ]
  },
  {
   "cell_type": "code",
   "execution_count": null,
   "metadata": {},
   "outputs": [],
   "source": [
    "min_max_scaler = MinMaxScaler()\n",
    "X = min_max_scaler.fit_transform(df)\n",
    "np.random.shuffle(X)"
   ]
  },
  {
   "cell_type": "code",
   "execution_count": null,
   "metadata": {},
   "outputs": [],
   "source": [
    "nonGK_ind = remove_GK(X)\n",
    "X = X[nonGK_ind]"
   ]
  },
  {
   "cell_type": "code",
   "execution_count": null,
   "metadata": {},
   "outputs": [],
   "source": [
    "og = ScoreGenerator(X, \"OG\")"
   ]
  },
  {
   "cell_type": "code",
   "execution_count": null,
   "metadata": {},
   "outputs": [],
   "source": [
    "og.overall"
   ]
  },
  {
   "cell_type": "markdown",
   "metadata": {},
   "source": [
    "## 1 PCA-with-label"
   ]
  },
  {
   "cell_type": "code",
   "execution_count": null,
   "metadata": {},
   "outputs": [],
   "source": [
    "df = pd.read_csv(\"../../datasets/final_embeddings/soccer_player_embeddings_feature_labels.csv\", index_col=0)\n",
    "df"
   ]
  },
  {
   "cell_type": "code",
   "execution_count": null,
   "metadata": {},
   "outputs": [],
   "source": [
    "X = df.iloc[:, 2:12].values\n",
    "X"
   ]
  },
  {
   "cell_type": "code",
   "execution_count": null,
   "metadata": {},
   "outputs": [],
   "source": [
    "nonGK_ind = remove_GK(X)\n",
    "X = X[nonGK_ind]"
   ]
  },
  {
   "cell_type": "code",
   "execution_count": null,
   "metadata": {},
   "outputs": [],
   "source": [
    "pca_with_label = ScoreGenerator(X, \"PCA-with-label\")"
   ]
  },
  {
   "cell_type": "code",
   "execution_count": null,
   "metadata": {},
   "outputs": [],
   "source": [
    "pca_with_label.overall"
   ]
  },
  {
   "cell_type": "markdown",
   "metadata": {},
   "source": [
    "## 2 PCA-no-label"
   ]
  },
  {
   "cell_type": "code",
   "execution_count": null,
   "metadata": {},
   "outputs": [],
   "source": [
    "df = pd.read_csv(\"../../datasets/final_embeddings/soccer_player_embeddings_feature_no_labels.csv\", index_col=0)\n",
    "df"
   ]
  },
  {
   "cell_type": "code",
   "execution_count": null,
   "metadata": {},
   "outputs": [],
   "source": [
    "X = df.iloc[:, 2:16].values\n",
    "X"
   ]
  },
  {
   "cell_type": "code",
   "execution_count": null,
   "metadata": {},
   "outputs": [],
   "source": [
    "nonGK_ind = remove_GK(X)\n",
    "X = X[nonGK_ind]"
   ]
  },
  {
   "cell_type": "code",
   "execution_count": null,
   "metadata": {
    "scrolled": false
   },
   "outputs": [],
   "source": [
    "pca_no_label = ScoreGenerator(X, \"PCA-no-label\")"
   ]
  },
  {
   "cell_type": "code",
   "execution_count": null,
   "metadata": {
    "scrolled": false
   },
   "outputs": [],
   "source": [
    "pca_no_label.overall"
   ]
  },
  {
   "cell_type": "markdown",
   "metadata": {},
   "source": [
    "## 3 LDA"
   ]
  },
  {
   "cell_type": "code",
   "execution_count": null,
   "metadata": {},
   "outputs": [],
   "source": [
    "df = pd.read_csv(\"../../datasets/final_embeddings/soccer_player_embeddings_feature_no_labels_LDA.csv\", index_col=0)\n",
    "df"
   ]
  },
  {
   "cell_type": "code",
   "execution_count": null,
   "metadata": {},
   "outputs": [],
   "source": [
    "X = df.iloc[:, 0:42].values\n",
    "X"
   ]
  },
  {
   "cell_type": "code",
   "execution_count": null,
   "metadata": {},
   "outputs": [],
   "source": [
    "nonGK_ind = remove_GK(X)\n",
    "X = X[nonGK_ind]"
   ]
  },
  {
   "cell_type": "code",
   "execution_count": null,
   "metadata": {},
   "outputs": [],
   "source": [
    "lda = ScoreGenerator(X, \"LDA\")"
   ]
  },
  {
   "cell_type": "code",
   "execution_count": null,
   "metadata": {},
   "outputs": [],
   "source": [
    "lda.overall"
   ]
  },
  {
   "cell_type": "markdown",
   "metadata": {},
   "source": [
    "## 4 DNN_(5,36,32)"
   ]
  },
  {
   "cell_type": "code",
   "execution_count": null,
   "metadata": {
    "scrolled": true
   },
   "outputs": [],
   "source": [
    "df = pd.read_csv(\"../../datasets/final_embeddings/DNN_player_embeddings_(5,36,32).csv\", index_col=0)\n",
    "df"
   ]
  },
  {
   "cell_type": "code",
   "execution_count": null,
   "metadata": {},
   "outputs": [],
   "source": [
    "X = df.iloc[:, 0:32].values\n",
    "X"
   ]
  },
  {
   "cell_type": "code",
   "execution_count": null,
   "metadata": {},
   "outputs": [],
   "source": [
    "nonGK_ind = remove_GK(X)\n",
    "X = X[nonGK_ind]"
   ]
  },
  {
   "cell_type": "code",
   "execution_count": null,
   "metadata": {},
   "outputs": [],
   "source": [
    "dnn_shaped = ScoreGenerator(X, \"DNN_5_36_32\")"
   ]
  },
  {
   "cell_type": "code",
   "execution_count": null,
   "metadata": {},
   "outputs": [],
   "source": [
    "dnn_shaped.overall"
   ]
  },
  {
   "cell_type": "markdown",
   "metadata": {},
   "source": [
    "## 5 DNN v2"
   ]
  },
  {
   "cell_type": "code",
   "execution_count": null,
   "metadata": {
    "scrolled": true
   },
   "outputs": [],
   "source": [
    "df = pd.read_csv(\"../../datasets/final_embeddings/DNN_player_embeddings_v2.csv\", index_col=0)\n",
    "df"
   ]
  },
  {
   "cell_type": "code",
   "execution_count": null,
   "metadata": {
    "scrolled": true
   },
   "outputs": [],
   "source": [
    "X = df.iloc[:, 0:32].values\n",
    "X"
   ]
  },
  {
   "cell_type": "code",
   "execution_count": null,
   "metadata": {},
   "outputs": [],
   "source": [
    "nonGK_ind = remove_GK(X)\n",
    "X = X[nonGK_ind]"
   ]
  },
  {
   "cell_type": "code",
   "execution_count": null,
   "metadata": {},
   "outputs": [],
   "source": [
    "dnn_v2= ScoreGenerator(X, \"DNN_v2\")\n",
    "dnn_v2.overall"
   ]
  },
  {
   "cell_type": "markdown",
   "metadata": {},
   "source": [
    "## 6 PCA 0 Mean"
   ]
  },
  {
   "cell_type": "code",
   "execution_count": null,
   "metadata": {
    "scrolled": true
   },
   "outputs": [],
   "source": [
    "df = pd.read_csv(\"../../datasets/final_embeddings/embeddings_PCA_zero_mean.csv\")\n",
    "df"
   ]
  },
  {
   "cell_type": "code",
   "execution_count": null,
   "metadata": {
    "scrolled": true
   },
   "outputs": [],
   "source": [
    "X = df.iloc[:, 0:16].values\n",
    "X"
   ]
  },
  {
   "cell_type": "code",
   "execution_count": null,
   "metadata": {},
   "outputs": [],
   "source": [
    "nonGK_ind = remove_GK(X)\n",
    "X = X[nonGK_ind]"
   ]
  },
  {
   "cell_type": "code",
   "execution_count": null,
   "metadata": {
    "scrolled": false
   },
   "outputs": [],
   "source": [
    "pca_0_mean = ScoreGenerator(X, \"PCA-0-mean\")\n",
    "pca_0_mean.overall"
   ]
  },
  {
   "cell_type": "markdown",
   "metadata": {},
   "source": [
    "## 7 DNN SH"
   ]
  },
  {
   "cell_type": "code",
   "execution_count": null,
   "metadata": {
    "scrolled": true
   },
   "outputs": [],
   "source": [
    "df = pd.read_csv(\"../../datasets/final_embeddings/dnn_embeddings_sh.csv\")\n",
    "df"
   ]
  },
  {
   "cell_type": "code",
   "execution_count": null,
   "metadata": {
    "scrolled": true
   },
   "outputs": [],
   "source": [
    "X = df.iloc[:, 7:].values\n",
    "X"
   ]
  },
  {
   "cell_type": "code",
   "execution_count": null,
   "metadata": {},
   "outputs": [],
   "source": [
    "nonGK_ind = remove_GK(X)\n",
    "X = X[nonGK_ind]"
   ]
  },
  {
   "cell_type": "code",
   "execution_count": null,
   "metadata": {
    "scrolled": true
   },
   "outputs": [],
   "source": [
    "dnn_sh = ScoreGenerator(X, \"DNN_sh\")\n",
    "dnn_sh.overall"
   ]
  },
  {
   "cell_type": "markdown",
   "metadata": {},
   "source": [
    "## 8 DNN lr"
   ]
  },
  {
   "cell_type": "code",
   "execution_count": null,
   "metadata": {
    "scrolled": false
   },
   "outputs": [],
   "source": [
    "df = pd.read_csv(\"../../datasets/final_embeddings/dnn_embeddings_lr_no_gk.csv\")\n",
    "df"
   ]
  },
  {
   "cell_type": "code",
   "execution_count": null,
   "metadata": {
    "scrolled": false
   },
   "outputs": [],
   "source": [
    "X = df.iloc[:, :26].values\n",
    "X"
   ]
  },
  {
   "cell_type": "code",
   "execution_count": null,
   "metadata": {
    "scrolled": true
   },
   "outputs": [],
   "source": [
    "dnn_lr = ScoreGenerator(X, \"DNN_lr\")\n",
    "dnn_lr.overall"
   ]
  },
  {
   "cell_type": "markdown",
   "metadata": {},
   "source": [
    "## Combine best of all models"
   ]
  },
  {
   "cell_type": "code",
   "execution_count": null,
   "metadata": {},
   "outputs": [],
   "source": [
    "combined_df = pd.concat([og.overall, pca_with_label.overall, pca_no_label.overall, lda.overall, dnn_shaped.overall, dnn_v2.overall, pca_0_mean.overall, dnn_sh.overall, dnn_lr.overall]\n",
    "                        , ignore_index=True)\n",
    "combined_df.sort_values('Silhouette Score', ascending=False, inplace=True)\n",
    "combined_df = combined_df.reset_index(drop=True)\n",
    "combined_df.to_csv('Combined_results.csv', index=False)\n",
    "combined_df"
   ]
  },
  {
   "cell_type": "code",
   "execution_count": null,
   "metadata": {},
   "outputs": [],
   "source": [
    "sns.set_theme(style=\"whitegrid\", palette=\"muted\")\n",
    "f = sns.catplot(y=\"Embeddings\", x=\"Silhouette Score\", hue=\"Algorithm\", kind=\"swarm\", data=combined_df)\n",
    "f.fig.set_figwidth(12)\n",
    "f.fig.set_figheight(7)"
   ]
  },
  {
   "cell_type": "markdown",
   "metadata": {},
   "source": [
    "# Visualise best models"
   ]
  },
  {
   "cell_type": "code",
   "execution_count": null,
   "metadata": {},
   "outputs": [],
   "source": [
    "df = pd.read_csv('../../datasets/cleaned_soccer_data_2016_v2.csv', index_col=0)\n",
    "pos = df[\"player_positions\"]\n",
    "df = df.drop([\"id\", \"player_fifa_api_id\", \"player_api_id\", \"date\", \"player_name\", 'player_positions'], axis=1)\n",
    "min_max_scaler = MinMaxScaler()\n",
    "X = min_max_scaler.fit_transform(df)\n",
    "np.random.shuffle(X)"
   ]
  },
  {
   "cell_type": "code",
   "execution_count": null,
   "metadata": {},
   "outputs": [],
   "source": [
    "printDict = {\n",
    "    \"DBSCAN\": 2,\n",
    "    \"AggClustering\": 2,\n",
    "    \"KMeans\": 1,\n",
    "    \"CURE\": 1\n",
    "}\n",
    "\n",
    "og.plot_best(X, pos, printDict)"
   ]
  },
  {
   "cell_type": "code",
   "execution_count": null,
   "metadata": {
    "scrolled": true
   },
   "outputs": [],
   "source": [
    "df = pd.read_csv(\"../../datasets/final_embeddings/embeddings_PCA_zero_mean.csv\")\n",
    "X = df.iloc[:, 0:16].values\n",
    "pos = df[\"player_positions\"].values"
   ]
  },
  {
   "cell_type": "code",
   "execution_count": null,
   "metadata": {
    "scrolled": false
   },
   "outputs": [],
   "source": [
    "printDict = {\n",
    "    \"DBSCAN\": 3,\n",
    "    \"KMeans\": 1,\n",
    "    \"AggClustering\": 1,\n",
    "    \"CURE\": 1\n",
    "}\n",
    "\n",
    "pca_0_mean.plot_best(X, pos, printDict)"
   ]
  },
  {
   "cell_type": "code",
   "execution_count": null,
   "metadata": {},
   "outputs": [],
   "source": [
    "df = pd.read_csv(\"../../datasets/final_embeddings/dnn_embeddings_lr_no_gk.csv\")\n",
    "X = df.iloc[:, :26].values\n",
    "pos = df[\"player_positions\"].values"
   ]
  },
  {
   "cell_type": "code",
   "execution_count": null,
   "metadata": {},
   "outputs": [],
   "source": [
    "printDict = {\n",
    "    \"KMeans\": 2,\n",
    "    \"AggClustering\": 2,\n",
    "    \"CURE\": 1,\n",
    "    \"DBSCAN\": 1\n",
    "}\n",
    "\n",
    "dnn_lr.plot_best(X, pos, printDict, gk_present=False)"
   ]
  },
  {
   "cell_type": "code",
   "execution_count": null,
   "metadata": {},
   "outputs": [],
   "source": [
    "df = pd.read_csv(\"../../datasets/final_embeddings/dnn_embeddings_sh.csv\")\n",
    "X = df.iloc[:, 7:].values\n",
    "pos = df[\"player_positions\"].values"
   ]
  },
  {
   "cell_type": "code",
   "execution_count": null,
   "metadata": {
    "scrolled": true
   },
   "outputs": [],
   "source": [
    "printDict = {\n",
    "    \"KMeans\": 2,\n",
    "    \"AggClustering\": 2,\n",
    "    \"CURE\": 1,\n",
    "    \"DBSCAN\": 1\n",
    "}\n",
    "\n",
    "dnn_sh.plot_best(X, pos, printDict)"
   ]
  },
  {
   "cell_type": "code",
   "execution_count": null,
   "metadata": {},
   "outputs": [],
   "source": [
    "df = pd.read_csv(\"../../datasets/final_embeddings/DNN_player_embeddings_(5,36,32).csv\", index_col=0)\n",
    "X = df.iloc[:, 0:32].values\n",
    "pos = df[\"player_positions\"].values"
   ]
  },
  {
   "cell_type": "code",
   "execution_count": null,
   "metadata": {
    "scrolled": true
   },
   "outputs": [],
   "source": [
    "printDict = {\n",
    "    \"AggClustering\": 2,\n",
    "    \"CURE\": 2,\n",
    "    \"KMeans\": 1,\n",
    "    \"DBSCAN\": 1\n",
    "}\n",
    "\n",
    "dnn_shaped.plot_best(X, pos, printDict)"
   ]
  },
  {
   "cell_type": "code",
   "execution_count": null,
   "metadata": {},
   "outputs": [],
   "source": [
    "df = pd.read_csv(\"../../datasets/final_embeddings/soccer_player_embeddings_feature_no_labels.csv\", index_col=0)\n",
    "X = df.iloc[:, 2:16].values\n",
    "pos = df[\"player_positions\"].values"
   ]
  },
  {
   "cell_type": "code",
   "execution_count": null,
   "metadata": {},
   "outputs": [],
   "source": [
    "printDict = {\n",
    "    \"DBSCAN\": 2,\n",
    "    \"KMeans\": 1,\n",
    "    \"AggClustering\": 1,\n",
    "    \"CURE\": 1,\n",
    "}\n",
    "\n",
    "pca_no_label.plot_best(X, pos, printDict)"
   ]
  },
  {
   "cell_type": "code",
   "execution_count": null,
   "metadata": {},
   "outputs": [],
   "source": [
    "df = pd.read_csv(\"../../datasets/final_embeddings/soccer_player_embeddings_feature_labels.csv\", index_col=0)\n",
    "X = df.iloc[:, 2:12].values\n",
    "pos = df[\"player_positions\"].values"
   ]
  },
  {
   "cell_type": "code",
   "execution_count": null,
   "metadata": {},
   "outputs": [],
   "source": [
    "printDict = {\n",
    "    \"DBSCAN\": 2,\n",
    "    \"KMeans\": 2,\n",
    "    \"AggClustering\": 1,\n",
    "    \"CURE\": 1\n",
    "}\n",
    "\n",
    "pca_with_label.plot_best(X, pos, printDict)"
   ]
  },
  {
   "cell_type": "code",
   "execution_count": null,
   "metadata": {},
   "outputs": [],
   "source": [
    "df = pd.read_csv(\"../../datasets/final_embeddings/DNN_player_embeddings_v2.csv\", index_col=0)\n",
    "X = df.iloc[:, 0:32].values\n",
    "pos = df[\"player_positions\"].values"
   ]
  },
  {
   "cell_type": "code",
   "execution_count": null,
   "metadata": {},
   "outputs": [],
   "source": [
    "printDict = {\n",
    "    \"KMeans\": 1,\n",
    "    \"AggClustering\": 1,\n",
    "    \"CURE\": 1,\n",
    "    \"DBSCAN\": 1\n",
    "}\n",
    "\n",
    "dnn_v2.plot_best(X, pos, printDict)"
   ]
  },
  {
   "cell_type": "code",
   "execution_count": null,
   "metadata": {},
   "outputs": [],
   "source": [
    "df = pd.read_csv(\"../../datasets/final_embeddings/soccer_player_embeddings_feature_no_labels_LDA.csv\", index_col=0)\n",
    "X = df.iloc[:, :42].values\n",
    "pos = df[\"player_positions\"].values"
   ]
  },
  {
   "cell_type": "code",
   "execution_count": null,
   "metadata": {},
   "outputs": [],
   "source": [
    "printDict = {\n",
    "    \"KMeans\": 1,\n",
    "    \"AggClustering\": 1,\n",
    "    \"CURE\": 1,\n",
    "    \"DBSCAN\": 1\n",
    "}\n",
    "\n",
    "lda.plot_best(X, pos, printDict)"
   ]
  }
 ],
 "metadata": {
  "kernelspec": {
   "display_name": "Python 3",
   "language": "python",
   "name": "python3"
  },
  "language_info": {
   "codemirror_mode": {
    "name": "ipython",
    "version": 3
   },
   "file_extension": ".py",
   "mimetype": "text/x-python",
   "name": "python",
   "nbconvert_exporter": "python",
   "pygments_lexer": "ipython3",
   "version": "3.7.3"
  },
  "latex_envs": {
   "LaTeX_envs_menu_present": true,
   "autoclose": false,
   "autocomplete": true,
   "bibliofile": "biblio.bib",
   "cite_by": "apalike",
   "current_citInitial": 1,
   "eqLabelWithNumbers": true,
   "eqNumInitial": 1,
   "hotkeys": {
    "equation": "Ctrl-E",
    "itemize": "Ctrl-I"
   },
   "labels_anchors": false,
   "latex_user_defs": false,
   "report_style_numbering": false,
   "user_envs_cfg": false
  },
  "toc": {
   "base_numbering": 1,
   "nav_menu": {},
   "number_sections": true,
   "sideBar": true,
   "skip_h1_title": false,
   "title_cell": "Table of Contents",
   "title_sidebar": "Contents",
   "toc_cell": false,
   "toc_position": {},
   "toc_section_display": true,
   "toc_window_display": false
  }
 },
 "nbformat": 4,
 "nbformat_minor": 2
}
