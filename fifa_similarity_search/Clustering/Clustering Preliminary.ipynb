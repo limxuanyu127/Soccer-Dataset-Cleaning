{
 "cells": [
  {
   "cell_type": "code",
   "execution_count": 2,
   "metadata": {},
   "outputs": [],
   "source": [
    "import pandas as pd\n",
    "import numpy as np\n",
    "from sklearn.model_selection import train_test_split\n",
    "import matplotlib.pyplot as plt\n",
    "import seaborn as sns"
   ]
  },
  {
   "cell_type": "code",
   "execution_count": 8,
   "metadata": {},
   "outputs": [],
   "source": [
    "def remove_GK(samples):\n",
    "    kmeans = KMeans(n_clusters=2, random_state=42).fit(samples)\n",
    "    labels, cnts = np.unique(kmeans.labels_, return_counts=True)\n",
    "    majLabel = labels[np.argmax(cnts)]\n",
    "    return np.where(kmeans.labels_ == majLabel)[0]\n",
    "\n",
    "def group_samples(total_samples, nonGK_ind, nonGK_labels):\n",
    "    maxLabel = np.amax(nonGK_labels)\n",
    "    allLabels = np.full((total_samples), maxLabel+1)\n",
    "    allLabels[nonGK_ind] = nonGK_labels\n",
    "    return allLabels"
   ]
  },
  {
   "cell_type": "code",
   "execution_count": 6,
   "metadata": {},
   "outputs": [
    {
     "data": {
      "text/html": [
       "<div>\n",
       "<style scoped>\n",
       "    .dataframe tbody tr th:only-of-type {\n",
       "        vertical-align: middle;\n",
       "    }\n",
       "\n",
       "    .dataframe tbody tr th {\n",
       "        vertical-align: top;\n",
       "    }\n",
       "\n",
       "    .dataframe thead th {\n",
       "        text-align: right;\n",
       "    }\n",
       "</style>\n",
       "<table border=\"1\" class=\"dataframe\">\n",
       "  <thead>\n",
       "    <tr style=\"text-align: right;\">\n",
       "      <th></th>\n",
       "      <th>PC1</th>\n",
       "      <th>PC2</th>\n",
       "      <th>PC3</th>\n",
       "      <th>PC4</th>\n",
       "      <th>PC5</th>\n",
       "      <th>PC6</th>\n",
       "      <th>PC7</th>\n",
       "      <th>PC8</th>\n",
       "      <th>PC9</th>\n",
       "      <th>PC10</th>\n",
       "      <th>PC11</th>\n",
       "      <th>PC12</th>\n",
       "      <th>PC13</th>\n",
       "      <th>PC14</th>\n",
       "      <th>PC15</th>\n",
       "      <th>player_fifa_api_id</th>\n",
       "      <th>player_positions</th>\n",
       "      <th>player_positions_general</th>\n",
       "    </tr>\n",
       "  </thead>\n",
       "  <tbody>\n",
       "    <tr>\n",
       "      <th>5306</th>\n",
       "      <td>-0.157770</td>\n",
       "      <td>-0.217141</td>\n",
       "      <td>-0.074926</td>\n",
       "      <td>0.119582</td>\n",
       "      <td>-0.604439</td>\n",
       "      <td>0.235030</td>\n",
       "      <td>0.283937</td>\n",
       "      <td>0.235984</td>\n",
       "      <td>0.552348</td>\n",
       "      <td>-0.083091</td>\n",
       "      <td>-0.183125</td>\n",
       "      <td>0.021513</td>\n",
       "      <td>-0.050113</td>\n",
       "      <td>-0.041444</td>\n",
       "      <td>-0.030519</td>\n",
       "      <td>175866</td>\n",
       "      <td>CB, RB</td>\n",
       "      <td>DEF</td>\n",
       "    </tr>\n",
       "    <tr>\n",
       "      <th>22254</th>\n",
       "      <td>-0.405157</td>\n",
       "      <td>-0.349278</td>\n",
       "      <td>0.696905</td>\n",
       "      <td>-0.352758</td>\n",
       "      <td>-0.154302</td>\n",
       "      <td>0.021357</td>\n",
       "      <td>-0.097894</td>\n",
       "      <td>0.150029</td>\n",
       "      <td>-0.072190</td>\n",
       "      <td>-0.120491</td>\n",
       "      <td>0.037144</td>\n",
       "      <td>0.141829</td>\n",
       "      <td>-0.020354</td>\n",
       "      <td>0.055572</td>\n",
       "      <td>-0.051516</td>\n",
       "      <td>193705</td>\n",
       "      <td>ST, CF</td>\n",
       "      <td>ATK</td>\n",
       "    </tr>\n",
       "    <tr>\n",
       "      <th>59748</th>\n",
       "      <td>-0.305731</td>\n",
       "      <td>-0.287078</td>\n",
       "      <td>0.383117</td>\n",
       "      <td>0.037618</td>\n",
       "      <td>-0.640256</td>\n",
       "      <td>0.076865</td>\n",
       "      <td>0.148176</td>\n",
       "      <td>-0.088043</td>\n",
       "      <td>-0.233631</td>\n",
       "      <td>-0.100165</td>\n",
       "      <td>-0.029357</td>\n",
       "      <td>-0.008630</td>\n",
       "      <td>0.240522</td>\n",
       "      <td>-0.249664</td>\n",
       "      <td>-0.211283</td>\n",
       "      <td>199307</td>\n",
       "      <td>RB, RM</td>\n",
       "      <td>DEF</td>\n",
       "    </tr>\n",
       "    <tr>\n",
       "      <th>44497</th>\n",
       "      <td>-0.171527</td>\n",
       "      <td>-0.372300</td>\n",
       "      <td>-0.530163</td>\n",
       "      <td>0.593612</td>\n",
       "      <td>0.251421</td>\n",
       "      <td>-0.128967</td>\n",
       "      <td>-0.225369</td>\n",
       "      <td>-0.046336</td>\n",
       "      <td>-0.053766</td>\n",
       "      <td>-0.109994</td>\n",
       "      <td>0.005728</td>\n",
       "      <td>0.006362</td>\n",
       "      <td>-0.219568</td>\n",
       "      <td>-0.038507</td>\n",
       "      <td>0.031389</td>\n",
       "      <td>212800</td>\n",
       "      <td>CDM, CM</td>\n",
       "      <td>MID</td>\n",
       "    </tr>\n",
       "    <tr>\n",
       "      <th>114317</th>\n",
       "      <td>-0.382669</td>\n",
       "      <td>-0.262493</td>\n",
       "      <td>0.631836</td>\n",
       "      <td>-0.357748</td>\n",
       "      <td>-0.106782</td>\n",
       "      <td>0.078427</td>\n",
       "      <td>-0.307883</td>\n",
       "      <td>-0.029551</td>\n",
       "      <td>0.107882</td>\n",
       "      <td>0.111208</td>\n",
       "      <td>0.174445</td>\n",
       "      <td>-0.178606</td>\n",
       "      <td>0.171515</td>\n",
       "      <td>-0.013517</td>\n",
       "      <td>0.168245</td>\n",
       "      <td>254416</td>\n",
       "      <td>LW</td>\n",
       "      <td>ATK</td>\n",
       "    </tr>\n",
       "    <tr>\n",
       "      <th>...</th>\n",
       "      <td>...</td>\n",
       "      <td>...</td>\n",
       "      <td>...</td>\n",
       "      <td>...</td>\n",
       "      <td>...</td>\n",
       "      <td>...</td>\n",
       "      <td>...</td>\n",
       "      <td>...</td>\n",
       "      <td>...</td>\n",
       "      <td>...</td>\n",
       "      <td>...</td>\n",
       "      <td>...</td>\n",
       "      <td>...</td>\n",
       "      <td>...</td>\n",
       "      <td>...</td>\n",
       "      <td>...</td>\n",
       "      <td>...</td>\n",
       "      <td>...</td>\n",
       "    </tr>\n",
       "    <tr>\n",
       "      <th>70923</th>\n",
       "      <td>-0.402462</td>\n",
       "      <td>0.780311</td>\n",
       "      <td>-0.180623</td>\n",
       "      <td>-0.136821</td>\n",
       "      <td>0.086473</td>\n",
       "      <td>-0.243604</td>\n",
       "      <td>0.115147</td>\n",
       "      <td>-0.053233</td>\n",
       "      <td>0.141045</td>\n",
       "      <td>-0.097849</td>\n",
       "      <td>0.178889</td>\n",
       "      <td>-0.170017</td>\n",
       "      <td>0.047264</td>\n",
       "      <td>0.038682</td>\n",
       "      <td>0.027852</td>\n",
       "      <td>221791</td>\n",
       "      <td>LM</td>\n",
       "      <td>MID</td>\n",
       "    </tr>\n",
       "    <tr>\n",
       "      <th>117703</th>\n",
       "      <td>-0.185944</td>\n",
       "      <td>-0.262229</td>\n",
       "      <td>-0.102693</td>\n",
       "      <td>-0.093978</td>\n",
       "      <td>0.735911</td>\n",
       "      <td>0.330344</td>\n",
       "      <td>0.113771</td>\n",
       "      <td>-0.194326</td>\n",
       "      <td>0.110110</td>\n",
       "      <td>0.242198</td>\n",
       "      <td>0.161535</td>\n",
       "      <td>0.151091</td>\n",
       "      <td>0.117971</td>\n",
       "      <td>-0.159824</td>\n",
       "      <td>0.129298</td>\n",
       "      <td>233175</td>\n",
       "      <td>CAM, LM, RM</td>\n",
       "      <td>MID</td>\n",
       "    </tr>\n",
       "    <tr>\n",
       "      <th>11299</th>\n",
       "      <td>-0.316705</td>\n",
       "      <td>-0.339943</td>\n",
       "      <td>-0.473301</td>\n",
       "      <td>0.437200</td>\n",
       "      <td>0.338570</td>\n",
       "      <td>-0.171329</td>\n",
       "      <td>-0.227102</td>\n",
       "      <td>-0.107151</td>\n",
       "      <td>0.071792</td>\n",
       "      <td>-0.263074</td>\n",
       "      <td>0.168600</td>\n",
       "      <td>-0.023291</td>\n",
       "      <td>0.054678</td>\n",
       "      <td>-0.171917</td>\n",
       "      <td>0.161442</td>\n",
       "      <td>175563</td>\n",
       "      <td>RM, CAM</td>\n",
       "      <td>MID</td>\n",
       "    </tr>\n",
       "    <tr>\n",
       "      <th>21678</th>\n",
       "      <td>-0.125034</td>\n",
       "      <td>0.861658</td>\n",
       "      <td>-0.297537</td>\n",
       "      <td>0.130809</td>\n",
       "      <td>-0.195646</td>\n",
       "      <td>0.039964</td>\n",
       "      <td>0.168206</td>\n",
       "      <td>-0.039953</td>\n",
       "      <td>-0.110888</td>\n",
       "      <td>-0.153295</td>\n",
       "      <td>-0.089269</td>\n",
       "      <td>-0.138762</td>\n",
       "      <td>-0.053219</td>\n",
       "      <td>0.003313</td>\n",
       "      <td>0.025435</td>\n",
       "      <td>222151</td>\n",
       "      <td>CB</td>\n",
       "      <td>DEF</td>\n",
       "    </tr>\n",
       "    <tr>\n",
       "      <th>91799</th>\n",
       "      <td>0.358350</td>\n",
       "      <td>0.643333</td>\n",
       "      <td>-0.172938</td>\n",
       "      <td>0.257112</td>\n",
       "      <td>-0.198702</td>\n",
       "      <td>0.154183</td>\n",
       "      <td>0.188901</td>\n",
       "      <td>0.282595</td>\n",
       "      <td>-0.268203</td>\n",
       "      <td>0.141966</td>\n",
       "      <td>0.222875</td>\n",
       "      <td>-0.023859</td>\n",
       "      <td>0.146173</td>\n",
       "      <td>0.119218</td>\n",
       "      <td>0.070621</td>\n",
       "      <td>251616</td>\n",
       "      <td>CB</td>\n",
       "      <td>DEF</td>\n",
       "    </tr>\n",
       "  </tbody>\n",
       "</table>\n",
       "<p>121409 rows × 18 columns</p>\n",
       "</div>"
      ],
      "text/plain": [
       "             PC1       PC2       PC3       PC4       PC5       PC6       PC7  \\\n",
       "5306   -0.157770 -0.217141 -0.074926  0.119582 -0.604439  0.235030  0.283937   \n",
       "22254  -0.405157 -0.349278  0.696905 -0.352758 -0.154302  0.021357 -0.097894   \n",
       "59748  -0.305731 -0.287078  0.383117  0.037618 -0.640256  0.076865  0.148176   \n",
       "44497  -0.171527 -0.372300 -0.530163  0.593612  0.251421 -0.128967 -0.225369   \n",
       "114317 -0.382669 -0.262493  0.631836 -0.357748 -0.106782  0.078427 -0.307883   \n",
       "...          ...       ...       ...       ...       ...       ...       ...   \n",
       "70923  -0.402462  0.780311 -0.180623 -0.136821  0.086473 -0.243604  0.115147   \n",
       "117703 -0.185944 -0.262229 -0.102693 -0.093978  0.735911  0.330344  0.113771   \n",
       "11299  -0.316705 -0.339943 -0.473301  0.437200  0.338570 -0.171329 -0.227102   \n",
       "21678  -0.125034  0.861658 -0.297537  0.130809 -0.195646  0.039964  0.168206   \n",
       "91799   0.358350  0.643333 -0.172938  0.257112 -0.198702  0.154183  0.188901   \n",
       "\n",
       "             PC8       PC9      PC10      PC11      PC12      PC13      PC14  \\\n",
       "5306    0.235984  0.552348 -0.083091 -0.183125  0.021513 -0.050113 -0.041444   \n",
       "22254   0.150029 -0.072190 -0.120491  0.037144  0.141829 -0.020354  0.055572   \n",
       "59748  -0.088043 -0.233631 -0.100165 -0.029357 -0.008630  0.240522 -0.249664   \n",
       "44497  -0.046336 -0.053766 -0.109994  0.005728  0.006362 -0.219568 -0.038507   \n",
       "114317 -0.029551  0.107882  0.111208  0.174445 -0.178606  0.171515 -0.013517   \n",
       "...          ...       ...       ...       ...       ...       ...       ...   \n",
       "70923  -0.053233  0.141045 -0.097849  0.178889 -0.170017  0.047264  0.038682   \n",
       "117703 -0.194326  0.110110  0.242198  0.161535  0.151091  0.117971 -0.159824   \n",
       "11299  -0.107151  0.071792 -0.263074  0.168600 -0.023291  0.054678 -0.171917   \n",
       "21678  -0.039953 -0.110888 -0.153295 -0.089269 -0.138762 -0.053219  0.003313   \n",
       "91799   0.282595 -0.268203  0.141966  0.222875 -0.023859  0.146173  0.119218   \n",
       "\n",
       "            PC15  player_fifa_api_id player_positions player_positions_general  \n",
       "5306   -0.030519              175866           CB, RB                      DEF  \n",
       "22254  -0.051516              193705           ST, CF                      ATK  \n",
       "59748  -0.211283              199307           RB, RM                      DEF  \n",
       "44497   0.031389              212800          CDM, CM                      MID  \n",
       "114317  0.168245              254416               LW                      ATK  \n",
       "...          ...                 ...              ...                      ...  \n",
       "70923   0.027852              221791               LM                      MID  \n",
       "117703  0.129298              233175      CAM, LM, RM                      MID  \n",
       "11299   0.161442              175563          RM, CAM                      MID  \n",
       "21678   0.025435              222151               CB                      DEF  \n",
       "91799   0.070621              251616               CB                      DEF  \n",
       "\n",
       "[121409 rows x 18 columns]"
      ]
     },
     "execution_count": 6,
     "metadata": {},
     "output_type": "execute_result"
    }
   ],
   "source": [
    "df = pd.read_csv(\"../../datasets/soccer_player_embeddings_feature_no_labels_120K.csv\", index_col=0).sample(frac=1)\n",
    "EMBEDDINGS = \"120K_PCA-no-label\"\n",
    "df"
   ]
  },
  {
   "cell_type": "code",
   "execution_count": 7,
   "metadata": {},
   "outputs": [
    {
     "name": "stdout",
     "output_type": "stream",
     "text": [
      "(121309, 15)\n",
      "(100, 15)\n"
     ]
    }
   ],
   "source": [
    "X = df.iloc[:, :15].values\n",
    "train_X = X[:-100]\n",
    "print(train_X.shape)\n",
    "test_X = X[-100:]\n",
    "print(test_X.shape)"
   ]
  },
  {
   "cell_type": "code",
   "execution_count": 15,
   "metadata": {},
   "outputs": [],
   "source": [
    "nonGK_ind = remove_GK(train_X)\n",
    "subset_train_X = train_X[nonGK_ind]"
   ]
  },
  {
   "cell_type": "code",
   "execution_count": 4,
   "metadata": {},
   "outputs": [],
   "source": [
    "y = df['player_positions']"
   ]
  },
  {
   "cell_type": "code",
   "execution_count": 5,
   "metadata": {},
   "outputs": [
    {
     "name": "stdout",
     "output_type": "stream",
     "text": [
      "Position: CAM, count 887\n",
      "Position: CB, count 1326\n",
      "Position: CDM, count 1098\n",
      "Position: CF, count 229\n",
      "Position: CM, count 1326\n",
      "Position: GK, count 561\n",
      "Position: LB, count 754\n",
      "Position: LM, count 906\n",
      "Position: LW, count 357\n",
      "Position: LWB, count 44\n",
      "Position: RB, count 779\n",
      "Position: RM, count 918\n",
      "Position: RW, count 390\n",
      "Position: RWB, count 29\n",
      "Position: ST, count 1157\n"
     ]
    }
   ],
   "source": [
    "labels = []\n",
    "for l in y.values:\n",
    "    if ',' in l:\n",
    "        labels.extend(l.split(\", \"))\n",
    "    else:\n",
    "        labels.append(l)\n",
    "\n",
    "labels, counts = np.unique(labels, return_counts=True)\n",
    "for i, l in enumerate(labels):\n",
    "    print(\"Position: {}, count {}\".format(l, counts[i]))"
   ]
  },
  {
   "cell_type": "code",
   "execution_count": 6,
   "metadata": {},
   "outputs": [
    {
     "name": "stdout",
     "output_type": "stream",
     "text": [
      "(5086, 14)\n",
      "(1272, 14)\n"
     ]
    }
   ],
   "source": [
    "X_train, X_test, y_train, y_test = train_test_split(X, y, test_size=0.2, random_state=42)\n",
    "print(X_train.shape)\n",
    "print(X_test.shape)"
   ]
  },
  {
   "cell_type": "markdown",
   "metadata": {},
   "source": [
    "# Clustering Evaluation"
   ]
  },
  {
   "cell_type": "code",
   "execution_count": 10,
   "metadata": {},
   "outputs": [],
   "source": [
    "from sklearn.metrics import silhouette_samples, silhouette_score\n",
    "from sklearn.metrics.pairwise import cosine_similarity\n",
    "import matplotlib.cm as cm"
   ]
  },
  {
   "cell_type": "code",
   "execution_count": 11,
   "metadata": {},
   "outputs": [],
   "source": [
    "def silhouette_blob(samples, cluster_labels, cluster_centres=None, title=None, save_link=None):\n",
    "    n_clusters = len(np.unique(cluster_labels))\n",
    "    \n",
    "    # Create a subplot with 1 row and 2 columns\n",
    "    fig, (ax1, ax2) = plt.subplots(1, 2)\n",
    "    fig.set_size_inches(18, 10)\n",
    "\n",
    "    # The 1st subplot is the silhouette plot\n",
    "    # The silhouette coefficient can range from -1, 1 but in this example all\n",
    "    # lie within [-0.1, 1]\n",
    "    ax1.set_xlim([-0.1, 1])\n",
    "    # The (n_clusters+1)*10 is for inserting blank space between silhouette\n",
    "    # plots of individual clusters, to demarcate them clearly.\n",
    "    ax1.set_ylim([0, len(samples) + (n_clusters + 1) * 10])\n",
    "\n",
    "    # The silhouette_score gives the average value for all the samples.\n",
    "    # This gives a perspective into the density and separation of the formed\n",
    "    # clusters\n",
    "    silhouette_avg = silhouette_score(samples, cluster_labels)\n",
    "    print(\"For n_clusters =\", n_clusters,\n",
    "          \"The average silhouette_score is :\", silhouette_avg)\n",
    "\n",
    "    # Compute the silhouette scores for each sample\n",
    "    sample_silhouette_values = silhouette_samples(samples, cluster_labels)\n",
    "\n",
    "    y_lower = 10\n",
    "    for i in range(n_clusters):\n",
    "        # Aggregate the silhouette scores for samples belonging to\n",
    "        # cluster i, and sort them\n",
    "        ith_cluster_silhouette_values = sample_silhouette_values[cluster_labels == i]\n",
    "\n",
    "        ith_cluster_silhouette_values.sort()\n",
    "\n",
    "        size_cluster_i = ith_cluster_silhouette_values.shape[0]\n",
    "        y_upper = y_lower + size_cluster_i\n",
    "\n",
    "        color = cm.nipy_spectral(float(i) / n_clusters)\n",
    "        ax1.fill_betweenx(np.arange(y_lower, y_upper),\n",
    "                          0, ith_cluster_silhouette_values,\n",
    "                          facecolor=color, edgecolor=color, alpha=0.7)\n",
    "\n",
    "        # Label the silhouette plots with their cluster numbers at the middle\n",
    "        ax1.text(-0.05, y_lower + 0.5 * size_cluster_i, str(i))\n",
    "\n",
    "        # Compute the new y_lower for next plot\n",
    "        y_lower = y_upper + 10  # 10 for the 0 samples\n",
    "\n",
    "        ax1.set_title(\"The silhouette plot for the various clusters.\")\n",
    "        ax1.set_xlabel(\"The silhouette coefficient values\")\n",
    "        ax1.set_ylabel(\"Cluster label\")\n",
    "\n",
    "        # The vertical line for average silhouette score of all the values\n",
    "        ax1.axvline(x=silhouette_avg, color=\"red\", linestyle=\"--\")\n",
    "\n",
    "        ax1.set_yticks([])  # Clear the yaxis labels / ticks\n",
    "        ax1.set_xticks([-0.1, 0, 0.2, 0.4, 0.6, 0.8, 1])\n",
    "\n",
    "        # 2nd Plot showing the actual clusters formed\n",
    "        colors = cm.nipy_spectral(cluster_labels.astype(float) / n_clusters)\n",
    "        ax2.scatter(samples[:, 0], samples[:, 1], marker='.', s=30, lw=0, alpha=0.7,\n",
    "                    c=colors, edgecolor='k')\n",
    "\n",
    "        if cluster_centres is not None:\n",
    "            # Draw white circles at cluster centers\n",
    "            ax2.scatter(cluster_centres[:, 0], cluster_centres[:, 1], marker='o',\n",
    "                        c=\"white\", alpha=1, s=200, edgecolor='k')\n",
    "\n",
    "            for i, c in enumerate(cluster_centres):\n",
    "                ax2.scatter(c[0], c[1], marker='$%d$' % i, alpha=1,\n",
    "                            s=50, edgecolor='k')\n",
    "\n",
    "        ax2.set_title(\"The visualization of the clustered data.\")\n",
    "        ax2.set_xlabel(\"Feature space for the 1st feature\")\n",
    "        ax2.set_ylabel(\"Feature space for the 2nd feature\")\n",
    "\n",
    "        plt.suptitle((\"Silhouette analysis for %s\" % (title)),\n",
    "                     fontsize=14, fontweight='bold')\n",
    "    \n",
    "    if save_link:\n",
    "        plt.savefig('{}/{} Silhouette Scores.png'.format(save_link, title))\n",
    "    plt.show()\n",
    "    \n",
    "    return silhouette_avg"
   ]
  },
  {
   "cell_type": "code",
   "execution_count": 12,
   "metadata": {},
   "outputs": [],
   "source": [
    "def labels_in_cluster(given_cluster, num_clusters, title=None, save_link=None):\n",
    "    y_train_vals = y_train.values\n",
    "    classes_in_cluster = np.zeros(shape=(num_clusters, len(labels)), dtype=int)\n",
    "    for i in range(num_clusters):\n",
    "        dataInd = np.argwhere(given_cluster==i).flatten()\n",
    "        for ind in dataInd:\n",
    "            if ',' in y_train_vals[ind]:\n",
    "                split = y_train_vals[ind].split(', ')\n",
    "                for s in split:\n",
    "                    j, = np.where(labels == s)\n",
    "                    classes_in_cluster[i][j] += 1\n",
    "            else:\n",
    "                j, = np.where(labels == y_train_vals[ind])\n",
    "                classes_in_cluster[i][j] += 1\n",
    "    \n",
    "    plt.figure(figsize=(15,5))\n",
    "    if title:\n",
    "        plt.title(\"Labels within clusters by {}\".format(title))\n",
    "    else:\n",
    "        plt.title(\"Labels within clusters\")\n",
    "    sns.heatmap(classes_in_cluster, annot=True, cmap='Blues', fmt=\"d\")\n",
    "    plt.xticks([(i+0.5) for i in np.arange(len(labels))], labels=labels)\n",
    "    \n",
    "    if save_link:\n",
    "        plt.savefig('{}/{} Labels within Clusters.png'.format(save_link, title))\n",
    "    plt.show()"
   ]
  },
  {
   "cell_type": "code",
   "execution_count": 13,
   "metadata": {},
   "outputs": [],
   "source": [
    "def cosine_matrix(samples, labels, title=None, save_link=None):\n",
    "    unique_labels, counts = np.unique(labels, return_counts=True)\n",
    "    tick_loc = [(sum(counts[:i])+counts[i]/2) for i in np.arange(len(unique_labels))]\n",
    "    \n",
    "    num_samples = samples.shape[0]\n",
    "    sortedInd = np.argsort(labels)\n",
    "    \n",
    "    plt.figure(figsize=(20,15))\n",
    "    if title:\n",
    "        plt.title(\"Cosine Matrix by Clusters from {}\".format(title))\n",
    "    else:\n",
    "        plt.title(\"Cosine Matrix by Clusters\")\n",
    "    sns.heatmap(cosine_similarity(samples[sortedInd]), cmap='Blues')\n",
    "    plt.yticks(tick_loc, labels=unique_labels)\n",
    "    plt.xticks(tick_loc, labels=unique_labels, rotation='horizontal')\n",
    "    \n",
    "    if save_link:\n",
    "        plt.savefig('{}/{} Cosine Similarity.png'.format(save_link, title))\n",
    "    plt.show()"
   ]
  },
  {
   "cell_type": "code",
   "execution_count": null,
   "metadata": {
    "scrolled": true
   },
   "outputs": [],
   "source": [
    "cosine_matrix(X_train.values, kmeans.labels_)"
   ]
  },
  {
   "cell_type": "markdown",
   "metadata": {},
   "source": [
    "# Clustering Techniques"
   ]
  },
  {
   "cell_type": "markdown",
   "metadata": {},
   "source": [
    "## KMeans"
   ]
  },
  {
   "cell_type": "code",
   "execution_count": 14,
   "metadata": {},
   "outputs": [],
   "source": [
    "from sklearn.cluster import KMeans"
   ]
  },
  {
   "cell_type": "code",
   "execution_count": null,
   "metadata": {},
   "outputs": [],
   "source": [
    "kMeans_df = pd.DataFrame(columns=['Algorithm', 'Embeddings', 'Num Clusters', 'Silhouette Score'])"
   ]
  },
  {
   "cell_type": "code",
   "execution_count": null,
   "metadata": {},
   "outputs": [],
   "source": [
    "for nc in range(6,21,2):\n",
    "    title = \"kMeans {} clusters\".format(nc)\n",
    "    kmeans = KMeans(n_clusters=nc, random_state=42).fit(X_train)\n",
    "    score = silhouette_blob(X_train.values, kmeans.labels_, kmeans.cluster_centers_, title, save_link)\n",
    "    kMeans_df = kMeans_df.append({'Algorithm' : 'KMeans', 'Embeddings' : EMBEDDINGS, 'Num Clusters' : nc, 'Silhouette Score' : score},  \n",
    "                ignore_index = True) \n",
    "    cosine_matrix(X_train.values, kmeans.labels_, title, save_link)"
   ]
  },
  {
   "cell_type": "code",
   "execution_count": null,
   "metadata": {},
   "outputs": [],
   "source": [
    "kMeans_df"
   ]
  },
  {
   "cell_type": "code",
   "execution_count": null,
   "metadata": {},
   "outputs": [],
   "source": [
    "kMeans_df.to_csv('{}/results.csv'.format(save_link))"
   ]
  },
  {
   "cell_type": "markdown",
   "metadata": {},
   "source": [
    "## Agglomerative Clustering"
   ]
  },
  {
   "cell_type": "code",
   "execution_count": 11,
   "metadata": {},
   "outputs": [],
   "source": [
    "from scipy.cluster.hierarchy import dendrogram, linkage\n",
    "from sklearn.cluster import AgglomerativeClustering"
   ]
  },
  {
   "cell_type": "code",
   "execution_count": 29,
   "metadata": {},
   "outputs": [],
   "source": [
    "def find_elbow(linkageArr, startSearch=1, title=None):\n",
    "    last = linkageArr[-30:, 2]\n",
    "    last_rev = last[::-1]\n",
    "    idxs = np.arange(1, len(last) + 1)\n",
    "    acceleration = np.diff(last, 2)  # 2nd derivative of the distances\n",
    "    acceleration_rev = acceleration[::-1]\n",
    "    \n",
    "    if title:\n",
    "        plt.title(\"Elbow search for {}\".format(title))\n",
    "    else:\n",
    "        plt.title(\"Elbow search\")\n",
    "    plt.plot(idxs, last_rev, label=\"Distances\")\n",
    "    plt.plot(idxs[:-2] + 1, acceleration_rev, label=\"2nd Derviv\")\n",
    "    plt.legend(loc=\"best\")\n",
    "    plt.show()\n",
    "\n",
    "    k = acceleration_rev[startSearch:].argmax() + 2 + startSearch  # if idx 0 is the max of this we want 2 clusters\n",
    "    max_dist = last_rev[k-2]\n",
    "    print(\"clusters: {} at max_dist: {}\".format(k, max_dist))\n",
    "    \n",
    "    return k, max_dist"
   ]
  },
  {
   "cell_type": "code",
   "execution_count": 13,
   "metadata": {},
   "outputs": [],
   "source": [
    "def fancy_dendrogram(*args, **kwargs):\n",
    "    max_d = kwargs.pop('max_d', None)\n",
    "    if max_d and 'color_threshold' not in kwargs:\n",
    "        kwargs['color_threshold'] = max_d\n",
    "    annotate_above = kwargs.pop('annotate_above', 0)\n",
    "\n",
    "    ddata = dendrogram(*args, **kwargs)\n",
    "\n",
    "    if not kwargs.get('no_plot', False):\n",
    "        plt.xlabel('sample index or (cluster size)')\n",
    "        plt.ylabel('distance')\n",
    "        for i, d, c in zip(ddata['icoord'], ddata['dcoord'], ddata['color_list']):\n",
    "            x = 0.5 * sum(i[1:3])\n",
    "            y = d[1]\n",
    "            if y > annotate_above:\n",
    "                plt.plot(x, y, 'o', c=c)\n",
    "                plt.annotate(\"%.3g\" % y, (x, y), xytext=(0, -5),\n",
    "                             textcoords='offset points',\n",
    "                             va='top', ha='center')\n",
    "        if max_d:\n",
    "            plt.axhline(y=max_d, c='k')\n",
    "    return ddata\n",
    "\n",
    "def plot_dendogram(linkageArr, numClusters, maxDist=None, title=None):\n",
    "    plt.figure(figsize=(15,7))\n",
    "    if title:\n",
    "        plt.title('Hierarchical Clustering Dendrogram (truncated) for {}'.format(title))\n",
    "    else:\n",
    "        plt.title('Hierarchical Clustering Dendrogram (truncated)')\n",
    "    fancy_dendrogram(\n",
    "        linkageArr,\n",
    "        truncate_mode='lastp',\n",
    "        p=numClusters,\n",
    "        leaf_rotation=90.,\n",
    "        leaf_font_size=12.,\n",
    "        show_contracted=True,\n",
    "        annotate_above=10,\n",
    "        max_d=maxDist,\n",
    "    )\n",
    "    plt.show()"
   ]
  },
  {
   "cell_type": "code",
   "execution_count": null,
   "metadata": {},
   "outputs": [],
   "source": [
    "aggClustering_df = pd.DataFrame(columns=['Algorithm', 'Embeddings', 'Linkage', 'Affinity', 'Num Clusters', 'Silhouette Score'])\n",
    "save_link = \"Agg_Clustering/PCA\""
   ]
  },
  {
   "cell_type": "code",
   "execution_count": null,
   "metadata": {},
   "outputs": [],
   "source": [
    "AFFINITIES = [\"euclidean\", \"l1\", \"l2\", \"manhattan\", \"cosine\"]\n",
    "LINKAGE = [\"ward\", \"complete\", \"average\", \"single\"]"
   ]
  },
  {
   "cell_type": "code",
   "execution_count": null,
   "metadata": {},
   "outputs": [],
   "source": [
    "for link in LINKAGE:\n",
    "    for aff in AFFINITIES:\n",
    "        for nc in range(2,21,2):\n",
    "            if link == \"ward\" and aff != \"euclidean\":\n",
    "                continue\n",
    "            title = \"{}-{} {} clusters\".format(link, aff, nc)\n",
    "            hc = AgglomerativeClustering(n_clusters=nc, affinity=aff, linkage=link)\n",
    "            hc.fit(X_train)\n",
    "            score = silhouette_blob(X_train.values, hc.labels_, title=title, save_link=save_link)\n",
    "            labels_in_cluster(hc.labels_, nc, title, save_link=save_link)\n",
    "            cosine_matrix(X_train.values, hc.labels_, title, save_link)\n",
    "            \n",
    "            aggClustering_df = aggClustering_df.append(\n",
    "                {'Algorithm' : 'Agg_Clustering', \n",
    "                 'Embeddings' : EMBEDDINGS,\n",
    "                 'Linkage': link,\n",
    "                 'Affinity': aff,\n",
    "                 'Num Clusters' : nc, \n",
    "                 'Silhouette Score' : score},  \n",
    "                ignore_index = True)"
   ]
  },
  {
   "cell_type": "code",
   "execution_count": null,
   "metadata": {},
   "outputs": [],
   "source": [
    "aggClustering_df"
   ]
  },
  {
   "cell_type": "code",
   "execution_count": null,
   "metadata": {},
   "outputs": [],
   "source": [
    "aggClustering_df.sort_values('Silhouette Score', ascending=False)"
   ]
  },
  {
   "cell_type": "markdown",
   "metadata": {},
   "source": [
    "### Single Link"
   ]
  },
  {
   "cell_type": "code",
   "execution_count": 14,
   "metadata": {},
   "outputs": [],
   "source": [
    "title = \"Single link\"\n",
    "Z_single = linkage(X_train, 'single')"
   ]
  },
  {
   "cell_type": "code",
   "execution_count": 27,
   "metadata": {},
   "outputs": [
    {
     "data": {
      "image/png": "[encoded data removed]",
      "text/plain": [
       "<Figure size 432x288 with 1 Axes>"
      ]
     },
     "metadata": {
      "needs_background": "light"
     },
     "output_type": "display_data"
    },
    {
     "name": "stdout",
     "output_type": "stream",
     "text": [
      "clusters: 18 at max_dist: 1.4127103762087345\n"
     ]
    }
   ],
   "source": [
    "k_single, maxDist_single = find_elbow(Z_single, title=title)"
   ]
  },
  {
   "cell_type": "code",
   "execution_count": null,
   "metadata": {},
   "outputs": [],
   "source": [
    "plot_dendogram(Z_single, numClusters=int(k_single)+10, maxDist=maxDist_single-10**(-1), title=title)"
   ]
  },
  {
   "cell_type": "code",
   "execution_count": null,
   "metadata": {},
   "outputs": [],
   "source": [
    "single_hc = AgglomerativeClustering(n_clusters=k_single, affinity='euclidean', linkage='single')\n",
    "single_hc.fit(X_train)\n",
    "silhouette_blob(X_train.values, single_hc.labels_, \"Single Link\")\n",
    "labels_in_cluster(kmeans.labels_, nc, \"Single Link\")"
   ]
  },
  {
   "cell_type": "markdown",
   "metadata": {},
   "source": [
    "### Complete Link"
   ]
  },
  {
   "cell_type": "code",
   "execution_count": 19,
   "metadata": {},
   "outputs": [],
   "source": [
    "title = \"Complete link\"\n",
    "Z_complete = linkage(X_train, 'complete')"
   ]
  },
  {
   "cell_type": "code",
   "execution_count": 28,
   "metadata": {},
   "outputs": [
    {
     "data": {
      "image/png": "[encoded data removed]",
      "text/plain": [
       "<Figure size 432x288 with 1 Axes>"
      ]
     },
     "metadata": {
      "needs_background": "light"
     },
     "output_type": "display_data"
    },
    {
     "name": "stdout",
     "output_type": "stream",
     "text": [
      "clusters: 8 at max_dist: 3.340226997228668\n"
     ]
    }
   ],
   "source": [
    "k_complete, maxDist_complete= find_elbow(Z_complete, title=title)"
   ]
  },
  {
   "cell_type": "code",
   "execution_count": null,
   "metadata": {},
   "outputs": [],
   "source": [
    "plot_dendogram(Z_complete, numClusters=int(k_complete)+10, maxDist=maxDist_complete-10**(-1), title=title)"
   ]
  },
  {
   "cell_type": "code",
   "execution_count": null,
   "metadata": {},
   "outputs": [],
   "source": [
    "complete_kMeans = KMeans(n_clusters=k_complete, random_state=42).fit(X_train)\n",
    "labels_in_cluster(complete_kMeans.labels_, k_complete, title)"
   ]
  },
  {
   "cell_type": "code",
   "execution_count": null,
   "metadata": {},
   "outputs": [],
   "source": [
    "silhouette_blob(X_train.values, complete_kMeans.labels_, complete_kMeans.cluster_centers_)"
   ]
  },
  {
   "cell_type": "markdown",
   "metadata": {},
   "source": [
    "### Average Link"
   ]
  },
  {
   "cell_type": "code",
   "execution_count": 24,
   "metadata": {},
   "outputs": [],
   "source": [
    "title = \"Average link\"\n",
    "Z_average = linkage(X_train, 'average')"
   ]
  },
  {
   "cell_type": "code",
   "execution_count": 36,
   "metadata": {
    "scrolled": false
   },
   "outputs": [
    {
     "data": {
      "image/png": "[encoded data removed]",
      "text/plain": [
       "<Figure size 432x288 with 1 Axes>"
      ]
     },
     "metadata": {
      "needs_background": "light"
     },
     "output_type": "display_data"
    },
    {
     "name": "stdout",
     "output_type": "stream",
     "text": [
      "clusters: 23 at max_dist: 1.5421316000585787\n"
     ]
    }
   ],
   "source": [
    "k_average, maxDist_average= find_elbow(Z_average, 5, title=title)"
   ]
  },
  {
   "cell_type": "code",
   "execution_count": null,
   "metadata": {
    "scrolled": true
   },
   "outputs": [],
   "source": [
    "plot_dendogram(Z_average, numClusters=int(k_average)+10, maxDist=maxDist_average-5*10**(-2), title=title)"
   ]
  },
  {
   "cell_type": "code",
   "execution_count": null,
   "metadata": {
    "scrolled": true
   },
   "outputs": [],
   "source": [
    "average_kMeans = KMeans(n_clusters=k_average, random_state=42).fit(X_train)\n",
    "labels_in_cluster(average_kMeans.labels_, k_average, title)"
   ]
  },
  {
   "cell_type": "code",
   "execution_count": null,
   "metadata": {},
   "outputs": [],
   "source": [
    "silhouette_blob(X_train.values, average_kMeans.labels_, average_kMeans.cluster_centers_)"
   ]
  },
  {
   "cell_type": "markdown",
   "metadata": {},
   "source": [
    "### Weighted Link"
   ]
  },
  {
   "cell_type": "code",
   "execution_count": 31,
   "metadata": {},
   "outputs": [],
   "source": [
    "title = \"Weighted link\"\n",
    "Z_weighted = linkage(X_train, 'weighted')"
   ]
  },
  {
   "cell_type": "code",
   "execution_count": 35,
   "metadata": {
    "scrolled": true
   },
   "outputs": [
    {
     "data": {
      "image/png": "[encoded data removed]",
      "text/plain": [
       "<Figure size 432x288 with 1 Axes>"
      ]
     },
     "metadata": {
      "needs_background": "light"
     },
     "output_type": "display_data"
    },
    {
     "name": "stdout",
     "output_type": "stream",
     "text": [
      "clusters: 21 at max_dist: 1.8158036647067894\n"
     ]
    }
   ],
   "source": [
    "k_weighted, maxDist_weighted= find_elbow(Z_weighted, 10, title=title)"
   ]
  },
  {
   "cell_type": "code",
   "execution_count": null,
   "metadata": {
    "scrolled": true
   },
   "outputs": [],
   "source": [
    "plot_dendogram(Z_weighted, numClusters=int(k_weighted)+10, maxDist=maxDist_weighted-5*10**(-2), title=title)"
   ]
  },
  {
   "cell_type": "code",
   "execution_count": null,
   "metadata": {
    "scrolled": false
   },
   "outputs": [],
   "source": [
    "weighted_kMeans = KMeans(n_clusters=k_weighted, random_state=42).fit(X_train)\n",
    "labels_in_cluster(weighted_kMeans.labels_, k_weighted, title)"
   ]
  },
  {
   "cell_type": "code",
   "execution_count": null,
   "metadata": {},
   "outputs": [],
   "source": [
    "silhouette_blob(X_train.values, weighted_kMeans.labels_, weighted_kMeans.cluster_centers_)"
   ]
  },
  {
   "cell_type": "markdown",
   "metadata": {},
   "source": [
    "### Ward LInk"
   ]
  },
  {
   "cell_type": "code",
   "execution_count": null,
   "metadata": {},
   "outputs": [],
   "source": [
    "title = \"Ward link\"\n",
    "Z_ward = linkage(X_train, 'ward')"
   ]
  },
  {
   "cell_type": "code",
   "execution_count": null,
   "metadata": {
    "scrolled": true
   },
   "outputs": [],
   "source": [
    "k_ward, maxDist_ward= find_elbow(Z_ward, title=title)"
   ]
  },
  {
   "cell_type": "code",
   "execution_count": null,
   "metadata": {
    "scrolled": true
   },
   "outputs": [],
   "source": [
    "plot_dendogram(Z_ward, numClusters=int(k_ward)+10, maxDist=maxDist_ward-5, title=title)"
   ]
  },
  {
   "cell_type": "code",
   "execution_count": null,
   "metadata": {
    "scrolled": false
   },
   "outputs": [],
   "source": [
    "agg_with_kmeans(num_clusters=k_ward, title=title)"
   ]
  },
  {
   "cell_type": "markdown",
   "metadata": {},
   "source": [
    "## Cure"
   ]
  },
  {
   "cell_type": "code",
   "execution_count": null,
   "metadata": {},
   "outputs": [],
   "source": [
    "from pyclustering.cluster import cluster_visualizer\n",
    "from pyclustering.cluster.cure import cure\n",
    "from pyclustering.utils import read_sample"
   ]
  },
  {
   "cell_type": "code",
   "execution_count": null,
   "metadata": {},
   "outputs": [],
   "source": [
    "# Allocate three clusters.\n",
    "cure_instance = cure(X_train.values, 20);\n",
    "cure_instance.process();\n",
    "clusters = cure_instance.get_clusters();"
   ]
  },
  {
   "cell_type": "code",
   "execution_count": null,
   "metadata": {},
   "outputs": [],
   "source": [
    "len(clusters[0])"
   ]
  },
  {
   "cell_type": "code",
   "execution_count": null,
   "metadata": {},
   "outputs": [],
   "source": [
    "title = \"CURE\"\n",
    "given_clusters = np.zeros(shape=(X_train.shape[0],))\n",
    "for i, pts in enumerate(clusters):\n",
    "    given_clusters[pts] = i"
   ]
  },
  {
   "cell_type": "code",
   "execution_count": null,
   "metadata": {},
   "outputs": [],
   "source": [
    "labels_in_cluster(given_clusters, 20, title)"
   ]
  },
  {
   "cell_type": "code",
   "execution_count": null,
   "metadata": {},
   "outputs": [],
   "source": [
    "silhouette_blob(X_train.values, given_clusters, np.array(cure_instance.get_means()))"
   ]
  },
  {
   "cell_type": "markdown",
   "metadata": {},
   "source": [
    "# OG Dataset"
   ]
  },
  {
   "cell_type": "code",
   "execution_count": null,
   "metadata": {},
   "outputs": [],
   "source": [
    "og_df = pd.read_csv('../../datasets/cleaned_soccer_data_2016_v2.csv')\n",
    "og_df.columns"
   ]
  },
  {
   "cell_type": "code",
   "execution_count": null,
   "metadata": {},
   "outputs": [],
   "source": [
    "og_pos = og_df['player_positions']\n",
    "og_df = og_df.drop([\"Unnamed: 0\", \"id\", \"player_fifa_api_id\", \"player_api_id\", \"date\", \"player_name\", 'player_positions'], axis=1)\n",
    "og_df"
   ]
  },
  {
   "cell_type": "code",
   "execution_count": null,
   "metadata": {},
   "outputs": [],
   "source": [
    "for l in labels:\n",
    "    og_df[l] = [0] * len(og_df)\n",
    "\n",
    "for i, p in enumerate(og_pos.values):\n",
    "    if ',' in p:\n",
    "        split = p.split(', ')\n",
    "        for s in split:\n",
    "            og_df.loc[i, s] = 1\n",
    "    else:\n",
    "        og_df.loc[i, p] = 1\n",
    "        \n",
    "og_df"
   ]
  },
  {
   "cell_type": "code",
   "execution_count": null,
   "metadata": {},
   "outputs": [],
   "source": [
    "from sklearn.preprocessing import MinMaxScaler\n",
    "min_max_scaler = MinMaxScaler()\n",
    "og_scaled = min_max_scaler.fit_transform(og_df)"
   ]
  },
  {
   "cell_type": "code",
   "execution_count": null,
   "metadata": {},
   "outputs": [],
   "source": [
    "np.random.shuffle(og_scaled)\n",
    "samples = og_scaled[:5000]\n",
    "len(samples)"
   ]
  },
  {
   "cell_type": "code",
   "execution_count": null,
   "metadata": {},
   "outputs": [],
   "source": [
    "for nc in [4,6,8,10,11,12,14,16]:\n",
    "    kmeans = KMeans(n_clusters=nc, random_state=42).fit(samples)\n",
    "    silhouette_blob(samples, kmeans.labels_, kmeans.cluster_centers_)"
   ]
  },
  {
   "cell_type": "code",
   "execution_count": null,
   "metadata": {},
   "outputs": [],
   "source": [
    "from sklearn.decomposition import PCA\n",
    "pca = PCA(n_components=20)\n",
    "pca.fit(og_scaled)"
   ]
  },
  {
   "cell_type": "code",
   "execution_count": null,
   "metadata": {},
   "outputs": [],
   "source": [
    "pca.explained_variance_ratio_"
   ]
  }
 ],
 "metadata": {
  "kernelspec": {
   "display_name": "Python 3",
   "language": "python",
   "name": "python3"
  },
  "language_info": {
   "codemirror_mode": {
    "name": "ipython",
    "version": 3
   },
   "file_extension": ".py",
   "mimetype": "text/x-python",
   "name": "python",
   "nbconvert_exporter": "python",
   "pygments_lexer": "ipython3",
   "version": "3.7.3"
  },
  "latex_envs": {
   "LaTeX_envs_menu_present": true,
   "autoclose": false,
   "autocomplete": true,
   "bibliofile": "biblio.bib",
   "cite_by": "apalike",
   "current_citInitial": 1,
   "eqLabelWithNumbers": true,
   "eqNumInitial": 1,
   "hotkeys": {
    "equation": "Ctrl-E",
    "itemize": "Ctrl-I"
   },
   "labels_anchors": false,
   "latex_user_defs": false,
   "report_style_numbering": false,
   "user_envs_cfg": false
  },
  "toc": {
   "base_numbering": 1,
   "nav_menu": {},
   "number_sections": true,
   "sideBar": true,
   "skip_h1_title": false,
   "title_cell": "Table of Contents",
   "title_sidebar": "Contents",
   "toc_cell": false,
   "toc_position": {},
   "toc_section_display": true,
   "toc_window_display": false
  }
 },
 "nbformat": 4,
 "nbformat_minor": 2
}
