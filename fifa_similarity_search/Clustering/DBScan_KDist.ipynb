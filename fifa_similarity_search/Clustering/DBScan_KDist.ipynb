{
 "cells": [
  {
   "cell_type": "code",
   "execution_count": 1,
   "metadata": {},
   "outputs": [],
   "source": [
    "import numpy as np\n",
    "import pandas as pd\n",
    "\n",
    "from sklearn.neighbors import NearestNeighbors\n",
    "from sklearn.cluster import DBSCAN\n",
    "import matplotlib.pyplot as plt\n",
    "from sklearn import metrics\n",
    "import seaborn as sns"
   ]
  },
  {
   "cell_type": "code",
   "execution_count": 2,
   "metadata": {},
   "outputs": [
    {
     "data": {
      "text/html": [
       "<div>\n",
       "<style scoped>\n",
       "    .dataframe tbody tr th:only-of-type {\n",
       "        vertical-align: middle;\n",
       "    }\n",
       "\n",
       "    .dataframe tbody tr th {\n",
       "        vertical-align: top;\n",
       "    }\n",
       "\n",
       "    .dataframe thead th {\n",
       "        text-align: right;\n",
       "    }\n",
       "</style>\n",
       "<table border=\"1\" class=\"dataframe\">\n",
       "  <thead>\n",
       "    <tr style=\"text-align: right;\">\n",
       "      <th></th>\n",
       "      <th>Unnamed: 0</th>\n",
       "      <th>player_positions</th>\n",
       "      <th>player_fifa_api_id</th>\n",
       "      <th>PC1</th>\n",
       "      <th>PC2</th>\n",
       "      <th>PC3</th>\n",
       "      <th>PC4</th>\n",
       "      <th>PC5</th>\n",
       "      <th>PC6</th>\n",
       "      <th>PC7</th>\n",
       "      <th>PC8</th>\n",
       "      <th>PC9</th>\n",
       "      <th>PC10</th>\n",
       "      <th>PC11</th>\n",
       "      <th>PC12</th>\n",
       "      <th>PC13</th>\n",
       "      <th>PC14</th>\n",
       "      <th>player_positions_general</th>\n",
       "    </tr>\n",
       "  </thead>\n",
       "  <tbody>\n",
       "    <tr>\n",
       "      <th>0</th>\n",
       "      <td>0</td>\n",
       "      <td>CB</td>\n",
       "      <td>218353</td>\n",
       "      <td>0.378084</td>\n",
       "      <td>0.493866</td>\n",
       "      <td>-0.218586</td>\n",
       "      <td>-0.238711</td>\n",
       "      <td>-0.500447</td>\n",
       "      <td>0.219325</td>\n",
       "      <td>0.125196</td>\n",
       "      <td>-0.119898</td>\n",
       "      <td>-0.141964</td>\n",
       "      <td>0.142511</td>\n",
       "      <td>-0.056706</td>\n",
       "      <td>0.011622</td>\n",
       "      <td>0.019336</td>\n",
       "      <td>0.023303</td>\n",
       "      <td>DEF</td>\n",
       "    </tr>\n",
       "    <tr>\n",
       "      <th>1</th>\n",
       "      <td>1</td>\n",
       "      <td>LB</td>\n",
       "      <td>189615</td>\n",
       "      <td>-1.046989</td>\n",
       "      <td>-0.190204</td>\n",
       "      <td>1.120495</td>\n",
       "      <td>0.563388</td>\n",
       "      <td>-0.440816</td>\n",
       "      <td>-0.198932</td>\n",
       "      <td>0.338791</td>\n",
       "      <td>0.223150</td>\n",
       "      <td>0.041387</td>\n",
       "      <td>-0.025337</td>\n",
       "      <td>0.229595</td>\n",
       "      <td>0.055748</td>\n",
       "      <td>-0.099781</td>\n",
       "      <td>0.020387</td>\n",
       "      <td>DEF</td>\n",
       "    </tr>\n",
       "  </tbody>\n",
       "</table>\n",
       "</div>"
      ],
      "text/plain": [
       "   Unnamed: 0 player_positions  player_fifa_api_id       PC1       PC2  \\\n",
       "0           0               CB              218353  0.378084  0.493866   \n",
       "1           1               LB              189615 -1.046989 -0.190204   \n",
       "\n",
       "        PC3       PC4       PC5       PC6       PC7       PC8       PC9  \\\n",
       "0 -0.218586 -0.238711 -0.500447  0.219325  0.125196 -0.119898 -0.141964   \n",
       "1  1.120495  0.563388 -0.440816 -0.198932  0.338791  0.223150  0.041387   \n",
       "\n",
       "       PC10      PC11      PC12      PC13      PC14 player_positions_general  \n",
       "0  0.142511 -0.056706  0.011622  0.019336  0.023303                      DEF  \n",
       "1 -0.025337  0.229595  0.055748 -0.099781  0.020387                      DEF  "
      ]
     },
     "execution_count": 2,
     "metadata": {},
     "output_type": "execute_result"
    }
   ],
   "source": [
    "# Read in data into a dataframe number of rows - 6358\n",
    "file = 'soccer_player_embeddings_feature_no_labels.csv'\n",
    "df = pd.read_csv('../../datasets/final_embeddings/{}'.format(file))\n",
    "df.head(2)"
   ]
  },
  {
   "cell_type": "markdown",
   "metadata": {},
   "source": [
    "# Functions for DBScan"
   ]
  },
  {
   "cell_type": "code",
   "execution_count": 17,
   "metadata": {},
   "outputs": [],
   "source": [
    "def kth_neighbour(k, X, metric='euclidean'):\n",
    "    neigh = NearestNeighbors(n_neighbors=k, metric=metric)\n",
    "    neigh.fit(X)\n",
    "    dist, ind = neigh.kneighbors(X)\n",
    "    distances = sorted([dist[i][k - 1] for i in range(len(dist))])\n",
    "\n",
    "    return distances\n",
    "\n",
    "\n",
    "def plot_kdist(dist, idx):\n",
    "    plt.figure(figsize =(7, 5))\n",
    "    plt.plot(dist)\n",
    "    plt.axvline(x=idx, color='r', linestyle='dashed')\n",
    "    plt.axhline(y=dist[idx], color='r', linestyle='dashed')\n",
    "    plt.ylabel(\"k-distances (eps)\")\n",
    "    plt.title('K-distance Graph')\n",
    "    plt.grid(True)\n",
    "    plt.savefig('k_distance_graph.png')\n",
    "    plt.show()\n",
    "    \n",
    "def find_eps(dist):\n",
    "    sec_drv = np.diff(dist, 2)\n",
    "    start, end = 100, -300\n",
    "    idx = np.argmax(sec_drv[start:end]) + start\n",
    "    eps = dist[idx]\n",
    "#     print('start = {}, end = {}'.format(start, end))\n",
    "    print('eps_idx = {}, eps = {}'.format(idx, eps))\n",
    "    return idx, eps\n",
    "\n",
    "def try_dbscan(samples, eps, min_pts, metric='euclidean'):\n",
    "    # Based on graph above, use eps = 0.9\n",
    "    db = DBSCAN(eps=eps, min_samples=min_pts, metric=metric).fit(samples)\n",
    "    \n",
    "    core_samples_mask = np.zeros_like(db.labels_, dtype=bool)\n",
    "    core_samples_mask[db.core_sample_indices_] = True\n",
    "    db_labels = db.labels_\n",
    "\n",
    "    n_clusters_ = len(set(db_labels)) - (1 if -1 in db_labels else 0)\n",
    "    n_noise_ = list(db_labels).count(-1)\n",
    "    print('Estimated number of clusters: %d' % n_clusters_)\n",
    "    print('Estimated number of noise points: %d' % n_noise_)\n",
    "    print(\"Silhouette Coefficient: %0.3f\" % metrics.silhouette_score(X, db_labels))\n",
    "    \n",
    "    # Black removed and is used for noise instead.\n",
    "    plt.figure(figsize =(5, 5)) \n",
    "    unique_labels = set(db_labels)\n",
    "    colors = [plt.cm.Spectral(each)\n",
    "              for each in np.linspace(0, 1, len(unique_labels))]\n",
    "\n",
    "    for k, col in zip(unique_labels, colors):\n",
    "        if k == -1:\n",
    "            # Black used for noise.\n",
    "            col = [0, 0, 0, 1]\n",
    "\n",
    "        class_member_mask = (db_labels == k)\n",
    "\n",
    "        xy = X[class_member_mask & core_samples_mask]\n",
    "        plt.plot(xy.iloc[:, 0], xy.iloc[:, 1], 'o', markerfacecolor=tuple(col), markeredgecolor='k', markersize=14)\n",
    "\n",
    "        xy = X[class_member_mask & ~core_samples_mask]\n",
    "        plt.plot(xy.iloc[:, 0], xy.iloc[:, 1], 'o', markerfacecolor=tuple(col),markeredgecolor='k', markersize=6)\n",
    "\n",
    "    plt.title('Estimated number of clusters: %d' % n_clusters_)\n",
    "    plt.show()\n",
    "    return db.labels_, n_clusters_"
   ]
  },
  {
   "cell_type": "markdown",
   "metadata": {},
   "source": [
    "# Prepare data for DBScan"
   ]
  },
  {
   "cell_type": "code",
   "execution_count": 18,
   "metadata": {},
   "outputs": [],
   "source": [
    "# Get X and Y datasets\n",
    "y = df['player_positions']\n",
    "X = df.drop(columns=['Unnamed: 0', 'player_positions', 'player_fifa_api_id',\n",
    "                     'player_positions_general', 'player_positions_list'])\n",
    "\n",
    "labels = []\n",
    "for l in y.values:\n",
    "    if ',' in l:\n",
    "        labels.extend(l.split(\", \"))\n",
    "    else:\n",
    "        labels.append(l)\n",
    "\n",
    "labels, counts = np.unique(labels, return_counts=True)"
   ]
  },
  {
   "cell_type": "code",
   "execution_count": 19,
   "metadata": {},
   "outputs": [
    {
     "name": "stdout",
     "output_type": "stream",
     "text": [
      "eps_idx = 6043, eps = 0.8405484171913807\n"
     ]
    },
    {
     "data": {
      "image/png": "[encoded data removed]",
      "text/plain": [
       "<Figure size 504x360 with 1 Axes>"
      ]
     },
     "metadata": {
      "needs_background": "light"
     },
     "output_type": "display_data"
    }
   ],
   "source": [
    "# mp: minPoints - taken as twice of the number of features\n",
    "mp = len(X.columns) * 2\n",
    "\n",
    "# Calculate the distance of the kth neighbour where k = mp\n",
    "dist = kth_neighbour(mp, X)\n",
    "\n",
    "# Find epsilon(eps) from the kth neighbour dist results\n",
    "idx, eps = find_eps(dist)\n",
    "\n",
    "# Visualise the eps chosen on graph to do a visual check\n",
    "plot_kdist(dist, idx)"
   ]
  }
 ],
 "metadata": {
  "kernelspec": {
   "display_name": "Python 3",
   "language": "python",
   "name": "python3"
  },
  "language_info": {
   "codemirror_mode": {
    "name": "ipython",
    "version": 3
   },
   "file_extension": ".py",
   "mimetype": "text/x-python",
   "name": "python",
   "nbconvert_exporter": "python",
   "pygments_lexer": "ipython3",
   "version": "3.8.3"
  }
 },
 "nbformat": 4,
 "nbformat_minor": 4
}
