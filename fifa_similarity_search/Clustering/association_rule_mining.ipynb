{
 "cells": [
  {
   "cell_type": "code",
   "execution_count": 1,
   "metadata": {},
   "outputs": [],
   "source": [
    "import numpy as np\n",
    "import pandas as pd\n",
    "from apyori import apriori\n",
    "import os"
   ]
  },
  {
   "cell_type": "code",
   "execution_count": 33,
   "metadata": {},
   "outputs": [],
   "source": [
    "# Read in data into a dataframe number of rows - 6358\n",
    "file = 'soccer_player_embeddings_feature_no_labels.csv'\n",
    "df = pd.read_csv('../../datasets/final_embeddings/{}'.format(file))\n",
    "\n",
    "# Create folder to store ARM results\n",
    "SAVE_PATH = './ARM_results'\n",
    "\n",
    "if not os.path.exists(SAVE_PATH):\n",
    "    os.mkdir(SAVE_PATH)"
   ]
  },
  {
   "cell_type": "code",
   "execution_count": 34,
   "metadata": {},
   "outputs": [],
   "source": [
    "# Play around with data\n",
    "# Convert each row's player_positions from a string to a list\n",
    "def convert_to_list(position_str):\n",
    "    position_ls = sorted(position_str.split(\", \"))\n",
    "    return position_ls\n",
    "\n",
    "df['player_positions_list'] = df['player_positions'].apply(lambda x: convert_to_list(x))"
   ]
  },
  {
   "cell_type": "code",
   "execution_count": 35,
   "metadata": {},
   "outputs": [
    {
     "name": "stdout",
     "output_type": "stream",
     "text": [
      "Info on Dataset\n",
      "Mean: 11.8 \t Number of Samples: 6358\n",
      "Average Frequency: 0.0019\n"
     ]
    }
   ],
   "source": [
    "df_mean = df['player_positions'].value_counts().mean()\n",
    "n_samples = len(df['player_positions'])\n",
    "print('Info on Dataset')\n",
    "print('Mean: {:.1f} \\t Number of Samples: {}'.format(df_mean, n_samples))\n",
    "print('Average Frequency: {:.4f}'.format(df_mean/n_samples))"
   ]
  },
  {
   "cell_type": "code",
   "execution_count": 36,
   "metadata": {},
   "outputs": [],
   "source": [
    "# Set parameters\n",
    "MIN_SUPPORT = 0.0043\n",
    "MIN_CONFIDENCE = 0.5\n",
    "MIN_LENGTH = 2\n",
    "\n",
    "old_pos = df['player_positions']"
   ]
  },
  {
   "cell_type": "code",
   "execution_count": 37,
   "metadata": {},
   "outputs": [],
   "source": [
    "# function that takes in original player positions label and return the combined player positions using ARM\n",
    "def assoc_mining(old_pos, replace_all=True, save_link=SAVE_PATH):\n",
    "    # Convert df to list for ARM\n",
    "    old_pos_df = old_pos.apply(lambda x: sorted(x.split(\", \")))\n",
    "    old_pos_ls = list(old_pos_df)\n",
    "    \n",
    "    # Do ARM\n",
    "    # Min support chosen as 0.004 because 27.6 (mean of value counts) /6358 --> ~0.0043\n",
    "    association_rules = list(apriori(old_pos_ls, min_support=MIN_SUPPORT, \n",
    "                                     min_confidence=MIN_CONFIDENCE, min_length=MIN_LENGTH))\n",
    "    \n",
    "    arm_df = pd.DataFrame(columns=['freq_itemset', 'antecedent','consequent','support','confidence', 'lift'])\n",
    "    freq_itemsets = []\n",
    "    # Append results of ARM to pandas DF\n",
    "    for item in association_rules:\n",
    "        freq_itemsets.append(list(item[0]))\n",
    "        for stats in item[2]:\n",
    "            new_row = {'freq_itemset': list(item[0]),\n",
    "                       'antecedent': list(stats[0]),\n",
    "                       'consequent': list(stats[1]),\n",
    "                       'support': item[1],\n",
    "                       'confidence': stats[2],\n",
    "                       'lift': stats[3]}\n",
    "            arm_df = arm_df.append(new_row, ignore_index=True)\n",
    "    if save_link:\n",
    "        arm_df.to_csv('{}/ARM_results.csv'.format(save_link), header=True, index = False)\n",
    "    \n",
    "    new_pos_df = old_pos_df.copy()\n",
    "    \n",
    "    for target in freq_itemsets[:3]:\n",
    "        rep_str = '_'.join(sorted(target))\n",
    "        for i, row in enumerate(old_pos_df):\n",
    "            if replace_all:\n",
    "                # Replace as long as one of the item in frequent itemset exists\n",
    "                if any(item in target for item in row):\n",
    "                    new_row = [x for x in row if x not in target]\n",
    "                    new_row.append(rep_str)\n",
    "                    new_pos_df[i] = sorted(new_row)\n",
    "            else:\n",
    "                # Only replace if all items in frequent itemset exist\n",
    "                if all(item in target for item in row):\n",
    "                    new_row = [x for x in row if x not in target]\n",
    "                    new_row.append(rep_str)\n",
    "                    new_pos_df[i] = sorted(new_row)\n",
    "        \n",
    "            \n",
    "    # Convert new position df to a list\n",
    "    new_pos = list(new_pos_df)\n",
    "    \n",
    "    return new_pos, new_pos_df, arm_df"
   ]
  },
  {
   "cell_type": "code",
   "execution_count": 38,
   "metadata": {},
   "outputs": [],
   "source": [
    "# Select the player_positions column and input into assoc_mining function\n",
    "new_pos, new_pos_df, arm_df = assoc_mining(old_pos)"
   ]
  },
  {
   "cell_type": "code",
   "execution_count": 39,
   "metadata": {},
   "outputs": [
    {
     "data": {
      "text/html": [
       "<div>\n",
       "<style scoped>\n",
       "    .dataframe tbody tr th:only-of-type {\n",
       "        vertical-align: middle;\n",
       "    }\n",
       "\n",
       "    .dataframe tbody tr th {\n",
       "        vertical-align: top;\n",
       "    }\n",
       "\n",
       "    .dataframe thead th {\n",
       "        text-align: right;\n",
       "    }\n",
       "</style>\n",
       "<table border=\"1\" class=\"dataframe\">\n",
       "  <thead>\n",
       "    <tr style=\"text-align: right;\">\n",
       "      <th></th>\n",
       "      <th>freq_itemset</th>\n",
       "      <th>antecedent</th>\n",
       "      <th>consequent</th>\n",
       "      <th>support</th>\n",
       "      <th>confidence</th>\n",
       "      <th>lift</th>\n",
       "    </tr>\n",
       "  </thead>\n",
       "  <tbody>\n",
       "    <tr>\n",
       "      <th>0</th>\n",
       "      <td>[CM, CDM]</td>\n",
       "      <td>[CDM]</td>\n",
       "      <td>[CM]</td>\n",
       "      <td>0.119534</td>\n",
       "      <td>0.692168</td>\n",
       "      <td>3.318855</td>\n",
       "    </tr>\n",
       "    <tr>\n",
       "      <th>1</th>\n",
       "      <td>[CM, CDM]</td>\n",
       "      <td>[CM]</td>\n",
       "      <td>[CDM]</td>\n",
       "      <td>0.119534</td>\n",
       "      <td>0.573152</td>\n",
       "      <td>3.318855</td>\n",
       "    </tr>\n",
       "    <tr>\n",
       "      <th>2</th>\n",
       "      <td>[CF, ST]</td>\n",
       "      <td>[CF]</td>\n",
       "      <td>[ST]</td>\n",
       "      <td>0.019031</td>\n",
       "      <td>0.528384</td>\n",
       "      <td>2.903602</td>\n",
       "    </tr>\n",
       "    <tr>\n",
       "      <th>3</th>\n",
       "      <td>[LWB, LB]</td>\n",
       "      <td>[LWB]</td>\n",
       "      <td>[LB]</td>\n",
       "      <td>0.004718</td>\n",
       "      <td>0.681818</td>\n",
       "      <td>5.749337</td>\n",
       "    </tr>\n",
       "    <tr>\n",
       "      <th>4</th>\n",
       "      <td>[CM, CDM, CAM]</td>\n",
       "      <td>[CDM, CAM]</td>\n",
       "      <td>[CM]</td>\n",
       "      <td>0.017301</td>\n",
       "      <td>0.846154</td>\n",
       "      <td>4.057199</td>\n",
       "    </tr>\n",
       "    <tr>\n",
       "      <th>5</th>\n",
       "      <td>[RM, LM, CAM]</td>\n",
       "      <td>[LM, CAM]</td>\n",
       "      <td>[RM]</td>\n",
       "      <td>0.021076</td>\n",
       "      <td>0.529644</td>\n",
       "      <td>3.668277</td>\n",
       "    </tr>\n",
       "    <tr>\n",
       "      <th>6</th>\n",
       "      <td>[RM, LM, CAM]</td>\n",
       "      <td>[RM, CAM]</td>\n",
       "      <td>[LM]</td>\n",
       "      <td>0.021076</td>\n",
       "      <td>0.551440</td>\n",
       "      <td>3.869821</td>\n",
       "    </tr>\n",
       "    <tr>\n",
       "      <th>7</th>\n",
       "      <td>[CB, CM, CDM]</td>\n",
       "      <td>[CB, CM]</td>\n",
       "      <td>[CDM]</td>\n",
       "      <td>0.009122</td>\n",
       "      <td>0.805556</td>\n",
       "      <td>4.664592</td>\n",
       "    </tr>\n",
       "    <tr>\n",
       "      <th>8</th>\n",
       "      <td>[CM, CDM, RM]</td>\n",
       "      <td>[CDM, RM]</td>\n",
       "      <td>[CM]</td>\n",
       "      <td>0.005348</td>\n",
       "      <td>0.772727</td>\n",
       "      <td>3.705128</td>\n",
       "    </tr>\n",
       "  </tbody>\n",
       "</table>\n",
       "</div>"
      ],
      "text/plain": [
       "     freq_itemset  antecedent consequent   support  confidence      lift\n",
       "0       [CM, CDM]       [CDM]       [CM]  0.119534    0.692168  3.318855\n",
       "1       [CM, CDM]        [CM]      [CDM]  0.119534    0.573152  3.318855\n",
       "2        [CF, ST]        [CF]       [ST]  0.019031    0.528384  2.903602\n",
       "3       [LWB, LB]       [LWB]       [LB]  0.004718    0.681818  5.749337\n",
       "4  [CM, CDM, CAM]  [CDM, CAM]       [CM]  0.017301    0.846154  4.057199\n",
       "5   [RM, LM, CAM]   [LM, CAM]       [RM]  0.021076    0.529644  3.668277\n",
       "6   [RM, LM, CAM]   [RM, CAM]       [LM]  0.021076    0.551440  3.869821\n",
       "7   [CB, CM, CDM]    [CB, CM]      [CDM]  0.009122    0.805556  4.664592\n",
       "8   [CM, CDM, RM]   [CDM, RM]       [CM]  0.005348    0.772727  3.705128"
      ]
     },
     "execution_count": 39,
     "metadata": {},
     "output_type": "execute_result"
    }
   ],
   "source": [
    "# Check the results from ARM\n",
    "arm_df"
   ]
  },
  {
   "cell_type": "code",
   "execution_count": 40,
   "metadata": {},
   "outputs": [
    {
     "data": {
      "text/plain": [
       "0                 [CB]\n",
       "1             [LB_LWB]\n",
       "2             [CB, RB]\n",
       "3                 [CB]\n",
       "4    [CAM, CDM_CM, LM]\n",
       "Name: player_positions, dtype: object"
      ]
     },
     "execution_count": 40,
     "metadata": {},
     "output_type": "execute_result"
    }
   ],
   "source": [
    "# Check the new positions after arm \n",
    "new_pos_df.head()"
   ]
  },
  {
   "cell_type": "code",
   "execution_count": null,
   "metadata": {},
   "outputs": [],
   "source": []
  }
 ],
 "metadata": {
  "kernelspec": {
   "display_name": "Python 3",
   "language": "python",
   "name": "python3"
  },
  "language_info": {
   "codemirror_mode": {
    "name": "ipython",
    "version": 3
   },
   "file_extension": ".py",
   "mimetype": "text/x-python",
   "name": "python",
   "nbconvert_exporter": "python",
   "pygments_lexer": "ipython3",
   "version": "3.8.3"
  }
 },
 "nbformat": 4,
 "nbformat_minor": 4
}
