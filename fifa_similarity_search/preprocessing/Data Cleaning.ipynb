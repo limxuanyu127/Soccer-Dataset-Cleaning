{
 "cells": [
  {
   "cell_type": "code",
   "execution_count": 10,
   "metadata": {},
   "outputs": [],
   "source": [
    "import numpy as np\n",
    "import pandas as pd\n",
    "from sklearn.neighbors import NearestNeighbors\n",
    "\n",
    "import sqlite3\n",
    "\n",
    "from IPython.display import display, HTML\n",
    "pd.set_option('display.max_rows', 500)\n",
    "#REferences: https://towardsdatascience.com/data-handling-using-pandas-cleaning-and-processing-3aa657dc9418\n",
    "#Dataset: https://www.kaggle.com/hugomathien/soccer?"
   ]
  },
  {
   "cell_type": "code",
   "execution_count": 131,
   "metadata": {},
   "outputs": [],
   "source": [
    "with sqlite3.connect('database.sqlite') as con:\n",
    "    countries = pd.read_sql_query(\"SELECT * from Country\", con)\n",
    "    matches = pd.read_sql_query(\"SELECT * from Match\", con)\n",
    "    leagues = pd.read_sql_query(\"SELECT * from League\", con)\n",
    "    teams = pd.read_sql_query(\"SELECT * from Team\", con)\n",
    "    player = pd.read_sql_query(\"SELECT * from Player\",con)\n",
    "    player_attributes = pd.read_sql_query(\"SELECT * from Player_Attributes\",con)\n",
    "    sequence = pd.read_sql_query(\"SELECT * from sqlite_sequence\",con)\n",
    "    team_attributes = pd.read_sql_query(\"SELECT * from Team_Attributes\",con)"
   ]
  },
  {
   "cell_type": "code",
   "execution_count": 177,
   "metadata": {},
   "outputs": [
    {
     "name": "stdout",
     "output_type": "stream",
     "text": [
      "183978\n"
     ]
    }
   ],
   "source": [
    "df = player_attributes\n",
    "df.head(5)\n",
    "print(len(df))"
   ]
  },
  {
   "cell_type": "markdown",
   "metadata": {},
   "source": [
    "## Remove unecessary columns"
   ]
  },
  {
   "cell_type": "code",
   "execution_count": 178,
   "metadata": {},
   "outputs": [],
   "source": [
    "#df = df.drop(columns = ['id', 'player_api_id', 'date'])"
   ]
  },
  {
   "cell_type": "code",
   "execution_count": 4,
   "metadata": {},
   "outputs": [],
   "source": [
    "df = pd.read_csv('datasets/shawn_processed.csv')"
   ]
  },
  {
   "cell_type": "markdown",
   "metadata": {},
   "source": [
    "## Data overview"
   ]
  },
  {
   "cell_type": "code",
   "execution_count": 5,
   "metadata": {},
   "outputs": [
    {
     "name": "stdout",
     "output_type": "stream",
     "text": [
      "id                    0\n",
      "player_fifa_api_id    0\n",
      "player_api_id         0\n",
      "date                  0\n",
      "overall_rating        0\n",
      "                     ..\n",
      "rcb                   0\n",
      "rb                    0\n",
      "player_name           0\n",
      "height                0\n",
      "weight                0\n",
      "Length: 72, dtype: int64\n",
      "percentage of rows with missing data is  0 %\n"
     ]
    },
    {
     "data": {
      "text/html": [
       "<div>\n",
       "<style scoped>\n",
       "    .dataframe tbody tr th:only-of-type {\n",
       "        vertical-align: middle;\n",
       "    }\n",
       "\n",
       "    .dataframe tbody tr th {\n",
       "        vertical-align: top;\n",
       "    }\n",
       "\n",
       "    .dataframe thead th {\n",
       "        text-align: right;\n",
       "    }\n",
       "</style>\n",
       "<table border=\"1\" class=\"dataframe\">\n",
       "  <thead>\n",
       "    <tr style=\"text-align: right;\">\n",
       "      <th></th>\n",
       "      <th>id</th>\n",
       "      <th>player_fifa_api_id</th>\n",
       "      <th>player_api_id</th>\n",
       "      <th>date</th>\n",
       "      <th>overall_rating</th>\n",
       "      <th>potential</th>\n",
       "      <th>preferred_foot</th>\n",
       "      <th>attacking_work_rate</th>\n",
       "      <th>defensive_work_rate</th>\n",
       "      <th>crossing</th>\n",
       "      <th>...</th>\n",
       "      <th>rdm</th>\n",
       "      <th>rwb</th>\n",
       "      <th>lb</th>\n",
       "      <th>lcb</th>\n",
       "      <th>cb</th>\n",
       "      <th>rcb</th>\n",
       "      <th>rb</th>\n",
       "      <th>player_name</th>\n",
       "      <th>height</th>\n",
       "      <th>weight</th>\n",
       "    </tr>\n",
       "  </thead>\n",
       "  <tbody>\n",
       "  </tbody>\n",
       "</table>\n",
       "<p>0 rows × 72 columns</p>\n",
       "</div>"
      ],
      "text/plain": [
       "Empty DataFrame\n",
       "Columns: [id, player_fifa_api_id, player_api_id, date, overall_rating, potential, preferred_foot, attacking_work_rate, defensive_work_rate, crossing, finishing, heading_accuracy, short_passing, volleys, dribbling, curve, free_kick_accuracy, long_passing, ball_control, acceleration, sprint_speed, agility, reactions, balance, shot_power, jumping, stamina, strength, long_shots, aggression, interceptions, positioning, vision, penalties, marking, standing_tackle, sliding_tackle, gk_diving, gk_handling, gk_kicking, gk_positioning, gk_reflexes, player_positions, ls, st, rs, lw, lf, cf, rf, rw, lam, cam, ram, lm, lcm, cm, rcm, rm, lwb, ldm, cdm, rdm, rwb, lb, lcb, cb, rcb, rb, player_name, height, weight]\n",
       "Index: []\n",
       "\n",
       "[0 rows x 72 columns]"
      ]
     },
     "metadata": {},
     "output_type": "display_data"
    }
   ],
   "source": [
    "#missing Values\n",
    "print(df.isna().sum())\n",
    "\n",
    "df_rows_with_na = df[df.isna().any(axis=1)]\n",
    "print(\"percentage of rows with missing data is \", len(df_rows_with_na)*100//len(df), \"%\" )\n",
    "\n",
    "display(df[df[\"volleys\"].isna()])"
   ]
  },
  {
   "cell_type": "markdown",
   "metadata": {},
   "source": [
    "## Wrong Data Values"
   ]
  },
  {
   "cell_type": "markdown",
   "metadata": {},
   "source": [
    "### Categorial Variables "
   ]
  },
  {
   "cell_type": "code",
   "execution_count": 6,
   "metadata": {},
   "outputs": [
    {
     "name": "stdout",
     "output_type": "stream",
     "text": [
      "preferred_foot ['right' 'left']\n",
      "attacking_work_rate ['medium' 'high' 'low' 'None']\n",
      "defensive_work_rate ['medium' 'high' '5' 'low' '1' '0' '2' '6' '3' '9' '4' '7']\n"
     ]
    }
   ],
   "source": [
    "# Print all unique values\n",
    "categorial_columns = ['preferred_foot', 'attacking_work_rate', 'defensive_work_rate']\n",
    "for c in categorial_columns:\n",
    "    print(c, df[c].unique())\n",
    "    \n",
    "# Come up with a set of possible values\n",
    "pos_values_preferred_foot = ['right', 'left']\n",
    "pos_values_attacking_work =['medium', 'high', 'low']\n",
    "pos_values_defensive_work = ['medium', 'high', 'low']\n"
   ]
  },
  {
   "cell_type": "code",
   "execution_count": 7,
   "metadata": {
    "scrolled": false
   },
   "outputs": [],
   "source": [
    "# Note: there are None and \"None\" values\n",
    "def analysePossValues(df, cat_name, pos_values):\n",
    "    \n",
    "    valid_rows = df.loc[df[cat_name].isin(pos_values)]\n",
    "    invalid_rows = df.loc[df[cat_name].isin(pos_values) == False]\n",
    "    print(\"percentage of invalid rows is\", len(invalid_rows)*100//len(df), \"%\")\n",
    "    \n",
    "    #check distribution\n",
    "    valid_rows[cat_name].value_counts().plot(kind='bar')\n",
    "\n",
    "def subWithMode(df, cat_name, pos_values):\n",
    "    print('values before change\\n', df[cat_name].value_counts())\n",
    "    \n",
    "    valid_rows = df.loc[df[cat_name].isin(pos_values)]\n",
    "    value_counts = valid_rows[cat_name].value_counts()\n",
    "    mode_label = value_counts.idxmax()\n",
    "    print('mode label is', mode_label)\n",
    "    \n",
    "    df.loc[df[cat_name].isin(pos_values) == False, cat_name] = mode_label\n",
    "    print('values after change\\n', df[cat_name].value_counts())\n",
    "    return df\n",
    "    \n",
    "    \n",
    "    \n"
   ]
  },
  {
   "cell_type": "code",
   "execution_count": 8,
   "metadata": {},
   "outputs": [
    {
     "name": "stdout",
     "output_type": "stream",
     "text": [
      "values before change\n",
      " right    4805\n",
      "left     1553\n",
      "Name: preferred_foot, dtype: int64\n",
      "mode label is right\n",
      "values after change\n",
      " right    4805\n",
      "left     1553\n",
      "Name: preferred_foot, dtype: int64\n",
      "values before change\n",
      " medium    4159\n",
      "high      1797\n",
      "low        314\n",
      "None        88\n",
      "Name: attacking_work_rate, dtype: int64\n",
      "mode label is medium\n",
      "values after change\n",
      " medium    4247\n",
      "high      1797\n",
      "low        314\n",
      "Name: attacking_work_rate, dtype: int64\n",
      "values before change\n",
      " medium    4520\n",
      "high      1134\n",
      "low        616\n",
      "1           23\n",
      "2           15\n",
      "7           10\n",
      "0           10\n",
      "5            9\n",
      "6            7\n",
      "3            6\n",
      "9            5\n",
      "4            3\n",
      "Name: defensive_work_rate, dtype: int64\n",
      "mode label is medium\n",
      "values after change\n",
      " medium    4608\n",
      "high      1134\n",
      "low        616\n",
      "Name: defensive_work_rate, dtype: int64\n",
      "medium    4608\n",
      "high      1134\n",
      "low        616\n",
      "Name: defensive_work_rate, dtype: int64\n"
     ]
    }
   ],
   "source": [
    "df = subWithMode(df,'preferred_foot' , pos_values_preferred_foot)\n",
    "df = subWithMode(df,'attacking_work_rate' , pos_values_attacking_work)\n",
    "df = subWithMode(df,'defensive_work_rate' , pos_values_defensive_work)\n",
    "print(df['defensive_work_rate'].value_counts())"
   ]
  },
  {
   "cell_type": "markdown",
   "metadata": {},
   "source": [
    "### Numerical Variables"
   ]
  },
  {
   "cell_type": "code",
   "execution_count": 11,
   "metadata": {},
   "outputs": [
    {
     "name": "stdout",
     "output_type": "stream",
     "text": [
      "heading_accuracy      float64\n",
      "player_api_id           int64\n",
      "long_passing          float64\n",
      "rm                      int64\n",
      "penalties             float64\n",
      "rw                      int64\n",
      "player_name            object\n",
      "reactions             float64\n",
      "strength              float64\n",
      "marking               float64\n",
      "gk_kicking            float64\n",
      "cf                      int64\n",
      "cam                     int64\n",
      "lw                      int64\n",
      "stamina               float64\n",
      "finishing             float64\n",
      "agility               float64\n",
      "rwb                     int64\n",
      "gk_positioning        float64\n",
      "free_kick_accuracy    float64\n",
      "cm                      int64\n",
      "rcb                     int64\n",
      "long_shots            float64\n",
      "date                   object\n",
      "rdm                     int64\n",
      "curve                 float64\n",
      "overall_rating        float64\n",
      "lcm                     int64\n",
      "sliding_tackle        float64\n",
      "player_positions       object\n",
      "lwb                     int64\n",
      "rs                      int64\n",
      "st                      int64\n",
      "acceleration          float64\n",
      "cb                      int64\n",
      "dribbling             float64\n",
      "crossing              float64\n",
      "lf                      int64\n",
      "shot_power            float64\n",
      "lm                      int64\n",
      "aggression            float64\n",
      "short_passing         float64\n",
      "ldm                     int64\n",
      "rb                      int64\n",
      "balance               float64\n",
      "interceptions         float64\n",
      "potential             float64\n",
      "ram                     int64\n",
      "jumping               float64\n",
      "lcb                     int64\n",
      "vision                float64\n",
      "standing_tackle       float64\n",
      "lb                      int64\n",
      "sprint_speed          float64\n",
      "ls                      int64\n",
      "gk_reflexes           float64\n",
      "gk_diving             float64\n",
      "lam                     int64\n",
      "gk_handling           float64\n",
      "height                float64\n",
      "rf                      int64\n",
      "cdm                     int64\n",
      "positioning           float64\n",
      "weight                  int64\n",
      "volleys               float64\n",
      "rcm                     int64\n",
      "id                      int64\n",
      "ball_control          float64\n",
      "dtype: object\n"
     ]
    },
    {
     "data": {
      "text/html": [
       "<div>\n",
       "<style scoped>\n",
       "    .dataframe tbody tr th:only-of-type {\n",
       "        vertical-align: middle;\n",
       "    }\n",
       "\n",
       "    .dataframe tbody tr th {\n",
       "        vertical-align: top;\n",
       "    }\n",
       "\n",
       "    .dataframe thead th {\n",
       "        text-align: right;\n",
       "    }\n",
       "</style>\n",
       "<table border=\"1\" class=\"dataframe\">\n",
       "  <thead>\n",
       "    <tr style=\"text-align: right;\">\n",
       "      <th></th>\n",
       "      <th>heading_accuracy</th>\n",
       "      <th>player_api_id</th>\n",
       "      <th>long_passing</th>\n",
       "      <th>rm</th>\n",
       "      <th>penalties</th>\n",
       "      <th>rw</th>\n",
       "      <th>player_name</th>\n",
       "      <th>reactions</th>\n",
       "      <th>strength</th>\n",
       "      <th>marking</th>\n",
       "      <th>...</th>\n",
       "      <th>gk_handling</th>\n",
       "      <th>height</th>\n",
       "      <th>rf</th>\n",
       "      <th>cdm</th>\n",
       "      <th>positioning</th>\n",
       "      <th>weight</th>\n",
       "      <th>volleys</th>\n",
       "      <th>rcm</th>\n",
       "      <th>id</th>\n",
       "      <th>ball_control</th>\n",
       "    </tr>\n",
       "  </thead>\n",
       "  <tbody>\n",
       "    <tr>\n",
       "      <th>0</th>\n",
       "      <td>71.0</td>\n",
       "      <td>505942</td>\n",
       "      <td>64.0</td>\n",
       "      <td>53</td>\n",
       "      <td>48.0</td>\n",
       "      <td>51</td>\n",
       "      <td>Aaron Appindangoye</td>\n",
       "      <td>47.0</td>\n",
       "      <td>76.0</td>\n",
       "      <td>65.0</td>\n",
       "      <td>...</td>\n",
       "      <td>11.0</td>\n",
       "      <td>182.88</td>\n",
       "      <td>51</td>\n",
       "      <td>58</td>\n",
       "      <td>45.0</td>\n",
       "      <td>187</td>\n",
       "      <td>44.0</td>\n",
       "      <td>53</td>\n",
       "      <td>1</td>\n",
       "      <td>49.0</td>\n",
       "    </tr>\n",
       "    <tr>\n",
       "      <th>1</th>\n",
       "      <td>58.0</td>\n",
       "      <td>155782</td>\n",
       "      <td>68.0</td>\n",
       "      <td>69</td>\n",
       "      <td>59.0</td>\n",
       "      <td>67</td>\n",
       "      <td>Aaron Cresswell</td>\n",
       "      <td>67.0</td>\n",
       "      <td>56.0</td>\n",
       "      <td>76.0</td>\n",
       "      <td>...</td>\n",
       "      <td>7.0</td>\n",
       "      <td>170.18</td>\n",
       "      <td>65</td>\n",
       "      <td>70</td>\n",
       "      <td>60.0</td>\n",
       "      <td>146</td>\n",
       "      <td>40.0</td>\n",
       "      <td>67</td>\n",
       "      <td>6</td>\n",
       "      <td>71.0</td>\n",
       "    </tr>\n",
       "    <tr>\n",
       "      <th>2</th>\n",
       "      <td>68.0</td>\n",
       "      <td>30572</td>\n",
       "      <td>61.0</td>\n",
       "      <td>50</td>\n",
       "      <td>37.0</td>\n",
       "      <td>48</td>\n",
       "      <td>Aaron Galindo</td>\n",
       "      <td>57.0</td>\n",
       "      <td>90.0</td>\n",
       "      <td>72.0</td>\n",
       "      <td>...</td>\n",
       "      <td>12.0</td>\n",
       "      <td>182.88</td>\n",
       "      <td>47</td>\n",
       "      <td>65</td>\n",
       "      <td>26.0</td>\n",
       "      <td>198</td>\n",
       "      <td>48.0</td>\n",
       "      <td>56</td>\n",
       "      <td>65</td>\n",
       "      <td>62.0</td>\n",
       "    </tr>\n",
       "  </tbody>\n",
       "</table>\n",
       "<p>3 rows × 68 columns</p>\n",
       "</div>"
      ],
      "text/plain": [
       "   heading_accuracy  player_api_id  long_passing  rm  penalties  rw  \\\n",
       "0              71.0         505942          64.0  53       48.0  51   \n",
       "1              58.0         155782          68.0  69       59.0  67   \n",
       "2              68.0          30572          61.0  50       37.0  48   \n",
       "\n",
       "          player_name  reactions  strength  marking  ...  gk_handling  height  \\\n",
       "0  Aaron Appindangoye       47.0      76.0     65.0  ...         11.0  182.88   \n",
       "1     Aaron Cresswell       67.0      56.0     76.0  ...          7.0  170.18   \n",
       "2       Aaron Galindo       57.0      90.0     72.0  ...         12.0  182.88   \n",
       "\n",
       "   rf  cdm  positioning  weight  volleys  rcm  id  ball_control  \n",
       "0  51   58         45.0     187     44.0   53   1          49.0  \n",
       "1  65   70         60.0     146     40.0   67   6          71.0  \n",
       "2  47   65         26.0     198     48.0   56  65          62.0  \n",
       "\n",
       "[3 rows x 68 columns]"
      ]
     },
     "metadata": {},
     "output_type": "display_data"
    }
   ],
   "source": [
    "# Check if all are float\n",
    "id_column = \"player_fifa_api_id\"\n",
    "numerical_columns = list(set(df.columns) - set(categorial_columns) - set([id_column]))\n",
    "print(df[numerical_columns].dtypes)\n",
    "display(df[numerical_columns].head(3))"
   ]
  },
  {
   "cell_type": "code",
   "execution_count": 12,
   "metadata": {},
   "outputs": [
    {
     "name": "stdout",
     "output_type": "stream",
     "text": [
      "heading_accuracy      0\n",
      "player_api_id         0\n",
      "long_passing          0\n",
      "rm                    0\n",
      "penalties             0\n",
      "rw                    0\n",
      "player_name           0\n",
      "reactions             0\n",
      "strength              0\n",
      "marking               0\n",
      "gk_kicking            0\n",
      "cf                    0\n",
      "cam                   0\n",
      "lw                    0\n",
      "stamina               0\n",
      "finishing             0\n",
      "agility               0\n",
      "rwb                   0\n",
      "gk_positioning        0\n",
      "free_kick_accuracy    0\n",
      "cm                    0\n",
      "rcb                   0\n",
      "long_shots            0\n",
      "date                  0\n",
      "rdm                   0\n",
      "curve                 0\n",
      "overall_rating        0\n",
      "lcm                   0\n",
      "sliding_tackle        0\n",
      "player_positions      0\n",
      "lwb                   0\n",
      "rs                    0\n",
      "st                    0\n",
      "acceleration          0\n",
      "cb                    0\n",
      "dribbling             0\n",
      "crossing              0\n",
      "lf                    0\n",
      "shot_power            0\n",
      "lm                    0\n",
      "aggression            0\n",
      "short_passing         0\n",
      "ldm                   0\n",
      "rb                    0\n",
      "balance               0\n",
      "interceptions         0\n",
      "potential             0\n",
      "ram                   0\n",
      "jumping               0\n",
      "lcb                   0\n",
      "vision                0\n",
      "standing_tackle       0\n",
      "lb                    0\n",
      "sprint_speed          0\n",
      "ls                    0\n",
      "gk_reflexes           0\n",
      "gk_diving             0\n",
      "lam                   0\n",
      "gk_handling           0\n",
      "height                0\n",
      "rf                    0\n",
      "cdm                   0\n",
      "positioning           0\n",
      "weight                0\n",
      "volleys               0\n",
      "rcm                   0\n",
      "id                    0\n",
      "ball_control          0\n",
      "dtype: int64\n"
     ]
    }
   ],
   "source": [
    "column_check = df[numerical_columns].isna().sum()\n",
    "print(column_check)"
   ]
  },
  {
   "cell_type": "code",
   "execution_count": 13,
   "metadata": {},
   "outputs": [
    {
     "name": "stdout",
     "output_type": "stream",
     "text": [
      "0\n",
      "0\n"
     ]
    }
   ],
   "source": [
    "# Confirm that the 836/2713 missing values belong to the same record\n",
    "\n",
    "column_check = df[numerical_columns].isna().sum()\n",
    "missing_columns_set1 = list(column_check[column_check == 836].index)\n",
    "missing_columns_set2 = list(column_check[column_check == 2713].index)\n",
    "\n",
    "df_set1 = df[missing_columns_set1]\n",
    "df_set2 = df[missing_columns_set2]\n",
    "\n",
    "df1_rows_na = df_set1[df_set1.isna().any(axis=1)]\n",
    "df2_rows_na = df_set2[df_set2.isna().any(axis=1)]\n",
    "\n",
    "print(len(df1_rows_na))\n",
    "print(len(df2_rows_na))\n"
   ]
  },
  {
   "cell_type": "code",
   "execution_count": 14,
   "metadata": {},
   "outputs": [
    {
     "name": "stdout",
     "output_type": "stream",
     "text": [
      "number of rows to drop is 0\n"
     ]
    }
   ],
   "source": [
    "#Full outer join\n",
    "rows_to_drop = df1_rows_na.merge(df2_rows_na, left_index = True, right_index=True, how=\"outer\")\n",
    "print(\"number of rows to drop is\", len(rows_to_drop))"
   ]
  },
  {
   "cell_type": "code",
   "execution_count": 15,
   "metadata": {},
   "outputs": [
    {
     "name": "stdout",
     "output_type": "stream",
     "text": [
      "initial df length is  6358\n",
      "new df length is  6358\n",
      "heading_accuracy      0\n",
      "player_api_id         0\n",
      "long_passing          0\n",
      "rm                    0\n",
      "penalties             0\n",
      "rw                    0\n",
      "player_name           0\n",
      "reactions             0\n",
      "strength              0\n",
      "marking               0\n",
      "gk_kicking            0\n",
      "cf                    0\n",
      "cam                   0\n",
      "lw                    0\n",
      "stamina               0\n",
      "finishing             0\n",
      "agility               0\n",
      "rwb                   0\n",
      "gk_positioning        0\n",
      "free_kick_accuracy    0\n",
      "cm                    0\n",
      "rcb                   0\n",
      "long_shots            0\n",
      "date                  0\n",
      "rdm                   0\n",
      "curve                 0\n",
      "overall_rating        0\n",
      "lcm                   0\n",
      "sliding_tackle        0\n",
      "player_positions      0\n",
      "lwb                   0\n",
      "rs                    0\n",
      "st                    0\n",
      "acceleration          0\n",
      "cb                    0\n",
      "dribbling             0\n",
      "crossing              0\n",
      "lf                    0\n",
      "shot_power            0\n",
      "lm                    0\n",
      "aggression            0\n",
      "short_passing         0\n",
      "ldm                   0\n",
      "rb                    0\n",
      "balance               0\n",
      "interceptions         0\n",
      "potential             0\n",
      "ram                   0\n",
      "jumping               0\n",
      "lcb                   0\n",
      "vision                0\n",
      "standing_tackle       0\n",
      "lb                    0\n",
      "sprint_speed          0\n",
      "ls                    0\n",
      "gk_reflexes           0\n",
      "gk_diving             0\n",
      "lam                   0\n",
      "gk_handling           0\n",
      "height                0\n",
      "rf                    0\n",
      "cdm                   0\n",
      "positioning           0\n",
      "weight                0\n",
      "volleys               0\n",
      "rcm                   0\n",
      "id                    0\n",
      "ball_control          0\n",
      "dtype: int64\n"
     ]
    }
   ],
   "source": [
    "print(\"initial df length is \", len(df))\n",
    "# df = df.drop(df1_rows_na.index)\n",
    "# df = df.drop(df2_rows_na.index)\n",
    "df = df.drop(rows_to_drop.index)\n",
    "print(\"new df length is \", len(df))\n",
    "\n",
    "#double check\n",
    "column_check = df[numerical_columns].isna().sum()\n",
    "print(column_check)"
   ]
  },
  {
   "cell_type": "code",
   "execution_count": 16,
   "metadata": {},
   "outputs": [
    {
     "name": "stdout",
     "output_type": "stream",
     "text": [
      "right    4805\n",
      "left     1553\n",
      "Name: preferred_foot, dtype: int64\n"
     ]
    }
   ],
   "source": [
    "print(df['preferred_foot'].value_counts())"
   ]
  },
  {
   "cell_type": "markdown",
   "metadata": {},
   "source": [
    "## One-hot encode"
   ]
  },
  {
   "cell_type": "code",
   "execution_count": 17,
   "metadata": {},
   "outputs": [],
   "source": [
    "#one hot encode everything!\n",
    "def one_hot_encode(df, column_name):\n",
    "    temp = df.copy()\n",
    "    df = df.drop(column_name,axis = 1)\n",
    "    df = df.join(pd.get_dummies(temp[column_name], prefix=column_name))\n",
    "    return df\n",
    "# df = one_hot_encode(df, col_name)"
   ]
  },
  {
   "cell_type": "code",
   "execution_count": 18,
   "metadata": {},
   "outputs": [],
   "source": [
    "for col_name in categorial_columns:\n",
    "    df = one_hot_encode(df, col_name)"
   ]
  },
  {
   "cell_type": "markdown",
   "metadata": {},
   "source": [
    "## Final checks and saving"
   ]
  },
  {
   "cell_type": "code",
   "execution_count": 19,
   "metadata": {},
   "outputs": [
    {
     "data": {
      "text/plain": [
       "id                            0\n",
       "player_fifa_api_id            0\n",
       "player_api_id                 0\n",
       "date                          0\n",
       "overall_rating                0\n",
       "potential                     0\n",
       "crossing                      0\n",
       "finishing                     0\n",
       "heading_accuracy              0\n",
       "short_passing                 0\n",
       "volleys                       0\n",
       "dribbling                     0\n",
       "curve                         0\n",
       "free_kick_accuracy            0\n",
       "long_passing                  0\n",
       "ball_control                  0\n",
       "acceleration                  0\n",
       "sprint_speed                  0\n",
       "agility                       0\n",
       "reactions                     0\n",
       "balance                       0\n",
       "shot_power                    0\n",
       "jumping                       0\n",
       "stamina                       0\n",
       "strength                      0\n",
       "long_shots                    0\n",
       "aggression                    0\n",
       "interceptions                 0\n",
       "positioning                   0\n",
       "vision                        0\n",
       "penalties                     0\n",
       "marking                       0\n",
       "standing_tackle               0\n",
       "sliding_tackle                0\n",
       "gk_diving                     0\n",
       "gk_handling                   0\n",
       "gk_kicking                    0\n",
       "gk_positioning                0\n",
       "gk_reflexes                   0\n",
       "player_positions              0\n",
       "ls                            0\n",
       "st                            0\n",
       "rs                            0\n",
       "lw                            0\n",
       "lf                            0\n",
       "cf                            0\n",
       "rf                            0\n",
       "rw                            0\n",
       "lam                           0\n",
       "cam                           0\n",
       "ram                           0\n",
       "lm                            0\n",
       "lcm                           0\n",
       "cm                            0\n",
       "rcm                           0\n",
       "rm                            0\n",
       "lwb                           0\n",
       "ldm                           0\n",
       "cdm                           0\n",
       "rdm                           0\n",
       "rwb                           0\n",
       "lb                            0\n",
       "lcb                           0\n",
       "cb                            0\n",
       "rcb                           0\n",
       "rb                            0\n",
       "player_name                   0\n",
       "height                        0\n",
       "weight                        0\n",
       "preferred_foot_left           0\n",
       "preferred_foot_right          0\n",
       "attacking_work_rate_high      0\n",
       "attacking_work_rate_low       0\n",
       "attacking_work_rate_medium    0\n",
       "defensive_work_rate_high      0\n",
       "defensive_work_rate_low       0\n",
       "defensive_work_rate_medium    0\n",
       "dtype: int64"
      ]
     },
     "execution_count": 19,
     "metadata": {},
     "output_type": "execute_result"
    }
   ],
   "source": [
    "df.isna().sum()"
   ]
  },
  {
   "cell_type": "code",
   "execution_count": 25,
   "metadata": {},
   "outputs": [
    {
     "data": {
      "text/plain": [
       "Index(['id', 'player_fifa_api_id', 'player_api_id', 'date', 'overall_rating',\n",
       "       'potential', 'crossing', 'finishing', 'heading_accuracy',\n",
       "       'short_passing', 'volleys', 'dribbling', 'curve', 'free_kick_accuracy',\n",
       "       'long_passing', 'ball_control', 'acceleration', 'sprint_speed',\n",
       "       'agility', 'reactions', 'balance', 'shot_power', 'jumping', 'stamina',\n",
       "       'strength', 'long_shots', 'aggression', 'interceptions', 'positioning',\n",
       "       'vision', 'penalties', 'marking', 'standing_tackle', 'sliding_tackle',\n",
       "       'gk_diving', 'gk_handling', 'gk_kicking', 'gk_positioning',\n",
       "       'gk_reflexes', 'player_positions', 'ls', 'st', 'rs', 'lw', 'lf', 'cf',\n",
       "       'rf', 'rw', 'lam', 'cam', 'ram', 'lm', 'lcm', 'cm', 'rcm', 'rm', 'lwb',\n",
       "       'ldm', 'cdm', 'rdm', 'rwb', 'lb', 'lcb', 'cb', 'rcb', 'rb',\n",
       "       'player_name', 'height', 'weight', 'preferred_foot_left',\n",
       "       'preferred_foot_right', 'attacking_work_rate_high',\n",
       "       'attacking_work_rate_low', 'attacking_work_rate_medium',\n",
       "       'defensive_work_rate_high', 'defensive_work_rate_low',\n",
       "       'defensive_work_rate_medium'],\n",
       "      dtype='object')"
      ]
     },
     "execution_count": 25,
     "metadata": {},
     "output_type": "execute_result"
    }
   ],
   "source": [
    "df.columns"
   ]
  },
  {
   "cell_type": "code",
   "execution_count": 24,
   "metadata": {},
   "outputs": [
    {
     "data": {
      "text/plain": [
       "array([[1, 218353, 505942, '2016-02-18', 67.0, 71.0, 49.0, 44.0, 71.0,\n",
       "        61.0, 44.0, 51.0, 45.0, 39.0, 64.0, 49.0, 60.0, 64.0, 59.0, 47.0,\n",
       "        65.0, 55.0, 58.0, 54.0, 76.0, 35.0, 71.0, 70.0, 45.0, 54.0, 48.0,\n",
       "        65.0, 69.0, 69.0, 6.0, 11.0, 10.0, 8.0, 8.0, 'CB', 53, 53, 53,\n",
       "        51, 51, 51, 51, 51, 52, 52, 52, 53, 53, 53, 53, 53, 56, 58, 58,\n",
       "        58, 56, 58, 62, 62, 62, 58, 'Aaron Appindangoye', 182.88, 187, 0,\n",
       "        1, 0, 0, 1, 0, 0, 1]], dtype=object)"
      ]
     },
     "execution_count": 24,
     "metadata": {},
     "output_type": "execute_result"
    }
   ],
   "source": [
    "df.head(1).values"
   ]
  },
  {
   "cell_type": "code",
   "execution_count": 21,
   "metadata": {},
   "outputs": [],
   "source": [
    "csv_path = \"datasets/cleaned_soccer_data_2016_v2.csv\"\n",
    "df.to_csv(csv_path)"
   ]
  },
  {
   "cell_type": "markdown",
   "metadata": {},
   "source": [
    "## Testing"
   ]
  },
  {
   "cell_type": "code",
   "execution_count": null,
   "metadata": {},
   "outputs": [],
   "source": [
    "# #Find KNN for replacement\n",
    "# def replaceNA(df, cat_name):\n",
    "\n",
    "#     numerical_df = df.drop(columns=['player_fifa_api_id', 'preferred_foot', 'attacking_work_rate', 'defensive_work_rate'])\n",
    "#     print(numerical_df.isna().sum())\n",
    "# #         knn = NearestNeighbors(n_neighbors=5)\n",
    "# #     knn.fit(df.drop(columns=['player_fifa_api_id', 'preferred_foot', 'attacking_work_rate', 'defensive_work_rate']))\n",
    "# #     knn.kneighbors(X[0], return_distance=False)\n",
    "\n",
    "# replaceNA(df, 'attacking_work_rate')"
   ]
  },
  {
   "cell_type": "code",
   "execution_count": 71,
   "metadata": {},
   "outputs": [
    {
     "name": "stdout",
     "output_type": "stream",
     "text": [
      "col1      int64\n",
      "col2       bool\n",
      "col3     object\n",
      "col4    float64\n",
      "dtype: object\n"
     ]
    }
   ],
   "source": [
    "df_test = pd.DataFrame([[1, True, 'dsfasd', 51.314],\n",
    "                   [51, False, '56345', 56.1234]],\n",
    "                  columns=['col1', 'col2', 'col3', 'col4'])\n",
    "\n",
    "res = df_test.dtypes\n",
    "\n",
    "print(res)"
   ]
  },
  {
   "cell_type": "code",
   "execution_count": null,
   "metadata": {},
   "outputs": [],
   "source": []
  }
 ],
 "metadata": {
  "kernelspec": {
   "display_name": "Python 3",
   "language": "python",
   "name": "python3"
  },
  "language_info": {
   "codemirror_mode": {
    "name": "ipython",
    "version": 3
   },
   "file_extension": ".py",
   "mimetype": "text/x-python",
   "name": "python",
   "nbconvert_exporter": "python",
   "pygments_lexer": "ipython3",
   "version": "3.7.9"
  }
 },
 "nbformat": 4,
 "nbformat_minor": 4
}
